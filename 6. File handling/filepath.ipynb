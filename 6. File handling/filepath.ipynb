{
 "cells": [
  {
   "cell_type": "code",
   "execution_count": null,
   "metadata": {},
   "outputs": [
    {
     "name": "stdout",
     "output_type": "stream",
     "text": [
      "Directory package1 created\n"
     ]
    }
   ],
   "source": [
    "import os\n",
    "# create new directory\n",
    "new_directory = \"package1\"\n",
    "os.mkdir(new_directory)\n",
    "print(f'Directory {new_directory} created')"
   ]
  },
  {
   "cell_type": "code",
   "execution_count": 4,
   "metadata": {},
   "outputs": [
    {
     "data": {
      "text/plain": [
       "'c:\\\\Users\\\\soodk\\\\OneDrive\\\\Desktop\\\\python\\\\6. File handling'"
      ]
     },
     "execution_count": 4,
     "metadata": {},
     "output_type": "execute_result"
    }
   ],
   "source": [
    "os.getcwd()"
   ]
  },
  {
   "cell_type": "code",
   "execution_count": 6,
   "metadata": {},
   "outputs": [
    {
     "name": "stdout",
     "output_type": "stream",
     "text": [
      "['activity.log', 'destination.txt', 'destination1.txt', 'example.bin', 'example.txt', 'filehandlingsolution.ipynb', 'filepath.ipynb', 'file_operations.ipynb', 'merged.txt', 'out.txt', 'output.txt', 'package', 'package1', 'source.txt']\n"
     ]
    }
   ],
   "source": [
    "# Listing Files and Directories\n",
    "items = os.listdir('.') # Dot means looking at the current working location\n",
    "print(items)\n"
   ]
  },
  {
   "cell_type": "code",
   "execution_count": 5,
   "metadata": {},
   "outputs": [
    {
     "name": "stdout",
     "output_type": "stream",
     "text": [
      "c:\\Users\\soodk\\OneDrive\\Desktop\\python\\6. File handling\\folder\\file.txt\n"
     ]
    }
   ],
   "source": [
    "# Joining Paths\n",
    "dir_name = \"folder\"\n",
    "file_name = 'file.txt'\n",
    "full_path = os.path.join(os.getcwd(),dir_name,file_name)\n",
    "print(full_path)"
   ]
  },
  {
   "cell_type": "code",
   "execution_count": 16,
   "metadata": {},
   "outputs": [
    {
     "name": "stdout",
     "output_type": "stream",
     "text": [
      "the path 'example.txt' exists\n"
     ]
    }
   ],
   "source": [
    "import os\n",
    "path = 'example.txt'\n",
    "if os.path.exists(path):\n",
    "    print(f\"the path '{path}' exists\")\n",
    "else:\n",
    "    print(f\"the path '{path}' does not exists\")"
   ]
  },
  {
   "cell_type": "code",
   "execution_count": 10,
   "metadata": {},
   "outputs": [
    {
     "name": "stdout",
     "output_type": "stream",
     "text": [
      "path :example.txt is a file\n"
     ]
    }
   ],
   "source": [
    "# Checking if the path is directory or file\n",
    "import os\n",
    "path = 'example.txt'\n",
    "if os.path.isfile(path):\n",
    "    print(f'path :{path} is a file')\n",
    "elif os.path.isdir(path):\n",
    "    print(f'path :{path} is a directory')\n",
    "else:\n",
    "    print(f'the path : {path} is neither file nor directory')"
   ]
  },
  {
   "cell_type": "code",
   "execution_count": 14,
   "metadata": {},
   "outputs": [
    {
     "name": "stdout",
     "output_type": "stream",
     "text": [
      "path :out.txt is a file\n"
     ]
    }
   ],
   "source": [
    "# Checking if the path is directory or file\n",
    "import os\n",
    "f = 'out.txt'\n",
    "if os.path.isfile(f):\n",
    "    print(f'path :{f} is a file')\n",
    "elif os.path.isdir(f):\n",
    "    print(f'path :{f} is a directory')\n",
    "else:\n",
    "    print(f'the path : {f} is neither file nor directory')"
   ]
  },
  {
   "cell_type": "markdown",
   "metadata": {},
   "source": [
    "Assignments"
   ]
  },
  {
   "cell_type": "code",
   "execution_count": null,
   "metadata": {},
   "outputs": [
    {
     "ename": "SyntaxError",
     "evalue": "invalid syntax (3118288378.py, line 5)",
     "output_type": "error",
     "traceback": [
      "\u001b[1;36m  Cell \u001b[1;32mIn[11], line 5\u001b[1;36m\u001b[0m\n\u001b[1;33m    Write a function that reads the contents of a file named `sample.txt` and prints each line.\u001b[0m\n\u001b[1;37m          ^\u001b[0m\n\u001b[1;31mSyntaxError\u001b[0m\u001b[1;31m:\u001b[0m invalid syntax\n"
     ]
    }
   ],
   "source": [
    "# Module: File Handling Assignments\n",
    "## Lesson: File Handling and Operations\n",
    "\n",
    "\n",
    "\n",
    "### Assignment 11: Creating a Log File\n",
    "\n",
    "Write a function that creates a log file named `activity.log` and writes log messages with timestamps.\n",
    "\n",
    "### Assignment 12: Binary File Operations\n",
    "\n",
    "Write a function that reads a binary file named `image.bin` and writes its contents to another binary file named `copy_image.bin`.\n",
    "\n",
    "### Assignment 13: CSV File Operations\n",
    "\n",
    "Write a function that reads a CSV file named `data.csv` and prints its contents as a list of dictionaries.\n",
    "\n",
    "### Assignment 14: JSON File Operations\n",
    "\n",
    "Write a function that reads a JSON file named `data.json` and prints its contents as a Python dictionary.\n",
    "\n",
    "### Assignment 15: File Permission Handling\n",
    "\n",
    "Write a function that attempts to read a file named `protected.txt` and handles any permission errors gracefully by printing an error message."
   ]
  },
  {
   "cell_type": "code",
   "execution_count": 29,
   "metadata": {},
   "outputs": [
    {
     "name": "stdout",
     "output_type": "stream",
     "text": [
      "Hello world\n",
      "This is a new line\n"
     ]
    }
   ],
   "source": [
    "### Assignment 1: Reading a File\n",
    "\n",
    "# Write a function that reads the contents of a file named `sample.txt` and prints each line.\n",
    "def read_file (filename):\n",
    "    with open(filename,'r') as file:\n",
    "        for line in file:\n",
    "            print(line.strip())\n",
    "\n",
    "read_file('example.txt')"
   ]
  },
  {
   "cell_type": "code",
   "execution_count": 33,
   "metadata": {},
   "outputs": [],
   "source": [
    "### Assignment 2: Writing to a File\n",
    "\n",
    "# Write a function that writes a list of strings to a file named `output.txt`,\n",
    "#  with each string on a new line.\n",
    "def write_file(lines,filename):\n",
    "    with open (filename,mode = 'w') as file:\n",
    "        for line in lines:\n",
    "            file.write(line + '\\n')\n",
    "write_file(['hi','n','o','w'],'output.txt')"
   ]
  },
  {
   "cell_type": "code",
   "execution_count": 35,
   "metadata": {},
   "outputs": [],
   "source": [
    "### Assignment 3: Copying a File\n",
    "\n",
    "# Write a function that copies the contents of a file named `source.txt` to a new file \n",
    "# named `destination.txt`.\n",
    "\n",
    "def copy_file(source,destination):\n",
    "    with open (source,'r') as src:\n",
    "        with open(destination,'w') as des:\n",
    "            des.write(src.read())\n",
    "\n",
    "copy_file('source.txt','destination1.txt')"
   ]
  },
  {
   "cell_type": "code",
   "execution_count": 36,
   "metadata": {},
   "outputs": [],
   "source": [
    "### Assignment 4: Appending to a File\n",
    "\n",
    "# Write a function that appends a given string to the end of a file named `log.txt`.\n",
    "def append_file(text,filename):\n",
    "    with open (filename,'a') as file:\n",
    "        file.write(text+'\\n')\n",
    "append_file('Rabb nu mileya rab','source.txt')"
   ]
  },
  {
   "cell_type": "code",
   "execution_count": 10,
   "metadata": {},
   "outputs": [
    {
     "data": {
      "text/plain": [
       "36"
      ]
     },
     "execution_count": 10,
     "metadata": {},
     "output_type": "execute_result"
    }
   ],
   "source": [
    "### Assignment 5: Counting Words in a File\n",
    "\n",
    "# Write a function that reads the contents of a file named `document.txt` and\n",
    "#  returns the number of words in the file.\n",
    "def countwords(filename):\n",
    "    with open(filename,'r') as file:\n",
    "        text = file.read()\n",
    "        words = text.split()\n",
    "        return len(words)\n",
    "\n",
    "countwords('source.txt')"
   ]
  },
  {
   "cell_type": "code",
   "execution_count": 9,
   "metadata": {},
   "outputs": [],
   "source": [
    "### Assignment 6: Finding and Replacing Text\n",
    "\n",
    "# Write a function that finds and replaces all occurrences of a given word in a file named `data.txt` \n",
    "# with another word.\n",
    "def find_and_replace(file_name,old_word,new_word):\n",
    "    with open (file_name,'r') as file:\n",
    "        text = file.read()\n",
    "    new_text = text.replace(old_word,new_word)\n",
    "    with open (file_name,'w') as file:\n",
    "        file.write(new_text)\n",
    "\n",
    "find_and_replace('destination1.txt','itching','itch')"
   ]
  },
  {
   "cell_type": "code",
   "execution_count": 14,
   "metadata": {},
   "outputs": [
    {
     "name": "stdout",
     "output_type": "stream",
     "text": [
      "This is third line\n",
      "\n",
      "This is second line\n",
      "\n",
      "This is first line\n",
      "\n",
      "Append mode taken place! \n",
      "\n",
      "because it's Overwriting modeAppend mode taken place\n",
      "\n",
      "previous content is erased\n",
      "\n",
      "this is new content\n",
      "\n"
     ]
    }
   ],
   "source": [
    "### Assignment 7: Reading a File in Reverse\n",
    "\n",
    "# Write a function that reads the contents of a file named `reverse.txt`\n",
    "# and prints each line in reverse order.\n",
    "def reverse (file_name):\n",
    "    with open(file_name,'r') as file:\n",
    "        lines = file.readlines()\n",
    "    for line in (lines[::-1]):\n",
    "        print(line)\n",
    "reverse ('destination.txt')"
   ]
  },
  {
   "cell_type": "code",
   "execution_count": 8,
   "metadata": {},
   "outputs": [
    {
     "data": {
      "text/plain": [
       "'total_lines : 7 ,total_words : 31 ,total_chars : 184'"
      ]
     },
     "execution_count": 8,
     "metadata": {},
     "output_type": "execute_result"
    }
   ],
   "source": [
    "### Assignment 8: Counting Lines, Words, and Characters\n",
    "\n",
    "# Write a function that reads the contents of a file named `stats.txt` and \n",
    "# returns the number of lines, words, and characters in the file.\n",
    "\n",
    "def counts(filename):\n",
    "    with open (filename,'r') as file:\n",
    "        lines = file.readlines()\n",
    "        total_lines = len(lines)\n",
    "        total_words = sum(len(line.split()) for line in lines)\n",
    "        total_chars = sum(len(line) for line in lines)\n",
    "    return (f'total_lines : {total_lines} ,total_words : {total_words} ,total_chars : {total_chars}')\n",
    "\n",
    "counts('destination.txt')"
   ]
  },
  {
   "cell_type": "code",
   "execution_count": 3,
   "metadata": {},
   "outputs": [],
   "source": [
    "### Assignment 9: Merging Multiple Files\n",
    "\n",
    "# Write a function that merges the contents of multiple files into a single file named `merged.txt`.\n",
    "def merge_file (filelist,outputfile):\n",
    "    with open(outputfile,'w') as outfile:\n",
    "        for file in filelist:\n",
    "            with open(file,'r') as infile:\n",
    "                outfile.write(infile.read() + '\\n')\n",
    "\n",
    "merge_file(['output.txt','source.txt'],'out.txt')"
   ]
  },
  {
   "cell_type": "code",
   "execution_count": null,
   "metadata": {},
   "outputs": [],
   "source": [
    "### Assignment 10: Splitting a Large File\n",
    "\n",
    "Write a function that splits a large file named `large.txt` into smaller files of 100 lines each.\n"
   ]
  },
  {
   "cell_type": "code",
   "execution_count": null,
   "metadata": {},
   "outputs": [],
   "source": []
  },
  {
   "cell_type": "code",
   "execution_count": null,
   "metadata": {},
   "outputs": [],
   "source": []
  },
  {
   "cell_type": "code",
   "execution_count": null,
   "metadata": {},
   "outputs": [],
   "source": []
  },
  {
   "cell_type": "code",
   "execution_count": null,
   "metadata": {},
   "outputs": [],
   "source": []
  },
  {
   "cell_type": "code",
   "execution_count": null,
   "metadata": {},
   "outputs": [],
   "source": []
  },
  {
   "cell_type": "code",
   "execution_count": null,
   "metadata": {},
   "outputs": [],
   "source": []
  },
  {
   "cell_type": "code",
   "execution_count": null,
   "metadata": {},
   "outputs": [],
   "source": []
  }
 ],
 "metadata": {
  "kernelspec": {
   "display_name": "Python 3",
   "language": "python",
   "name": "python3"
  },
  "language_info": {
   "codemirror_mode": {
    "name": "ipython",
    "version": 3
   },
   "file_extension": ".py",
   "mimetype": "text/x-python",
   "name": "python",
   "nbconvert_exporter": "python",
   "pygments_lexer": "ipython3",
   "version": "3.12.0"
  }
 },
 "nbformat": 4,
 "nbformat_minor": 2
}
