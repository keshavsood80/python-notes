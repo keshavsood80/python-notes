{
 "cells": [
  {
   "cell_type": "code",
   "execution_count": null,
   "metadata": {},
   "outputs": [
    {
     "name": "stdout",
     "output_type": "stream",
     "text": [
      "watching everything\n",
      "NOW\n"
     ]
    }
   ],
   "source": [
    "# Read Whole File\n",
    "with open ('example.txt',mode = 'r') as file:\n",
    "    content = file.read()\n",
    "    print(content)"
   ]
  },
  {
   "cell_type": "code",
   "execution_count": 2,
   "metadata": {},
   "outputs": [
    {
     "name": "stdout",
     "output_type": "stream",
     "text": [
      "Hello world\n",
      "This is a new line\n",
      "Fresh practice\n"
     ]
    }
   ],
   "source": [
    "with open ('example.txt',mode='r') as file:\n",
    "    content =file.read()\n",
    "    print(content)"
   ]
  },
  {
   "cell_type": "code",
   "execution_count": 2,
   "metadata": {},
   "outputs": [
    {
     "name": "stdout",
     "output_type": "stream",
     "text": [
      "Hello world\n",
      "This is a new line\n"
     ]
    }
   ],
   "source": [
    "# Read a file line by line\n",
    "with open ('example.txt', mode = 'r') as file:\n",
    "    for line in file:\n",
    "        print(line.strip()) # strip() removes new line character"
   ]
  },
  {
   "cell_type": "code",
   "execution_count": 3,
   "metadata": {},
   "outputs": [],
   "source": [
    "# Writing a File (Overwriting)\n",
    "with open ('example.txt', mode = 'w') as file:\n",
    "    file.write('this is new content\\n')\n",
    "    file.write('previous content is erased\\n')\n",
    "    file.write(\"because it's Overwriting mode\")"
   ]
  },
  {
   "cell_type": "code",
   "execution_count": 4,
   "metadata": {},
   "outputs": [],
   "source": [
    "# Write a file (without Overwriting)\n",
    "with open ('example.txt',mode= 'a') as file:\n",
    "    file.write('Append mode taken place! \\n')\n"
   ]
  },
  {
   "cell_type": "code",
   "execution_count": null,
   "metadata": {},
   "outputs": [],
   "source": [
    "# Writing a list of lines to a file\n",
    "list = ['This is first line\\n','This is second line\\n','This is third line\\n']\n",
    "with open ('example.txt',mode = 'a') as file:\n",
    "    file.writelines(list)"
   ]
  },
  {
   "cell_type": "code",
   "execution_count": 12,
   "metadata": {},
   "outputs": [],
   "source": [
    "## Binary Files\n",
    "\n",
    "# Writing to a binary file\n",
    "Data = b'\\x00\\x01\\x02\\x03\\x04'\n",
    "with open ('example.bin','wb') as file:\n",
    "    file.write(Data)"
   ]
  },
  {
   "cell_type": "code",
   "execution_count": null,
   "metadata": {},
   "outputs": [
    {
     "name": "stdout",
     "output_type": "stream",
     "text": [
      "b'\\x00\\x01\\x02\\x03\\x04'\n"
     ]
    }
   ],
   "source": [
    "# Read binary file\n",
    "with open ('example.bin','rb') as file:\n",
    "    content = file.read()\n",
    "    print(content)"
   ]
  },
  {
   "cell_type": "code",
   "execution_count": 14,
   "metadata": {},
   "outputs": [],
   "source": [
    "# Read the content from source text file and write to a destination text file\n",
    "# Copying the text file\n",
    "with open ('example.txt', 'r') as source_file:\n",
    "    content = source_file.read()\n",
    "\n",
    "with open ('destination.txt','w') as destination_file:\n",
    "    destination_file.write(content)\n"
   ]
  },
  {
   "cell_type": "code",
   "execution_count": 16,
   "metadata": {},
   "outputs": [
    {
     "name": "stdout",
     "output_type": "stream",
     "text": [
      "lines : 7, words : 31, characters : 184\n"
     ]
    }
   ],
   "source": [
    "# Read the file and count the number of lines, words, and characters.\n",
    "# counting lines,words, and characters in a text file\n",
    "def count_text_file(file_path):\n",
    "    with open(file_path,'r') as file:\n",
    "        lines = file.readlines()\n",
    "        lines_count = len(lines)\n",
    "        word_count = sum(len(line.split()) for line in lines)\n",
    "        char_count = sum(len(line) for line in lines)\n",
    "    return lines_count,word_count,char_count\n",
    "\n",
    "file_path = 'example.txt'\n",
    "lines,words,characters = count_text_file(file_path)\n",
    "print(f'lines : {lines}, words : {words}, characters : {characters}')\n"
   ]
  },
  {
   "cell_type": "markdown",
   "metadata": {},
   "source": [
    "The w+ mode in python is used to open a file for both reading and writing. If the file does not exist, It will be created. If the file exist, its content is truncated(i.e. the file is overwritten)\n",
    "\n"
   ]
  },
  {
   "cell_type": "code",
   "execution_count": 17,
   "metadata": {},
   "outputs": [
    {
     "name": "stdout",
     "output_type": "stream",
     "text": [
      "Hello world\n",
      "This is a new line\n",
      "\n"
     ]
    }
   ],
   "source": [
    "# Writing and Reading the file\n",
    "with open ('example.txt','w+') as file:\n",
    "    file.write('Hello world\\n')\n",
    "    file.write('This is a new line\\n')\n",
    "\n",
    "    # Move the file cursor to the beginning\n",
    "    file.seek(0) # this is just like zero index\n",
    "\n",
    "    # Read the content of the file\n",
    "    content = file.read()\n",
    "    print(content)"
   ]
  },
  {
   "cell_type": "code",
   "execution_count": null,
   "metadata": {},
   "outputs": [],
   "source": []
  },
  {
   "cell_type": "code",
   "execution_count": null,
   "metadata": {},
   "outputs": [],
   "source": []
  },
  {
   "cell_type": "code",
   "execution_count": null,
   "metadata": {},
   "outputs": [],
   "source": []
  }
 ],
 "metadata": {
  "kernelspec": {
   "display_name": "Python 3",
   "language": "python",
   "name": "python3"
  },
  "language_info": {
   "codemirror_mode": {
    "name": "ipython",
    "version": 3
   },
   "file_extension": ".py",
   "mimetype": "text/x-python",
   "name": "python",
   "nbconvert_exporter": "python",
   "pygments_lexer": "ipython3",
   "version": "3.12.0"
  }
 },
 "nbformat": 4,
 "nbformat_minor": 2
}
