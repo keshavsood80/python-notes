{
 "cells": [
  {
   "cell_type": "code",
   "execution_count": null,
   "metadata": {},
   "outputs": [],
   "source": [
    "# Module: Exception Handling Assignments\n",
    "## Lesson: Exception Handling with try, except, and finally\n",
    "\n"
   ]
  },
  {
   "cell_type": "code",
   "execution_count": null,
   "metadata": {},
   "outputs": [],
   "source": []
  },
  {
   "cell_type": "code",
   "execution_count": 16,
   "metadata": {},
   "outputs": [
    {
     "name": "stdout",
     "output_type": "stream",
     "text": [
      "Result after division of 44,2 is 22.0\n",
      "Execution Complete\n"
     ]
    }
   ],
   "source": [
    "### Assignment 1: Handling Division by Zero\n",
    "\n",
    "# Write a function that takes two integers as input and returns their division.\n",
    "#  Use try, except, and finally blocks to handle division by zero and print an appropriate message.\n",
    "\n",
    "def division ():\n",
    "    a,b = int(input()),int(input())\n",
    "    try:\n",
    "        result = a/b\n",
    "    except ZeroDivisionError:\n",
    "        print ('Denominator should be greater than zero')\n",
    "    finally:\n",
    "        print(f'Result after division of {a},{b} is {result}')\n",
    "        print('Execution Complete')\n",
    "division()"
   ]
  },
  {
   "cell_type": "code",
   "execution_count": 20,
   "metadata": {},
   "outputs": [
    {
     "name": "stdout",
     "output_type": "stream",
     "text": [
      "[Errno 2] No such file or directory: 'data.txt'\n"
     ]
    },
    {
     "ename": "UnboundLocalError",
     "evalue": "cannot access local variable 'file' where it is not associated with a value",
     "output_type": "error",
     "traceback": [
      "\u001b[1;31m---------------------------------------------------------------------------\u001b[0m",
      "\u001b[1;31mUnboundLocalError\u001b[0m                         Traceback (most recent call last)",
      "Cell \u001b[1;32mIn[20], line 19\u001b[0m\n\u001b[0;32m     16\u001b[0m             \u001b[38;5;28mprint\u001b[39m(\u001b[38;5;124m'\u001b[39m\u001b[38;5;124mfile is closed\u001b[39m\u001b[38;5;124m'\u001b[39m)\n\u001b[0;32m     17\u001b[0m     \u001b[38;5;28;01mreturn\u001b[39;00m (content)\n\u001b[1;32m---> 19\u001b[0m \u001b[43mreader\u001b[49m\u001b[43m(\u001b[49m\u001b[43m)\u001b[49m\n",
      "Cell \u001b[1;32mIn[20], line 14\u001b[0m, in \u001b[0;36mreader\u001b[1;34m()\u001b[0m\n\u001b[0;32m     12\u001b[0m     \u001b[38;5;28mprint\u001b[39m(\u001b[38;5;124mf\u001b[39m\u001b[38;5;124m'\u001b[39m\u001b[38;5;132;01m{\u001b[39;00me\u001b[38;5;132;01m}\u001b[39;00m\u001b[38;5;124m'\u001b[39m)\n\u001b[0;32m     13\u001b[0m \u001b[38;5;28;01mfinally\u001b[39;00m:\n\u001b[1;32m---> 14\u001b[0m     \u001b[38;5;28;01mif\u001b[39;00m \u001b[38;5;124m'\u001b[39m\u001b[38;5;124mfile\u001b[39m\u001b[38;5;124m'\u001b[39m \u001b[38;5;129;01min\u001b[39;00m \u001b[38;5;28mlocals\u001b[39m() \u001b[38;5;129;01mor\u001b[39;00m \u001b[38;5;129;01mnot\u001b[39;00m \u001b[43mfile\u001b[49m\u001b[38;5;241m.\u001b[39mclosed():\n\u001b[0;32m     15\u001b[0m         file\u001b[38;5;241m.\u001b[39mclose()\n\u001b[0;32m     16\u001b[0m         \u001b[38;5;28mprint\u001b[39m(\u001b[38;5;124m'\u001b[39m\u001b[38;5;124mfile is closed\u001b[39m\u001b[38;5;124m'\u001b[39m)\n",
      "\u001b[1;31mUnboundLocalError\u001b[0m: cannot access local variable 'file' where it is not associated with a value"
     ]
    }
   ],
   "source": [
    "### Assignment 2: File Reading with Exception Handling\n",
    "\n",
    "# Write a function that reads the contents of a file named `data.txt`.\n",
    "# Use try, except, and finally blocks to handle file not found errors and \n",
    "# ensure the file is properly closed.\n",
    "\n",
    "def reader():\n",
    "    try:\n",
    "        file = open('data.txt','r')\n",
    "        content = file.read()\n",
    "    except FileNotFoundError as e:\n",
    "        print(f'{e}')\n",
    "    finally:\n",
    "        if 'file' in locals() or not file.closed():\n",
    "            file.close()\n",
    "            print('file is closed')\n",
    "    return (content)\n",
    "\n",
    "reader()"
   ]
  },
  {
   "cell_type": "code",
   "execution_count": 26,
   "metadata": {},
   "outputs": [
    {
     "name": "stdout",
     "output_type": "stream",
     "text": [
      "Execution Complete.\n"
     ]
    },
    {
     "data": {
      "text/plain": [
       "15"
      ]
     },
     "execution_count": 26,
     "metadata": {},
     "output_type": "execute_result"
    }
   ],
   "source": [
    "### Assignment 3: Handling Multiple Exceptions\n",
    "\n",
    "# Write a function that takes a list of integers and returns their sum.\n",
    "#  Use try, except, and finally blocks to handle TypeError if a non-integer value is encountered and\n",
    "#  print an appropriate message.\n",
    "\n",
    "def sum(list):\n",
    "    sum = 0\n",
    "    try:\n",
    "        for number in list:\n",
    "            sum= sum+number\n",
    "    except TypeError as e:\n",
    "        print(f\"Error : {e}\")\n",
    "        sum = None\n",
    "    finally:\n",
    "        print(\"Execution Complete.\")\n",
    "    return sum\n",
    "\n",
    "sum([1,2,3,4,5])"
   ]
  },
  {
   "cell_type": "code",
   "execution_count": 27,
   "metadata": {},
   "outputs": [
    {
     "name": "stdout",
     "output_type": "stream",
     "text": [
      "Execution complete.\n"
     ]
    },
    {
     "data": {
      "text/plain": [
       "5"
      ]
     },
     "execution_count": 27,
     "metadata": {},
     "output_type": "execute_result"
    }
   ],
   "source": [
    "### Assignment 4: Exception Handling in User Input\n",
    "\n",
    "# Write a function that prompts the user to enter an integer.\n",
    "#  Use try, except, and finally blocks to handle ValueError \n",
    "# if the user enters a non-integer value and print an appropriate message.\n",
    "\n",
    "def value():\n",
    "    try:\n",
    "        user = int(input())\n",
    "    except ValueError as e:\n",
    "        print(f\"Error: {e}\")\n",
    "    finally:\n",
    "        print('Execution complete.')\n",
    "    return user\n",
    "value()"
   ]
  },
  {
   "cell_type": "code",
   "execution_count": 37,
   "metadata": {},
   "outputs": [
    {
     "name": "stdout",
     "output_type": "stream",
     "text": [
      "Execution Complete.\n"
     ]
    },
    {
     "data": {
      "text/plain": [
       "'x'"
      ]
     },
     "execution_count": 37,
     "metadata": {},
     "output_type": "execute_result"
    }
   ],
   "source": [
    "### Assignment 5: Exception Handling in Dictionary Access\n",
    "\n",
    "# Write a function that takes a dictionary and a key as input and\n",
    "# returns the value associated with the key.\n",
    "# Use try, except, and finally blocks to handle KeyError \n",
    "# if the key is not found in the dictionary and print an appropriate message.\n",
    "\n",
    "d ={'a':'x','b':'y','c':'z'}\n",
    "d['a']\n",
    "\n",
    "def get_dic_value (d):\n",
    "    try:\n",
    "        user = str(input())\n",
    "        return d[user]\n",
    "    except KeyError as e:\n",
    "        print(f'Error : {e}')\n",
    "    finally:\n",
    "        print('Execution Complete.')\n",
    "\n",
    "\n",
    "get_dic_value(d)"
   ]
  },
  {
   "cell_type": "code",
   "execution_count": 52,
   "metadata": {},
   "outputs": [
    {
     "name": "stdout",
     "output_type": "stream",
     "text": [
      "Conversion attempt complete.\n",
      "Divisionn attempt Complete\n",
      "Overall Excution Complete\n"
     ]
    },
    {
     "data": {
      "text/plain": [
       "5.0"
      ]
     },
     "execution_count": 52,
     "metadata": {},
     "output_type": "execute_result"
    }
   ],
   "source": [
    "### Assignment 6: Nested Exception Handling\n",
    "\n",
    "# Write a function that performs nested exception handling. \n",
    "# It should first attempt to convert a string to an integer, and \n",
    "# then attempt to divide by that integer. \n",
    "# Use nested try, except, and finally blocks to handle ValueError and ZeroDivisionError and \n",
    "# print appropriate messages.\n",
    "def str_to_int (s):\n",
    "    try:\n",
    "        try:   \n",
    "            num = int(s)\n",
    "        except ValueError as e:\n",
    "            print(f' Conversion Error: {e}')\n",
    "            num = None\n",
    "        finally:\n",
    "            print('Conversion attempt complete.')\n",
    "        if num is not None:  \n",
    "            try:\n",
    "                result = 10/num\n",
    "            except ZeroDivisionError as e:\n",
    "                print(f'Division Error : {e}')\n",
    "                result = None\n",
    "            finally:\n",
    "                print('Divisionn attempt Complete')\n",
    "            return result\n",
    "    finally:\n",
    "        print('Overall Excution Complete')\n",
    "\n",
    "str_to_int('2')"
   ]
  },
  {
   "cell_type": "code",
   "execution_count": 64,
   "metadata": {},
   "outputs": [
    {
     "name": "stdout",
     "output_type": "stream",
     "text": [
      "Error : list index out of range\n",
      "Execution complete.\n"
     ]
    }
   ],
   "source": [
    "### Assignment 7: Exception Handling in List Operations\n",
    "\n",
    "# Write a function that takes a list and an index as input and returns the element at the given index.\n",
    "# Use try, except, and finally blocks to handle IndexError if the index is out of range \n",
    "# and print an appropriate message.\n",
    "def lis_op(list,index):\n",
    "    try:\n",
    "        element = list[index]\n",
    "        return element\n",
    "    except IndexError as e:\n",
    "        print(f'Error : {e}')\n",
    "        element =None\n",
    "    finally:\n",
    "        print('Execution complete.')\n",
    "    \n",
    "lis_op([4,5,6,7,3],10)"
   ]
  },
  {
   "cell_type": "code",
   "execution_count": 70,
   "metadata": {},
   "outputs": [
    {
     "name": "stdout",
     "output_type": "stream",
     "text": [
      "Execution Complete\n"
     ]
    },
    {
     "data": {
      "text/plain": [
       "'{\\n  \"userId\": 1,\\n  \"id\": 1,\\n  \"title\": \"sunt aut facere repellat provident occaecati excepturi optio reprehenderit\",\\n  \"body\": \"quia et suscipit\\\\nsuscipit recusandae consequuntur expedita et cum\\\\nreprehenderit molestiae ut ut quas totam\\\\nnostrum rerum est autem sunt rem eveniet architecto\"\\n}'"
      ]
     },
     "execution_count": 70,
     "metadata": {},
     "output_type": "execute_result"
    }
   ],
   "source": [
    "### Assignment 8: Exception Handling in Network Operations\n",
    "\n",
    "# Write a function that attempts to open a URL and read its contents. \n",
    "# Use try, except, and finally blocks to handle network-related errors and \n",
    "# print an appropriate message.\n",
    "import requests\n",
    "\n",
    "def read_url (url):\n",
    "    try:\n",
    "        response =requests.get(url)\n",
    "        response.raise_for_status()\n",
    "        return response.text\n",
    "    except requests.RequestException as e:\n",
    "        print(f'Network Error: {e}')\n",
    "        return None\n",
    "    finally:\n",
    "        print('Execution Complete')\n",
    "\n",
    "# (read_url('https://nonexistent.url'))\n",
    "read_url('https://jsonplaceholder.typicode.com/posts/1')"
   ]
  },
  {
   "cell_type": "code",
   "execution_count": 76,
   "metadata": {},
   "outputs": [
    {
     "name": "stdout",
     "output_type": "stream",
     "text": [
      "Execution Complete\n"
     ]
    },
    {
     "data": {
      "text/plain": [
       "{'name': 'John', 'age': 30}"
      ]
     },
     "execution_count": 76,
     "metadata": {},
     "output_type": "execute_result"
    }
   ],
   "source": [
    "### Assignment 9: Exception Handling in JSON Parsing\n",
    "\n",
    "# Write a function that attempts to parse a JSON string.\n",
    "#  Use try, except, and finally blocks to handle JSONDecodeError \n",
    "# if the string is not a valid JSON and print an appropriate message.\n",
    "import json\n",
    "\n",
    "def parse_json(json_string):\n",
    "    try:\n",
    "        data = json.loads(json_string)\n",
    "        return data\n",
    "    except json.JSONDecodeError as e:\n",
    "        print(f'Error: {e}')\n",
    "        return None\n",
    "    finally:\n",
    "        print('Execution Complete')\n",
    "\n",
    "# parse_json('invalid json')\n",
    "parse_json('{\"name\": \"John\", \"age\": 30}')"
   ]
  },
  {
   "cell_type": "code",
   "execution_count": 80,
   "metadata": {},
   "outputs": [
    {
     "name": "stdout",
     "output_type": "stream",
     "text": [
      "Error : Negative Number found : -2\n",
      "Execution Complete.\n"
     ]
    }
   ],
   "source": [
    "### Assignment 10: Custom Exception Handling\n",
    "\n",
    "# Define a custom exception named `NegativeNumberError`. \n",
    "# Write a function that raises this exception if a negative number is encountered in a list.\n",
    "#  Use try, except, and finally blocks to handle the custom exception and print an appropriate message.\n",
    "\n",
    "class NegativeNumberError (Exception):\n",
    "    pass\n",
    "\n",
    "def check_for_negative(lis):\n",
    "    try:\n",
    "        for num in lis:\n",
    "            if num < 0:\n",
    "                raise NegativeNumberError (f'Negative Number found : {num}')\n",
    "    except NegativeNumberError as e:\n",
    "        print(f'Error : {e}')\n",
    "    finally:\n",
    "        print('Execution Complete.')\n",
    "\n",
    "check_for_negative([1, -2, 3, 4])"
   ]
  },
  {
   "cell_type": "code",
   "execution_count": 82,
   "metadata": {},
   "outputs": [
    {
     "name": "stdout",
     "output_type": "stream",
     "text": [
      "Error: An error occured in risky_function.\n",
      "Execution Complete\n"
     ]
    }
   ],
   "source": [
    "### Assignment 11: Exception Handling in Function Calls\n",
    "\n",
    "# Write a function that calls another function which may raise an exception.\n",
    "#  Use try, except, and finally blocks to handle the exception and print an appropriate message.\n",
    "def risky_function ():\n",
    "    raise ValueError ('An error occured in risky_function.')\n",
    "\n",
    "def safe_function():\n",
    "    try:\n",
    "        risky_function()\n",
    "    except ValueError as e:\n",
    "        print(f'Error: {e}')\n",
    "    finally:\n",
    "        print('Execution Complete')\n",
    "\n",
    "safe_function()"
   ]
  },
  {
   "cell_type": "code",
   "execution_count": 85,
   "metadata": {},
   "outputs": [
    {
     "name": "stdout",
     "output_type": "stream",
     "text": [
      "Execution Completed\n"
     ]
    },
    {
     "data": {
      "text/plain": [
       "2.0"
      ]
     },
     "execution_count": 85,
     "metadata": {},
     "output_type": "execute_result"
    }
   ],
   "source": [
    "### Assignment 12: Exception Handling in Class Methods\n",
    "\n",
    "# Define a class with a method that performs a division operation.\n",
    "#  Use try, except, and finally blocks within the method to handle division by zero and\n",
    "#  print an appropriate message.\n",
    "class calculator:\n",
    "    def divide (self,a,b):\n",
    "        try:\n",
    "            result = a/b\n",
    "            return result\n",
    "        except ZeroDivisionError as e:\n",
    "            print(f'Error: {e}')\n",
    "            return None\n",
    "        finally:\n",
    "            print('Execution Completed')\n",
    "\n",
    "calc = calculator()\n",
    "calc.divide(8,4)"
   ]
  },
  {
   "cell_type": "code",
   "execution_count": 90,
   "metadata": {},
   "outputs": [
    {
     "name": "stdout",
     "output_type": "stream",
     "text": [
      "Execution Complete.\n"
     ]
    },
    {
     "data": {
      "text/plain": [
       "[2, 3, 5, 6, 3, 5]"
      ]
     },
     "execution_count": 90,
     "metadata": {},
     "output_type": "execute_result"
    }
   ],
   "source": [
    "### Assignment 13: Exception Handling in Data Conversion\n",
    "\n",
    "# Write a function that takes a list of strings and converts them to integers. \n",
    "# Use try, except, and finally blocks to handle ValueError if a string cannot be converted and\n",
    "#  print an appropriate message.\n",
    "\n",
    "def data_conversion(lst):\n",
    "    try:\n",
    "        result = [int(i) for i in lst]\n",
    "        return result\n",
    "    except ValueError as e:\n",
    "        print(f'Error: {e}')\n",
    "        return None\n",
    "    finally:\n",
    "        print('Execution Complete.')\n",
    "data_conversion(['2','3','5','6','3','5'])"
   ]
  },
  {
   "cell_type": "code",
   "execution_count": null,
   "metadata": {},
   "outputs": [],
   "source": [
    "### Assignment 14: Exception Handling in List Comprehensions\n",
    "\n",
    "# Write a function that uses a list comprehension to convert a list of strings to integers.\n",
    "# Use try, except, and finally blocks within the list comprehension to handle ValueError and\n",
    "# print an appropriate message.\n"
   ]
  },
  {
   "cell_type": "code",
   "execution_count": 96,
   "metadata": {},
   "outputs": [],
   "source": [
    "### Assignment 15: Exception Handling in File Writing\n",
    "\n",
    "# Write a function that attempts to write a list of strings to a file.\n",
    "#  Use try, except, and finally blocks to handle IOError and ensure the file is properly closed.\n",
    "\n",
    "def file_writing(strings,filename):\n",
    "    try:\n",
    "        file = open(filename,'w')\n",
    "        for string in strings:\n",
    "            file.write(string + '\\n')\n",
    "    except IOError as e:\n",
    "        print(f'Error: {e}')\n",
    "    finally:\n",
    "        try:\n",
    "            file.close()\n",
    "        except NameError:\n",
    "            pass\n",
    "\n",
    "file_writing(['hello','genius','keshav'],'output.txt')        \n",
    "    "
   ]
  },
  {
   "cell_type": "code",
   "execution_count": null,
   "metadata": {},
   "outputs": [],
   "source": []
  },
  {
   "cell_type": "code",
   "execution_count": null,
   "metadata": {},
   "outputs": [],
   "source": []
  },
  {
   "cell_type": "code",
   "execution_count": null,
   "metadata": {},
   "outputs": [],
   "source": []
  }
 ],
 "metadata": {
  "kernelspec": {
   "display_name": "Python 3",
   "language": "python",
   "name": "python3"
  },
  "language_info": {
   "codemirror_mode": {
    "name": "ipython",
    "version": 3
   },
   "file_extension": ".py",
   "mimetype": "text/x-python",
   "name": "python",
   "nbconvert_exporter": "python",
   "pygments_lexer": "ipython3",
   "version": "3.12.0"
  }
 },
 "nbformat": 4,
 "nbformat_minor": 2
}
