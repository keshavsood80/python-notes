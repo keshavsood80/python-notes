{
 "cells": [
  {
   "cell_type": "markdown",
   "metadata": {},
   "source": [
    "What are Exeptions ?"
   ]
  },
  {
   "cell_type": "markdown",
   "metadata": {},
   "source": [
    "Exceptions are events that disrupt the normal flow of a program. They occur when an error is encountered during program execution. Common exeptions include:\n",
    "\n",
    "1. ZeroDivisionError : Dividing by Zero\n",
    "2. FileNotFoundError : File not found.\n",
    "3. ValueError : Invalid Value.\n",
    "4. TypeError : Invalid Type.\n"
   ]
  },
  {
   "cell_type": "code",
   "execution_count": 3,
   "metadata": {},
   "outputs": [
    {
     "ename": "NameError",
     "evalue": "name 'b' is not defined",
     "output_type": "error",
     "traceback": [
      "\u001b[1;31m---------------------------------------------------------------------------\u001b[0m",
      "\u001b[1;31mNameError\u001b[0m                                 Traceback (most recent call last)",
      "Cell \u001b[1;32mIn[3], line 1\u001b[0m\n\u001b[1;32m----> 1\u001b[0m a\u001b[38;5;241m=\u001b[39m\u001b[43mb\u001b[49m\n",
      "\u001b[1;31mNameError\u001b[0m: name 'b' is not defined"
     ]
    }
   ],
   "source": [
    "a=b"
   ]
  },
  {
   "cell_type": "code",
   "execution_count": 2,
   "metadata": {},
   "outputs": [
    {
     "name": "stdout",
     "output_type": "stream",
     "text": [
      "The variable has not been assigned\n"
     ]
    }
   ],
   "source": [
    "# Exception try, Except block\n",
    "try:\n",
    "    #try means inside this block i can write my code where exception may arise.\n",
    "    a = b\n",
    "except:\n",
    "    # NameError exception will be caught by this above except block\n",
    "    print(\"The variable has not been assigned\")\n",
    "    # This is a good message when compared to the previous message for all the end user."
   ]
  },
  {
   "cell_type": "code",
   "execution_count": 4,
   "metadata": {},
   "outputs": [
    {
     "name": "stdout",
     "output_type": "stream",
     "text": [
      "name 'b' is not defined\n"
     ]
    }
   ],
   "source": [
    "try:\n",
    "    a=b\n",
    "except NameError as ex:\n",
    "    print(ex)"
   ]
  },
  {
   "cell_type": "code",
   "execution_count": 5,
   "metadata": {},
   "outputs": [
    {
     "ename": "ZeroDivisionError",
     "evalue": "division by zero",
     "output_type": "error",
     "traceback": [
      "\u001b[1;31m---------------------------------------------------------------------------\u001b[0m",
      "\u001b[1;31mZeroDivisionError\u001b[0m                         Traceback (most recent call last)",
      "Cell \u001b[1;32mIn[5], line 1\u001b[0m\n\u001b[1;32m----> 1\u001b[0m result \u001b[38;5;241m=\u001b[39m \u001b[38;5;241;43m1\u001b[39;49m\u001b[38;5;241;43m/\u001b[39;49m\u001b[38;5;241;43m0\u001b[39;49m\n",
      "\u001b[1;31mZeroDivisionError\u001b[0m: division by zero"
     ]
    }
   ],
   "source": [
    "result = 1/0"
   ]
  },
  {
   "cell_type": "code",
   "execution_count": null,
   "metadata": {},
   "outputs": [
    {
     "name": "stdout",
     "output_type": "stream",
     "text": [
      "division by zero\n",
      "Please enter the denominator greater than 0\n"
     ]
    }
   ],
   "source": [
    "try:\n",
    "    result = 1/0\n",
    "except ZeroDivisionError as ex:\n",
    "    print(ex)\n",
    "    print(\"Please enter the denominator greater than 0\")"
   ]
  },
  {
   "cell_type": "code",
   "execution_count": null,
   "metadata": {},
   "outputs": [],
   "source": [
    "try:\n",
    "    result = 1/0\n",
    "except ZeroDivisionError as ex:\n",
    "    print(ex)\n",
    "    print(\"Please enter the denominator greater than 0\")\n",
    "except Exception as ex1:\n",
    "    # This is main parent class of Exception\n",
    "    # We have handled multiple exceptions"
   ]
  },
  {
   "cell_type": "code",
   "execution_count": 10,
   "metadata": {},
   "outputs": [
    {
     "name": "stdout",
     "output_type": "stream",
     "text": [
      "The result is 1.25\n"
     ]
    }
   ],
   "source": [
    "try:\n",
    "    num = int(input(\"Enter a Valid No.\"))\n",
    "    result = 10/num\n",
    "except ValueError:\n",
    "    print(\"This is not a valid number\")\n",
    "except ZeroDivisionError:\n",
    "    print(\"Enter number greater than zero\")\n",
    "except Exception as ex: # to manage all the other errors\n",
    "    print('ex')\n",
    "else: # If none of the exception raised over here, then else has to execute anyhow\n",
    "    print(f'The result is {result}')"
   ]
  },
  {
   "cell_type": "code",
   "execution_count": 3,
   "metadata": {},
   "outputs": [
    {
     "name": "stdout",
     "output_type": "stream",
     "text": [
      "The result is 0.18181818181818182\n",
      "Execution Complete\n"
     ]
    }
   ],
   "source": [
    "# try,except,else and finally\n",
    "try:\n",
    "    num = int(input(\"Enter a Valid No.\"))\n",
    "    result = 10/num\n",
    "except ValueError:\n",
    "    print(\"This is not a valid number\")\n",
    "except ZeroDivisionError:\n",
    "    print(\"Enter number greater than zero\")\n",
    "except Exception as ex: # to manage all the other errors\n",
    "    print('ex')\n",
    "else: # If none of the exception raised over here, then else has to execute anyhow\n",
    "    print(f'The result is {result}')\n",
    "finally:\n",
    "    print(\"Execution Complete\")"
   ]
  },
  {
   "cell_type": "code",
   "execution_count": null,
   "metadata": {},
   "outputs": [
    {
     "name": "stdout",
     "output_type": "stream",
     "text": [
      "\n"
     ]
    },
    {
     "ename": "TypeError",
     "evalue": "'bool' object is not callable",
     "output_type": "error",
     "traceback": [
      "\u001b[1;31m---------------------------------------------------------------------------\u001b[0m",
      "\u001b[1;31mTypeError\u001b[0m                                 Traceback (most recent call last)",
      "Cell \u001b[1;32mIn[4], line 10\u001b[0m\n\u001b[0;32m      8\u001b[0m     \u001b[38;5;28mprint\u001b[39m(\u001b[38;5;124m'\u001b[39m\u001b[38;5;124m The file does not exists\u001b[39m\u001b[38;5;124m'\u001b[39m)\n\u001b[0;32m      9\u001b[0m \u001b[38;5;28;01mfinally\u001b[39;00m:\n\u001b[1;32m---> 10\u001b[0m     \u001b[38;5;28;01mif\u001b[39;00m \u001b[38;5;124m'\u001b[39m\u001b[38;5;124mfile\u001b[39m\u001b[38;5;124m'\u001b[39m \u001b[38;5;129;01min\u001b[39;00m \u001b[38;5;28mlocals\u001b[39m() \u001b[38;5;129;01mand\u001b[39;00m \u001b[38;5;129;01mnot\u001b[39;00m \u001b[43mfile\u001b[49m\u001b[38;5;241;43m.\u001b[39;49m\u001b[43mclosed\u001b[49m\u001b[43m(\u001b[49m\u001b[43m)\u001b[49m:\n\u001b[0;32m     11\u001b[0m         file\u001b[38;5;241m.\u001b[39mclose()\n\u001b[0;32m     12\u001b[0m         \u001b[38;5;28mprint\u001b[39m(\u001b[38;5;124m'\u001b[39m\u001b[38;5;124mfile is closed\u001b[39m\u001b[38;5;124m'\u001b[39m)\n",
      "\u001b[1;31mTypeError\u001b[0m: 'bool' object is not callable"
     ]
    }
   ],
   "source": [
    "# File Handling and Exception Handling\n",
    "\n",
    "try:\n",
    "    file = open('example1.txt','r')\n",
    "    content = file.read()\n",
    "    print(content)\n",
    "except FileNotFoundError:\n",
    "    print(' The file does not exists')\n",
    "finally:\n",
    "    if 'file' in locals() and not file.closed():\n",
    "        file.close()\n",
    "        print('file is closed')"
   ]
  },
  {
   "cell_type": "code",
   "execution_count": 5,
   "metadata": {},
   "outputs": [
    {
     "name": "stdout",
     "output_type": "stream",
     "text": [
      "name 'b' is not defined\n",
      "file is closed\n"
     ]
    }
   ],
   "source": [
    "\n",
    "try:\n",
    "    file = open('example1.txt','r')\n",
    "    content = file.read()\n",
    "    a=b\n",
    "    print(content)\n",
    "except FileNotFoundError:\n",
    "    print(' The file does not exists')\n",
    "except Exception as ex:\n",
    "    print (ex) # a=b nameError will be handle by Exception as ex\n",
    "finally:\n",
    "    if 'file' in locals() or not file.closed():\n",
    "        file.close()\n",
    "        print('file is closed')"
   ]
  },
  {
   "cell_type": "code",
   "execution_count": null,
   "metadata": {},
   "outputs": [],
   "source": []
  },
  {
   "cell_type": "code",
   "execution_count": null,
   "metadata": {},
   "outputs": [],
   "source": []
  },
  {
   "cell_type": "code",
   "execution_count": null,
   "metadata": {},
   "outputs": [],
   "source": []
  },
  {
   "cell_type": "code",
   "execution_count": null,
   "metadata": {},
   "outputs": [],
   "source": []
  },
  {
   "cell_type": "code",
   "execution_count": null,
   "metadata": {},
   "outputs": [],
   "source": []
  },
  {
   "cell_type": "code",
   "execution_count": null,
   "metadata": {},
   "outputs": [],
   "source": []
  },
  {
   "cell_type": "code",
   "execution_count": null,
   "metadata": {},
   "outputs": [],
   "source": []
  }
 ],
 "metadata": {
  "kernelspec": {
   "display_name": "Python 3",
   "language": "python",
   "name": "python3"
  },
  "language_info": {
   "codemirror_mode": {
    "name": "ipython",
    "version": 3
   },
   "file_extension": ".py",
   "mimetype": "text/x-python",
   "name": "python",
   "nbconvert_exporter": "python",
   "pygments_lexer": "ipython3",
   "version": "3.12.0"
  }
 },
 "nbformat": 4,
 "nbformat_minor": 2
}
