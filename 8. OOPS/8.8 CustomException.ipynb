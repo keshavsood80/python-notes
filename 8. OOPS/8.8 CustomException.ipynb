{
 "cells": [
  {
   "cell_type": "markdown",
   "metadata": {},
   "source": [
    "Custom Exception (Raise and Throw an Exception)"
   ]
  },
  {
   "cell_type": "code",
   "execution_count": 2,
   "metadata": {},
   "outputs": [],
   "source": [
    "class Error (Exception):\n",
    "    pass\n",
    "class dobException(Error):\n",
    "    pass"
   ]
  },
  {
   "cell_type": "code",
   "execution_count": 3,
   "metadata": {},
   "outputs": [
    {
     "name": "stdout",
     "output_type": "stream",
     "text": [
      "Sorry your age should be greater than 20 or less than 30\n"
     ]
    }
   ],
   "source": [
    "year = int(input(\"Enter the dob\"))\n",
    "age = 2024 - year\n",
    "'''\n",
    "if age<=30 and age >=20:\n",
    "    print(\"The age is valid so you can apply for the exam\")\n",
    "else:\n",
    "    raise dobException\n",
    "'''\n",
    "# When we are raising an exception, we should also catch the exception\n",
    "# and that exception needs to be handled.\n",
    "# that will not possible right now because we have not used the strike block\n",
    "\n",
    "# so we'll use try and except block.\n",
    "\n",
    "try:\n",
    "    if age<=30 and age >=20:\n",
    "        print(\"The age is valid so you can apply for the exam\")\n",
    "    else:\n",
    "        raise dobException\n",
    "except dobException:\n",
    "    print(\"Sorry your age should be greater than 20 or less than 30\")\n"
   ]
  },
  {
   "cell_type": "code",
   "execution_count": null,
   "metadata": {},
   "outputs": [],
   "source": [
    "# So this is how we specifically raise a custom exception\n",
    "# The main thing is that when we will developing end to end application ,\n",
    "# there will be performing exception handling, logging and all\n",
    "# there also will develop our custom exception\n",
    "\n",
    "# its because of the mistakes that usually happens from the client end side\n",
    "# who is specifically using the application"
   ]
  }
 ],
 "metadata": {
  "kernelspec": {
   "display_name": "venv",
   "language": "python",
   "name": "python3"
  },
  "language_info": {
   "codemirror_mode": {
    "name": "ipython",
    "version": 3
   },
   "file_extension": ".py",
   "mimetype": "text/x-python",
   "name": "python",
   "nbconvert_exporter": "python",
   "pygments_lexer": "ipython3",
   "version": "3.12.0"
  }
 },
 "nbformat": 4,
 "nbformat_minor": 2
}
