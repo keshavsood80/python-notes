{
 "cells": [
  {
   "cell_type": "markdown",
   "metadata": {},
   "source": [
    "Polymorphism"
   ]
  },
  {
   "cell_type": "markdown",
   "metadata": {},
   "source": [
    "Polymorphism is a core concept in Object Oriented Programming (OOP) that allows objects of different class to be treated as objects of a common superclass.It provides a way to perform a single action in different forms. Polymorphism is typically achieved through method overriding and interfaces."
   ]
  },
  {
   "cell_type": "markdown",
   "metadata": {},
   "source": [
    "Method Overriding"
   ]
  },
  {
   "cell_type": "markdown",
   "metadata": {},
   "source": [
    "Method overriding allows a child class to provide a specific implementation of a method that is already defined in its parent class."
   ]
  },
  {
   "cell_type": "code",
   "execution_count": null,
   "metadata": {},
   "outputs": [
    {
     "name": "stdout",
     "output_type": "stream",
     "text": [
      "Woof!\n",
      "Meow!\n",
      "Woof!\n"
     ]
    }
   ],
   "source": [
    "# Base Class\n",
    "class Animal:\n",
    "    # I'm not written constructer because i am not defining any attributes.\n",
    "    def speak (self):\n",
    "        return 'Sound of the animal'\n",
    "\n",
    "# Derived Class 1\n",
    "class Dog (Animal):\n",
    "    def speak(self):\n",
    "        return 'Woof!'\n",
    "\n",
    "# speak() method is already present in Base class\n",
    "# but the child class has provided its own specific definition or implementation\n",
    "\n",
    "# Derived Class 2\n",
    "class Cat(Animal):\n",
    "    def speak(self):\n",
    "        return \"Meow!\"\n",
    "# the same method is overridden in the derived class with its own implementation.\n",
    "\n",
    "# I can also create additional function\n",
    "# function that demonstrates polymorphism\n",
    "# this is a public function not inside any class\n",
    "def animal_speak (Animal):\n",
    "    print(Animal.speak())\n",
    "    # animal is an object of specific class\n",
    "dog = Dog()\n",
    "cat = Cat()\n",
    "print(dog.speak())\n",
    "print(cat.speak())\n",
    "animal_speak(dog)"
   ]
  },
  {
   "cell_type": "code",
   "execution_count": 2,
   "metadata": {},
   "outputs": [
    {
     "name": "stdout",
     "output_type": "stream",
     "text": [
      "The area is 20\n",
      "The area is 28.259999999999998\n"
     ]
    }
   ],
   "source": [
    "## Polymorphism with functions and methods\n",
    "## base class\n",
    "class Shape:\n",
    "    def area(self):\n",
    "        return \"The area of the figure\"\n",
    "\n",
    "# Derived class 1\n",
    "class Rectangle(Shape):\n",
    "    def __init__(self,width,height):\n",
    "        self.width = width\n",
    "        self.height = height\n",
    "\n",
    "    # now i m going to override the area method\n",
    "    #  because the functionality will be little be different over here.\n",
    "    def area(self):\n",
    "        return self.width * self.height\n",
    "    # We have completely redefined or overridden the entire function\n",
    "    # so its like all the functions are basically having multiple forms as we keep on\n",
    "    # making sure that once our derived class inherits the parent class,we're basically redefining-\n",
    "    # -the entire function or we are overriding the functionality.\n",
    "\n",
    "# Derived class 2\n",
    "class Circle(Shape):\n",
    "    def __init__(self,radius):\n",
    "        self.radius = radius\n",
    "\n",
    "    def area(self):\n",
    "        return 3.14 * self.radius * self.radius\n",
    "    \n",
    "# Function that demonstrates polymorphism\n",
    "def print_area(Shape):\n",
    "    print (f\"The area is {Shape.area()}\")\n",
    "\n",
    "rectangle = Rectangle(4,5)\n",
    "circle = Circle(3)\n",
    "\n",
    "print_area(rectangle)\n",
    "print_area(circle)"
   ]
  },
  {
   "cell_type": "code",
   "execution_count": 5,
   "metadata": {},
   "outputs": [],
   "source": [
    "# Polymorphism is typically achieved through method overriding and interfaces.\n"
   ]
  },
  {
   "cell_type": "markdown",
   "metadata": {},
   "source": [
    "Interfaces"
   ]
  },
  {
   "cell_type": "code",
   "execution_count": 7,
   "metadata": {},
   "outputs": [],
   "source": [
    "# In other programming languages we basically say interfaces \n",
    "# But in python we say it as abstract base class"
   ]
  },
  {
   "cell_type": "markdown",
   "metadata": {},
   "source": [
    "Polymorphism with Abstract Base Classes\n",
    "\n",
    "Abstract Base Classes (ABCs) are used to define common methods for a group of related objects. They can enforce that derived classes implement particular methods, promoting consistency across different implementations."
   ]
  },
  {
   "cell_type": "code",
   "execution_count": 4,
   "metadata": {},
   "outputs": [
    {
     "name": "stdout",
     "output_type": "stream",
     "text": [
      "Car engine Started\n",
      "Motorcycle engine started\n"
     ]
    }
   ],
   "source": [
    "from abc import ABC, abstractmethod # abstract method is a kind of decorator\n",
    "\n",
    "# Define a abstract class\n",
    "class Vehicle(ABC):# I am going to inherit the abstract class which will be like an empty class itself. \n",
    "    # I am not putting any information, but let me create an abstract method\n",
    "    # Abstract method is just like an empty method, but its kind of common class.\n",
    "    # That is going to happen in each and every class, \n",
    "    # because we are going to inherit this kind of abstract class onto this.\n",
    "    @abstractmethod\n",
    "    def start_engine(self):\n",
    "        # since its abstract, its need to be empty\n",
    "        pass\n",
    "# So this is how I have actually created my abstract class along with that \n",
    "# I am also created my abstract method called as start engine.\n",
    "\n",
    "# Derived class 1 \n",
    "class Car (Vehicle):\n",
    "    def start_engine(self):\n",
    "        return \"Car engine Started\"\n",
    "    #here you can define your own init method\n",
    "    # Define any no. of parameters you want.\n",
    "\n",
    "# Derived class 2 \n",
    "class Motorcycle (Vehicle):\n",
    "    def start_engine(self):\n",
    "        return \"Motorcycle engine started\"\n",
    "\n",
    "# Function that demonstrates polymorphism\n",
    "def start_vehicle(vehicle):\n",
    "    print (vehicle.start_engine())    \n",
    "# Create object of Car and motorcycle \n",
    "car = Car()\n",
    "motorcycle = Motorcycle()\n",
    "\n",
    "start_vehicle(car)\n",
    "start_vehicle(motorcycle)"
   ]
  },
  {
   "cell_type": "markdown",
   "metadata": {},
   "source": [
    "Conclusion\n",
    "\n",
    "Polymorphism is a powerful feature of OOP that allows for flexibility and integration in code design. It enables a single function to handle objects of different classes, each with its own implementation of a method. By understanding and applying polymorphism, you can create more extensible and maintainable object-oriented programs."
   ]
  },
  {
   "cell_type": "code",
   "execution_count": null,
   "metadata": {},
   "outputs": [],
   "source": []
  },
  {
   "cell_type": "code",
   "execution_count": null,
   "metadata": {},
   "outputs": [],
   "source": []
  },
  {
   "cell_type": "code",
   "execution_count": null,
   "metadata": {},
   "outputs": [],
   "source": []
  }
 ],
 "metadata": {
  "kernelspec": {
   "display_name": "Python 3",
   "language": "python",
   "name": "python3"
  },
  "language_info": {
   "codemirror_mode": {
    "name": "ipython",
    "version": 3
   },
   "file_extension": ".py",
   "mimetype": "text/x-python",
   "name": "python",
   "nbconvert_exporter": "python",
   "pygments_lexer": "ipython3",
   "version": "3.12.0"
  }
 },
 "nbformat": 4,
 "nbformat_minor": 2
}
