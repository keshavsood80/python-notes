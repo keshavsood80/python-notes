{
 "cells": [
  {
   "cell_type": "markdown",
   "metadata": {},
   "source": [
    "# Module: Inheritance Assignments\n",
    "## Lesson: Single and Multiple Inheritance\n",
    "\n",
    "\n"
   ]
  },
  {
   "cell_type": "code",
   "execution_count": 6,
   "metadata": {},
   "outputs": [
    {
     "name": "stdout",
     "output_type": "stream",
     "text": [
      "Buddy Canis lupus familiaris Golden Retriever\n"
     ]
    }
   ],
   "source": [
    "### Assignment 1: Single Inheritance Basic\n",
    "\n",
    "# Create a base class named `Animal` with attributes `name` and `species`. \n",
    "# Create a derived class named `Dog` that inherits from `Animal` and adds an attribute `breed`.\n",
    "#  Create an object of the `Dog` class and print its attributes.\n",
    "class Animal:\n",
    "    def __init__(self,name,species):\n",
    "        self.name =name\n",
    "        self.species = species\n",
    "\n",
    "class Dog(Animal):\n",
    "    def __init__(self,name,species,breed):\n",
    "        super().__init__(name,species)\n",
    "        self.breed = breed\n",
    "\n",
    "dog = Dog('Buddy','Canis lupus familiaris','Golden Retriever')\n",
    "print(dog.name,dog.species,dog.breed)"
   ]
  },
  {
   "cell_type": "code",
   "execution_count": 10,
   "id": "35c27579",
   "metadata": {},
   "outputs": [
    {
     "name": "stdout",
     "output_type": "stream",
     "text": [
      "Name: Buddy, species: Canis lupus familiaris, breed: Golden Retriever\n"
     ]
    }
   ],
   "source": [
    "### Assignment 2: Method Overriding in Single Inheritance\n",
    "\n",
    "# In the `Dog` class, override the `__str__` method to return a string representation of the object.\n",
    "# Create an object of the class and print it.\n",
    "\n",
    "class Dog(Animal):\n",
    "    def __init__(self,name,species,breed):\n",
    "        super().__init__(name,species)\n",
    "        self.breed = breed\n",
    "\n",
    "    def __str__(self):\n",
    "        return f'Name: {self.name}, species: {self.species}, breed: {self.breed}'\n",
    "\n",
    "dog = Dog('Buddy','Canis lupus familiaris','Golden Retriever')\n",
    "print(dog)"
   ]
  },
  {
   "cell_type": "code",
   "execution_count": 12,
   "id": "199323ad",
   "metadata": {},
   "outputs": [
    {
     "data": {
      "text/plain": [
       "'woof! woof!'"
      ]
     },
     "execution_count": 12,
     "metadata": {},
     "output_type": "execute_result"
    }
   ],
   "source": [
    "### Assignment 3: Single Inheritance with Additional Methods\n",
    "\n",
    "# In the `Dog` class, add a method named `bark` that prints a barking sound. \n",
    "# Create an object of the class and call the method.\n",
    "class Dog(Animal):\n",
    "    def __init__(self,name,species,breed):\n",
    "        super().__init__(name,species)\n",
    "        self.breed = breed\n",
    "    \n",
    "    def bark(self):\n",
    "        return 'woof! woof!'\n",
    "\n",
    "dog = Dog('Buddy','Canis lupus familiaris','Golden Retriever')\n",
    "dog.bark()"
   ]
  },
  {
   "cell_type": "code",
   "execution_count": 13,
   "id": "8aeeb2d2",
   "metadata": {},
   "outputs": [
    {
     "name": "stdout",
     "output_type": "stream",
     "text": [
      "walking message\n",
      "running message\n"
     ]
    }
   ],
   "source": [
    "### Assignment 4: Multiple Inheritance Basic\n",
    "\n",
    "# Create a base class named `Walker` with a method `walk` that prints a walking message.\n",
    "#  Create another base class named `Runner` with a method `run` that prints a running message.\n",
    "#  Create a derived class named `Athlete` that inherits from both `Walker` and `Runner`. \n",
    "# Create an object of the `Athlete` class and call both methods.\n",
    "class Walker:\n",
    "    def walk(self):\n",
    "        print('walking message')\n",
    "\n",
    "class Runner:\n",
    "    def run(self):\n",
    "        print('running message')\n",
    "\n",
    "class Athlete(Walker,Runner):\n",
    "    pass\n",
    "\n",
    "athlete = Athlete()\n",
    "athlete.walk()\n",
    "athlete.run()"
   ]
  },
  {
   "cell_type": "code",
   "execution_count": 16,
   "metadata": {},
   "outputs": [
    {
     "name": "stdout",
     "output_type": "stream",
     "text": [
      "walking\n",
      "walking message\n"
     ]
    }
   ],
   "source": [
    "### Assignment 5: Method Resolution Order (MRO) in Multiple Inheritance\n",
    "\n",
    "# In the `Athlete` class, override the `walk` method to print a different message. \n",
    "# Create an object of the class and call the `walk` method.\n",
    "# Use the `super()` function to call the `walk` method of the `Walker` class.\n",
    "class Athlete (Walker,Runner):\n",
    "    def walk(self):\n",
    "        print('walking')\n",
    "        super().walk()\n",
    "\n",
    "athlete = Athlete()\n",
    "athlete.walk()"
   ]
  },
  {
   "cell_type": "code",
   "execution_count": 22,
   "id": "90e9a4c5",
   "metadata": {},
   "outputs": [
    {
     "name": "stdout",
     "output_type": "stream",
     "text": [
      "5\n"
     ]
    }
   ],
   "source": [
    "### Assignment 6: Multiple Inheritance with Additional Attributes\n",
    "\n",
    "# In the `Athlete` class, add an attribute `training_hours` and\n",
    "#  a method `train` that prints the training hours.\n",
    "#  Create an object of the class and call the method.\n",
    "\n",
    "class Athlete(Walker,Runner):\n",
    "    def __init__(self,training_hours):\n",
    "        self.training_hours = training_hours\n",
    "    \n",
    "    def train(self):\n",
    "        print(self.training_hours)\n",
    "    \n",
    "athlete = Athlete(5)\n",
    "athlete.train()"
   ]
  },
  {
   "cell_type": "code",
   "execution_count": 25,
   "id": "d093882d",
   "metadata": {},
   "outputs": [
    {
     "name": "stdout",
     "output_type": "stream",
     "text": [
      "B message\n"
     ]
    }
   ],
   "source": [
    "### Assignment 7: Diamond Problem in Multiple Inheritance\n",
    "\n",
    "# Create a class named `A` with a method `show` that prints a message. \n",
    "# Create two derived classes `B` and `C` that inherit from `A` and override the `show` method.\n",
    "#  Create a class `D` that inherits from both `B` and `C`.\n",
    "#  Create an object of the `D` class and call the `show` method. Observe the method resolution order.\n",
    "\n",
    "class A:\n",
    "    def show(self):\n",
    "        print('message')\n",
    "\n",
    "class B(A):\n",
    "    def show(self):\n",
    "        print('B message')\n",
    "\n",
    "class C(A):\n",
    "    def show(self):\n",
    "        print('C message')\n",
    "\n",
    "class D(B,C):\n",
    "        pass\n",
    "\n",
    "d = D()\n",
    "d.show()"
   ]
  },
  {
   "cell_type": "code",
   "execution_count": 31,
   "metadata": {},
   "outputs": [
    {
     "name": "stdout",
     "output_type": "stream",
     "text": [
      "green\n",
      "5\n"
     ]
    }
   ],
   "source": [
    "### Assignment 8: Using `super()` in Single Inheritance\n",
    "\n",
    "# Create a base class named `Shape` with an attribute `color`.\n",
    "# Create a derived class named `Circle` that inherits from `Shape` and \n",
    "# adds an attribute `radius`. Use the `super()` function to initialize the attributes.\n",
    "# Create an object of the `Circle` class and print its attributes.\n",
    "\n",
    "class Shape:\n",
    "    def __init__(self,color):\n",
    "        self.color = color\n",
    "\n",
    "class Circle(Shape):\n",
    "    def __init__(self,color,radius):\n",
    "        super().__init__(color)\n",
    "        self.radius = radius\n",
    "\n",
    "\n",
    "circle = Circle('green',5)\n",
    "print(circle.color)\n",
    "print(circle.radius)\n"
   ]
  },
  {
   "cell_type": "code",
   "execution_count": null,
   "id": "a34c5602",
   "metadata": {},
   "outputs": [],
   "source": []
  },
  {
   "cell_type": "code",
   "execution_count": 36,
   "id": "cfd7b34f",
   "metadata": {},
   "outputs": [
    {
     "name": "stdout",
     "output_type": "stream",
     "text": [
      "keshav\n",
      "102042821\n"
     ]
    }
   ],
   "source": [
    "### Assignment 9: Using `super()` in Multiple Inheritance\n",
    "\n",
    "# Create a class named `Person` with an attribute `name`.\n",
    "#  Create a class named `Employee` with an attribute `employee_id`.\n",
    "#  Create a derived class `Manager` that inherits from both `Person` and `Employee`.\n",
    "#  Use the `super()` function to initialize the attributes.\n",
    "#  Create an object of the `Manager` class and print its attributes.\n",
    "class Person:\n",
    "    def __init__(self,name):\n",
    "        self.name= name\n",
    "\n",
    "class Employee:\n",
    "    def __init__(self,employee_id):\n",
    "        self.employee_id = employee_id\n",
    "\n",
    "class Manager (Person,Employee):\n",
    "    def __init__(self,name,employee_id):\n",
    "        super().__init__(name)\n",
    "        Employee.__init__(self,employee_id)\n",
    "\n",
    "manager = Manager('keshav',102042821)\n",
    "print(manager.name)\n",
    "print(manager.employee_id)"
   ]
  },
  {
   "cell_type": "code",
   "execution_count": 39,
   "id": "08835b5a",
   "metadata": {},
   "outputs": [
    {
     "name": "stdout",
     "output_type": "stream",
     "text": [
      "Car is starting\n",
      "Vehicle is starting\n"
     ]
    }
   ],
   "source": [
    "### Assignment 10: Method Overriding and `super()`\n",
    "\n",
    "# Create a class named `Vehicle` with a method `start` that prints a starting message.\n",
    "#  Create a derived class `Car` that overrides the `start` method to print a different message. \n",
    "# Use the `super()` function to call the `start` method of the `Vehicle` class. \n",
    "# Create an object of the `Car` class and call the `start` method.\n",
    "class Vehicle:\n",
    "    def start(self):\n",
    "        print('Vehicle is starting')\n",
    "\n",
    "class Car(Vehicle):\n",
    "    def start(self):\n",
    "        print('Car is starting')\n",
    "        super().start()\n",
    "\n",
    "car = Car()\n",
    "car.start()\n",
    "    "
   ]
  },
  {
   "cell_type": "code",
   "execution_count": 42,
   "id": "4b01e412",
   "metadata": {},
   "outputs": [
    {
     "name": "stdout",
     "output_type": "stream",
     "text": [
      "flying...\n",
      "swimming\n"
     ]
    }
   ],
   "source": [
    "### Assignment 11: Multiple Inheritance with Different Methods\n",
    "\n",
    "# Create a class named `Flyer` with a method `fly` that prints a flying message.\n",
    "#  Create a class named `Swimmer` with a method `swim` that prints a swimming message.\n",
    "#  Create a derived class `Superhero` that inherits from both `Flyer` and `Swimmer`.\n",
    "#  Create an object of the `Superhero` class and call both methods.\n",
    "\n",
    "class Flyer:\n",
    "    def fly(self):\n",
    "        print('flying...')\n",
    "\n",
    "class Swimmer:\n",
    "    def swim(self):\n",
    "        print('swimming')\n",
    "\n",
    "class Superhero(Flyer,Swimmer):\n",
    "    pass\n",
    "\n",
    "superhero = Superhero()\n",
    "superhero.fly()\n",
    "superhero.swim()"
   ]
  },
  {
   "cell_type": "code",
   "execution_count": 47,
   "id": "01193faa",
   "metadata": {},
   "outputs": [
    {
     "name": "stdout",
     "output_type": "stream",
     "text": [
      "1\n",
      "2\n",
      "3\n"
     ]
    }
   ],
   "source": [
    "### Assignment 12: Complex Multiple Inheritance\n",
    "\n",
    "# Create a class named `Base1` with an attribute `a`.\n",
    "#  Create a class named `Base2` with an attribute `b`.\n",
    "#  Create a class named `Derived` that inherits from both `Base1` and `Base2` and\n",
    "#  adds an attribute `c`. Initialize all attributes using the `super()` function.\n",
    "#  Create an object of the `Derived` class and print its attributes.\n",
    "class Base1:\n",
    "    def __init__(self,a):\n",
    "        self.a= a\n",
    "class Base2:\n",
    "    def __init__(self,b):\n",
    "        self.b= b\n",
    "class Derived(Base1,Base2):\n",
    "    def __init__(self,a,b,c):\n",
    "        super().__init__(a)\n",
    "        Base2.__init__(self,b)\n",
    "        self.c= c\n",
    "\n",
    "derived = Derived(1,2,3)\n",
    "print(derived.a)\n",
    "print(derived.b)\n",
    "print(derived.c)\n",
    "                "
   ]
  },
  {
   "cell_type": "code",
   "execution_count": 49,
   "id": "289996b2",
   "metadata": {},
   "outputs": [
    {
     "name": "stdout",
     "output_type": "stream",
     "text": [
      "True\n",
      "True\n",
      "True\n",
      "False\n"
     ]
    }
   ],
   "source": [
    "### Assignment 13: Checking Instance Types with Inheritance\n",
    "\n",
    "# Create a base class named `Animal` and a derived class named `Cat`.\n",
    "#  Create objects of both classes and use the `isinstance` function to check the instance types.\n",
    "class Animal:\n",
    "    pass\n",
    "\n",
    "class Cat(Animal):\n",
    "    pass\n",
    "\n",
    "animal = Animal()\n",
    "cat = Cat()\n",
    "print(isinstance(cat,Cat))\n",
    "print(isinstance(cat,Animal))\n",
    "print(isinstance(animal,Animal))\n",
    "print(isinstance(animal,Cat))"
   ]
  },
  {
   "cell_type": "code",
   "execution_count": 54,
   "id": "8d547361",
   "metadata": {},
   "outputs": [
    {
     "name": "stdout",
     "output_type": "stream",
     "text": [
      "Parrot says: sqawk!\n",
      "Penguin says: Honk!\n"
     ]
    }
   ],
   "source": [
    "### Assignment 14: Polymorphism with Inheritance\n",
    "\n",
    "# Create a base class named `Bird` with a method `speak`.\n",
    "#  Create two derived classes `Parrot` and `Penguin` that override the `speak` method.\n",
    "#  Create a list of `Bird` objects and call the `speak` method on each object to demonstrate polymorphism.\n",
    "class Bird:\n",
    "    def speak(self):\n",
    "        pass\n",
    "class Parrot(Bird):\n",
    "    def speak(self):\n",
    "        print('Parrot says: sqawk!')\n",
    "class Penguin(Bird):\n",
    "    def speak(self):\n",
    "        print('Penguin says: Honk!')\n",
    "Birds = [Parrot(),Penguin()]\n",
    "for bird in Birds:\n",
    "    bird.speak()"
   ]
  },
  {
   "cell_type": "code",
   "execution_count": 62,
   "id": "61de0d69",
   "metadata": {},
   "outputs": [
    {
     "name": "stdout",
     "output_type": "stream",
     "text": [
      "vivo\n",
      "v2036\n",
      "12MP\n"
     ]
    }
   ],
   "source": [
    "### Assignment 15: Combining Single and Multiple Inheritance\n",
    "\n",
    "# Create a base class named `Device` with an attribute `brand`.\n",
    "#  Create a derived class `Phone` that inherits from `Device` and adds an attribute `model`.\n",
    "#  Create another base class `Camera` with an attribute `resolution`.\n",
    "#  Create a derived class `Smartphone` that inherits from both `Phone` and `Camera`. \n",
    "# Create an object of the `Smartphone` class and print its attributes.\n",
    "class Device:\n",
    "    def __init__(self,brand):\n",
    "        self.brand = brand\n",
    "\n",
    "class Phone(Device):\n",
    "    def __init__(self,brand,model):\n",
    "        super().__init__(brand)\n",
    "        self.model = model\n",
    "\n",
    "class Camera:\n",
    "    def __init__(self,resolution):\n",
    "        self.resolution = resolution\n",
    "\n",
    "class Smartphone(Phone,Camera):\n",
    "    def __init__(self,brand,model,resolution):\n",
    "        Phone.__init__(self,brand,model)\n",
    "        Camera.__init__(self,resolution)\n",
    "\n",
    "smartphone = Smartphone('vivo','v2036','12MP')\n",
    "print(smartphone.brand)\n",
    "print(smartphone.model)\n",
    "print(smartphone.resolution)"
   ]
  },
  {
   "cell_type": "code",
   "execution_count": null,
   "id": "6b6f858a",
   "metadata": {},
   "outputs": [],
   "source": []
  }
 ],
 "metadata": {
  "kernelspec": {
   "display_name": "venv",
   "language": "python",
   "name": "python3"
  },
  "language_info": {
   "codemirror_mode": {
    "name": "ipython",
    "version": 3
   },
   "file_extension": ".py",
   "mimetype": "text/x-python",
   "name": "python",
   "nbconvert_exporter": "python",
   "pygments_lexer": "ipython3",
   "version": "3.12.0"
  }
 },
 "nbformat": 4,
 "nbformat_minor": 5
}
