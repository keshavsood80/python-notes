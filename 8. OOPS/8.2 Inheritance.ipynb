{
 "cells": [
  {
   "cell_type": "markdown",
   "metadata": {},
   "source": [
    "Inheritance in python"
   ]
  },
  {
   "cell_type": "markdown",
   "metadata": {},
   "source": [
    "Inheritance is a fundamental concept in Object Oriented Programming (OOP) that allows a class to inherit attributes and methods from another class. This lesson covers single inheritance and multiple inheritance, demonstrating how to create and use them in python."
   ]
  },
  {
   "cell_type": "code",
   "execution_count": 2,
   "metadata": {},
   "outputs": [],
   "source": [
    "# Inheritance (Single Inheritance)\n",
    "# Parent Class\n",
    "class Car:\n",
    "    def __init__(self,windows,doors,enginetype):\n",
    "        self.windows = windows\n",
    "        self.doors = doors\n",
    "        self.enginetype = enginetype\n",
    "    def drive(self):\n",
    "        print(f'The person will drive {self.enginetype} car')"
   ]
  },
  {
   "cell_type": "code",
   "execution_count": 3,
   "metadata": {},
   "outputs": [
    {
     "name": "stdout",
     "output_type": "stream",
     "text": [
      "The person will drive petrol car\n"
     ]
    }
   ],
   "source": [
    "# create object\n",
    "car1 = Car(4,5,'petrol')\n",
    "# calling method\n",
    "car1.drive()"
   ]
  },
  {
   "cell_type": "code",
   "execution_count": null,
   "metadata": {},
   "outputs": [],
   "source": [
    "# In Tesla, It needs to inherit from the car blueprint itself\n",
    "# because in tesla also I will be having windows, doors and engine type\n",
    "# and There may be some additional feature that may be available in tesla so I dont have to define the entire thing again.\n",
    "# I can inherit the entire class and inherit its properties, functions or methods\n",
    "\n",
    "class Tesla (Car):\n",
    "     # Tesla is child class(Car is the parent class from where we are inheriting)\n",
    "     def __init__(self,windows,doors,enginetype,is_selfdriving):\n",
    "          # is_selfdriving is an additinal attribute\n",
    "          super().__init__(windows,doors,enginetype)\n",
    "          # super() means trying to call the parent class\n",
    "          # super().__init__ means trying to call my __init__ from the parent class\n",
    "          # These (windows,doors,enginetype) attritbutes I should be getting from the car class\n",
    "          # so I dont have to again define it \n",
    "          self.is_selfdriving = is_selfdriving\n",
    "          # Only this attribute I will try to create in tesla class\n",
    "\n",
    "          # We are also be able to inherit the instance methods of parent class too \n",
    "     def selfdriving(self):\n",
    "      print(f'Tesla support self driving: {self.is_selfdriving}')"
   ]
  },
  {
   "cell_type": "code",
   "execution_count": 5,
   "metadata": {},
   "outputs": [
    {
     "name": "stdout",
     "output_type": "stream",
     "text": [
      "Tesla support self driving: True\n",
      "The person will drive electric car\n"
     ]
    }
   ],
   "source": [
    "Tesla1 = Tesla(4,5,'electric',True)\n",
    "Tesla1.selfdriving()\n",
    "Tesla1.drive()"
   ]
  },
  {
   "cell_type": "code",
   "execution_count": 1,
   "metadata": {},
   "outputs": [
    {
     "data": {
      "text/plain": [
       "'rocky says woof'"
      ]
     },
     "execution_count": 1,
     "metadata": {},
     "output_type": "execute_result"
    }
   ],
   "source": [
    "# Multiple Inheritance\n",
    "# When a class inherits from more than one base class\n",
    "# Base class 1\n",
    "class Animal:\n",
    "    def __init__(self,name):\n",
    "        self.name = name\n",
    "    def speak(self):\n",
    "        print('Subclass must implement this method')\n",
    "# Base Class 2\n",
    "class Pet:\n",
    "    def __init__(self,owner):\n",
    "        self.owner=owner\n",
    "\n",
    "# Derived Class\n",
    "class Dog(Animal,Pet):\n",
    "    def __init__(self,name,owner):\n",
    "        Animal.__init__(self,name)\n",
    "        Pet.__init__(self,owner)\n",
    "        # Animal.__init__() is another method to call the class\n",
    "        # we use super() when we have one parent class but now we have more than one (base class 1 &2)\n",
    "    def speak(self):\n",
    "        return f\"{self.name} says woof\"\n",
    "\n",
    "# create an object\n",
    "dog= Dog('rocky','keshav')\n",
    "dog.speak()\n",
    "\n",
    "# We have created two parent class and inheriting from derived class\n",
    "# called as Multiple Inheritance"
   ]
  },
  {
   "cell_type": "code",
   "execution_count": null,
   "metadata": {},
   "outputs": [],
   "source": []
  },
  {
   "cell_type": "code",
   "execution_count": null,
   "metadata": {},
   "outputs": [],
   "source": []
  },
  {
   "cell_type": "code",
   "execution_count": null,
   "metadata": {},
   "outputs": [],
   "source": []
  },
  {
   "cell_type": "code",
   "execution_count": null,
   "metadata": {},
   "outputs": [],
   "source": []
  },
  {
   "cell_type": "code",
   "execution_count": null,
   "metadata": {},
   "outputs": [],
   "source": []
  },
  {
   "cell_type": "code",
   "execution_count": null,
   "metadata": {},
   "outputs": [],
   "source": []
  },
  {
   "cell_type": "code",
   "execution_count": null,
   "metadata": {},
   "outputs": [],
   "source": []
  }
 ],
 "metadata": {
  "kernelspec": {
   "display_name": "Python 3",
   "language": "python",
   "name": "python3"
  },
  "language_info": {
   "codemirror_mode": {
    "name": "ipython",
    "version": 3
   },
   "file_extension": ".py",
   "mimetype": "text/x-python",
   "name": "python",
   "nbconvert_exporter": "python",
   "pygments_lexer": "ipython3",
   "version": "3.12.0"
  }
 },
 "nbformat": 4,
 "nbformat_minor": 2
}
