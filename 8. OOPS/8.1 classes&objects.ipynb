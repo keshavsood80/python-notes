{
 "cells": [
  {
   "cell_type": "markdown",
   "metadata": {},
   "source": [
    "### Classes and Objects"
   ]
  },
  {
   "cell_type": "markdown",
   "metadata": {},
   "source": [
    "Object Oriented Programming (OOP) is a programming paradigm that uses 'objects' to design applications and computer programs. OOP allows for modelling real world scenerios using classes and objects. This lesson covers the basic of classes and objects, including instance variables and methods."
   ]
  },
  {
   "cell_type": "code",
   "execution_count": 2,
   "metadata": {},
   "outputs": [
    {
     "name": "stdout",
     "output_type": "stream",
     "text": [
      "<class '__main__.car'>\n",
      "<class '__main__.car'>\n"
     ]
    }
   ],
   "source": [
    "### A class is a blue print for creating objects. Attributes,methods\n",
    "# How to create a class ?\n",
    "\n",
    "class car:\n",
    "    pass\n",
    "# 1.class (use class keyword) car (class name)\n",
    "\n",
    "audi = car()\n",
    "bmw = car()\n",
    "# 2. audi object is a type of car , use the same blue print and create this particular object.\n",
    "print(type(audi))\n",
    "print(type(bmw))"
   ]
  },
  {
   "cell_type": "code",
   "execution_count": 3,
   "metadata": {},
   "outputs": [
    {
     "name": "stdout",
     "output_type": "stream",
     "text": [
      "<__main__.car object at 0x000002BA24622F00>\n",
      "<__main__.car object at 0x000002BA24683290>\n"
     ]
    }
   ],
   "source": [
    "print(audi)\n",
    "print(bmw)\n",
    "# this is the car object at this specific memory location."
   ]
  },
  {
   "cell_type": "code",
   "execution_count": 4,
   "metadata": {},
   "outputs": [
    {
     "name": "stdout",
     "output_type": "stream",
     "text": [
      "4\n"
     ]
    }
   ],
   "source": [
    "audi.windows = 4\n",
    "# define one instance variable (windows) present inside the audi class\n",
    "print(audi.windows)\n",
    "\n",
    "# windows is a kind of attribute that is present inside the car\n",
    "# and for audi, it may be that I may have four windows\n",
    "# for other car, I may have just two windows\n",
    "# so I can change that particular attribute values\n",
    "\n",
    "# But Initializing attributes like this is not a proper way."
   ]
  },
  {
   "cell_type": "code",
   "execution_count": 7,
   "metadata": {},
   "outputs": [
    {
     "name": "stdout",
     "output_type": "stream",
     "text": [
      "2\n"
     ]
    }
   ],
   "source": [
    "# initialize with the car object\n",
    "tata = car()\n",
    "tata.doors = 2\n",
    "print(tata.doors)\n",
    "\n",
    "\n",
    "# This is not a proper way to "
   ]
  },
  {
   "cell_type": "code",
   "execution_count": null,
   "metadata": {},
   "outputs": [],
   "source": []
  },
  {
   "cell_type": "code",
   "execution_count": null,
   "metadata": {},
   "outputs": [
    {
     "data": {
      "text/plain": [
       "['__class__',\n",
       " '__delattr__',\n",
       " '__dict__',\n",
       " '__dir__',\n",
       " '__doc__',\n",
       " '__eq__',\n",
       " '__format__',\n",
       " '__ge__',\n",
       " '__getattribute__',\n",
       " '__getstate__',\n",
       " '__gt__',\n",
       " '__hash__',\n",
       " '__init__',\n",
       " '__init_subclass__',\n",
       " '__le__',\n",
       " '__lt__',\n",
       " '__module__',\n",
       " '__ne__',\n",
       " '__new__',\n",
       " '__reduce__',\n",
       " '__reduce_ex__',\n",
       " '__repr__',\n",
       " '__setattr__',\n",
       " '__sizeof__',\n",
       " '__str__',\n",
       " '__subclasshook__',\n",
       " '__weakref__',\n",
       " 'windows']"
      ]
     },
     "execution_count": 8,
     "metadata": {},
     "output_type": "execute_result"
    }
   ],
   "source": [
    "# directory of specific class\n",
    "# there will be a lot of different-2 inbuilt methods\n",
    "# every inbuilt methods will be doing something else\n",
    "dir(audi)\n"
   ]
  },
  {
   "cell_type": "code",
   "execution_count": null,
   "metadata": {},
   "outputs": [],
   "source": [
    "#  We will use __init__ method \n",
    "# its called constructor"
   ]
  },
  {
   "cell_type": "code",
   "execution_count": null,
   "metadata": {},
   "outputs": [],
   "source": [
    "# Instance Variable and methods\n",
    "\n",
    "# How we can clearly define all the attributes and methods while we are creating the objects itself\n",
    "\n",
    "\n",
    "class dog: # dog is a blueprint\n",
    "    # constructor\n",
    "    def __init__(self,name,age):\n",
    "        # I will be able to define all the attributes that will be available inside this particular class\n",
    "        # self is keyword use worldwide\n",
    "        # self keyword is responsible in accessing the instance variable inside class itself whenever we create object\n",
    "        # name and age are attributes\n",
    "        self.name= name\n",
    "        self.age = age\n",
    "        # I create instance variable 'self.name',\n",
    "        # 'self.name' - this is nothing but a instance variable that is available in inside the dog class.\n",
    "  "
   ]
  },
  {
   "cell_type": "code",
   "execution_count": null,
   "metadata": {},
   "outputs": [
    {
     "name": "stdout",
     "output_type": "stream",
     "text": [
      "<__main__.dog object at 0x000001510E97B620>\n",
      "Buddy\n",
      "3\n"
     ]
    }
   ],
   "source": [
    "\n",
    "# create objects\n",
    "Dog1 = dog('Buddy',3)\n",
    "print(Dog1)\n",
    "# created dog object at this (0x000001510EAD8620) specific memory location \n",
    "\n",
    "print(Dog1.name)\n",
    "print(Dog1.age)\n",
    "# I am able to get that value"
   ]
  },
  {
   "cell_type": "code",
   "execution_count": null,
   "metadata": {},
   "outputs": [
    {
     "name": "stdout",
     "output_type": "stream",
     "text": [
      "<__main__.dog object at 0x000001510EAF0620>\n",
      "lucy\n",
      "4\n"
     ]
    }
   ],
   "source": [
    "# I can create any number of dog objects\n",
    "Dog2 = dog('lucy',4)\n",
    "print(Dog2)\n",
    "print(Dog2.name)\n",
    "print(Dog2.age)\n",
    "# I am able to access this instance variable\n",
    "\n",
    "# whateve things we define in the constructor,only those number of instance variable itself we can create.\n",
    "# If I require anymore instance variable then i will type self.blahblah in constructor."
   ]
  },
  {
   "cell_type": "code",
   "execution_count": null,
   "metadata": {},
   "outputs": [],
   "source": [
    "# Instance Variable and methods\n",
    "# Instance Variable is some kind of properties or attributes like name and age are properties of dog.\n",
    "# Instance methods is some kind of functionalities like a dog is barking or it may be running at a speed\n"
   ]
  },
  {
   "cell_type": "code",
   "execution_count": 10,
   "metadata": {},
   "outputs": [
    {
     "name": "stdout",
     "output_type": "stream",
     "text": [
      "name of dog is : rocky\n",
      "rocky says woof\n"
     ]
    }
   ],
   "source": [
    "# Define a class with instance methods\n",
    "class Dog:\n",
    "    # Instance Variable\n",
    "    def __init__(self,name,age):\n",
    "        self.name = name\n",
    "        self.age = age\n",
    "\n",
    "    # Instance methods\n",
    "    def bark(self):\n",
    "        print(f'{self.name} says woof')\n",
    "\n",
    "# create object\n",
    "dog1 = Dog('rocky',3)\n",
    "print(f'name of dog is : {dog1.name}')\n",
    "\n",
    "# calling method function\n",
    "dog1.bark()"
   ]
  },
  {
   "cell_type": "code",
   "execution_count": 1,
   "metadata": {},
   "outputs": [
    {
     "name": "stdout",
     "output_type": "stream",
     "text": [
      "5000\n"
     ]
    }
   ],
   "source": [
    "# Modelling a Bank Account\n",
    "# Define a class for Bank Account\n",
    "\n",
    "class BankAccount:\n",
    "    # constructor\n",
    "    def __init__(self,owner,balance =0):\n",
    "    # Instance Variables\n",
    "        self.owner = owner\n",
    "        self.balance = balance\n",
    "    \n",
    "    # Instance methods\n",
    "    def deposit(self,amount):\n",
    "        self.balance+=amount\n",
    "        print(f'{amount} is deposited. New Balance is {self.balance}')\n",
    "    def withdraw(self,amount):\n",
    "        if self.balance< amount:\n",
    "            print('Insufficient Balance')\n",
    "        else:\n",
    "            self.balance-= amount\n",
    "            print(f'{amount} is withdrawn. New Balance is {self.balance}')\n",
    "    def get_balance(self):\n",
    "        return self.balance\n",
    "    \n",
    "# create (objects) an account\n",
    "account = BankAccount('keshav',5000)\n",
    "print(account.balance)\n"
   ]
  },
  {
   "cell_type": "code",
   "execution_count": 19,
   "metadata": {},
   "outputs": [
    {
     "name": "stdout",
     "output_type": "stream",
     "text": [
      "500 is deposited. New Balance is 5500\n"
     ]
    }
   ],
   "source": [
    "# Call Instance Methods\n",
    "account.deposit(500)"
   ]
  },
  {
   "cell_type": "code",
   "execution_count": 20,
   "metadata": {},
   "outputs": [
    {
     "name": "stdout",
     "output_type": "stream",
     "text": [
      "300 is withdrawn. New Balance is 5200\n"
     ]
    }
   ],
   "source": [
    "account.withdraw(300)"
   ]
  },
  {
   "cell_type": "code",
   "execution_count": 28,
   "metadata": {},
   "outputs": [
    {
     "name": "stdout",
     "output_type": "stream",
     "text": [
      "5000\n"
     ]
    }
   ],
   "source": [
    "print(account.get_balance())"
   ]
  },
  {
   "cell_type": "code",
   "execution_count": null,
   "metadata": {},
   "outputs": [],
   "source": []
  },
  {
   "cell_type": "code",
   "execution_count": null,
   "metadata": {},
   "outputs": [],
   "source": []
  },
  {
   "cell_type": "code",
   "execution_count": null,
   "metadata": {},
   "outputs": [],
   "source": []
  }
 ],
 "metadata": {
  "kernelspec": {
   "display_name": "Python 3",
   "language": "python",
   "name": "python3"
  },
  "language_info": {
   "codemirror_mode": {
    "name": "ipython",
    "version": 3
   },
   "file_extension": ".py",
   "mimetype": "text/x-python",
   "name": "python",
   "nbconvert_exporter": "python",
   "pygments_lexer": "ipython3",
   "version": "3.12.0"
  }
 },
 "nbformat": 4,
 "nbformat_minor": 2
}
