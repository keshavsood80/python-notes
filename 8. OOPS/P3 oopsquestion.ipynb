{
 "cells": [
  {
   "cell_type": "markdown",
   "metadata": {},
   "source": [
    "# Module: OOP Assignments\n",
    "## Lesson: Polymorphism, Abstraction, and Encapsulation\n",
    "\n",
    "\n"
   ]
  },
  {
   "cell_type": "code",
   "execution_count": 14,
   "metadata": {},
   "outputs": [
    {
     "name": "stdout",
     "output_type": "stream",
     "text": [
      "78.53981633974483\n",
      "36\n"
     ]
    }
   ],
   "source": [
    "### Assignment 1: Polymorphism with Methods\n",
    "\n",
    "# Create a base class named `Shape` with a method `area`.\n",
    "#  Create two derived classes `Circle` and `Square` that override the `area` method.\n",
    "#  Create a list of `Shape` objects and call the `area` method on each object to demonstrate polymorphism.\n",
    "import math\n",
    "class Shape:\n",
    "    def area(self):\n",
    "        pass\n",
    "\n",
    "class Circle(Shape):\n",
    "    def __init__(self,radius):\n",
    "        self.radius = radius\n",
    "    def area(self):\n",
    "        return math.pi* self.radius**2\n",
    "    \n",
    "class Square(Shape):\n",
    "    def __init__(self,sides):\n",
    "        self.sides = sides\n",
    "    def area (self):\n",
    "        return self.sides**2\n",
    "        \n",
    "# create objects\n",
    "shapes = [Circle(5),Square(6)]\n",
    "for shape in shapes:\n",
    "    print(shape.area())"
   ]
  },
  {
   "cell_type": "code",
   "execution_count": 17,
   "id": "f65a1f17",
   "metadata": {},
   "outputs": [
    {
     "data": {
      "text/plain": [
       "36"
      ]
     },
     "execution_count": 17,
     "metadata": {},
     "output_type": "execute_result"
    }
   ],
   "source": [
    "### Assignment 2: Polymorphism with Function Arguments\n",
    "\n",
    "# Create a function named `describe_shape` that takes a `Shape` object as an argument and\n",
    "#  calls its `area` method. Create objects of `Circle` and `Square` classes and\n",
    "#  pass them to the `describe_shape` function.\n",
    "def describe_shape(shape):\n",
    "    return shape.area()\n",
    "\n",
    "describe_shape(shapes[0])\n",
    "describe_shape(shapes[1])"
   ]
  },
  {
   "cell_type": "code",
   "execution_count": 22,
   "id": "ef9b6e8e",
   "metadata": {},
   "outputs": [
    {
     "name": "stdout",
     "output_type": "stream",
     "text": [
      "car engine starting...\n",
      "bike engine starting...\n"
     ]
    }
   ],
   "source": [
    "### Assignment 3: Abstract Base Class with Abstract Methods\n",
    "\n",
    "# Create an abstract base class named `Vehicle` with an abstract method `start_engine`.\n",
    "#  Create derived classes `Car` and `Bike` that implement the `start_engine` method.\n",
    "#  Create objects of the derived classes and call the `start_engine` method.\n",
    "from abc import ABC, abstractmethod\n",
    "class Vehicle(ABC):\n",
    "    @abstractmethod\n",
    "    def strat_engine(self):\n",
    "        pass\n",
    "class Car(Vehicle):\n",
    "    def strat_engine(self):\n",
    "        print('car engine starting...') # We've written our own definition\n",
    "class Bike(Vehicle):\n",
    "    def strat_engine(self):\n",
    "        print('bike engine starting...') # We've written our own definition\n",
    "\n",
    "car = Car()\n",
    "bike =Bike()\n",
    "car.strat_engine()\n",
    "bike.strat_engine()"
   ]
  },
  {
   "cell_type": "code",
   "execution_count": 32,
   "id": "e214946a",
   "metadata": {},
   "outputs": [
    {
     "name": "stdout",
     "output_type": "stream",
     "text": [
      "Fuel type of car is Diesel\n",
      "Fuel type of bike is Petrol\n"
     ]
    }
   ],
   "source": [
    "### Assignment 4: Abstract Base Class with Concrete Methods\n",
    "\n",
    "# In the `Vehicle` class, add a concrete method `fuel_type` that returns a generic fuel type.\n",
    "# Override this method in `Car` and `Bike` classes to return specific fuel types.\n",
    "#  Create objects of the derived classes and call the `fuel_type` method.\n",
    "from abc import ABC, abstractmethod\n",
    "class Vehicle(ABC):\n",
    "    @abstractmethod\n",
    "    def strat_engine(self):\n",
    "        pass\n",
    "    def fuel_type(self):\n",
    "        pass\n",
    "class Car(Vehicle):\n",
    "    def strat_engine(self):\n",
    "        print('car engine starting...') # We've written our own definition\n",
    "    def fuel_type(self):\n",
    "        return 'Fuel type of car is Diesel'\n",
    "class Bike(Vehicle):\n",
    "    def strat_engine(self):\n",
    "        print('bike engine starting...') # We've written our own definition\n",
    "    def fuel_type(self):\n",
    "        return 'Fuel type of bike is Petrol'\n",
    "car = Car()\n",
    "bike =Bike()\n",
    "print(car.fuel_type())\n",
    "print(bike.fuel_type())"
   ]
  },
  {
   "cell_type": "code",
   "execution_count": 37,
   "id": "1a676aba",
   "metadata": {},
   "outputs": [
    {
     "name": "stdout",
     "output_type": "stream",
     "text": [
      "1300\n",
      "Insufficient Balance!\n"
     ]
    }
   ],
   "source": [
    "### Assignment 5: Encapsulation with Private Attributes\n",
    "\n",
    "# Create a class named `BankAccount` with private attributes `account_number` and `balance`.\n",
    "# Add methods to deposit and withdraw money, and to check the balance.\n",
    "# Ensure that the balance cannot be accessed directly.\n",
    "\n",
    "class BankAccount:\n",
    "    def __init__(self,account_number ,balance=0):\n",
    "        self.__account_number = account_number\n",
    "        self.__balance = balance\n",
    "\n",
    "    def deposit (self,amount):\n",
    "        self.__balance += amount\n",
    "\n",
    "    def withdraw (self,amount):\n",
    "        if amount<=self.__balance:\n",
    "            self.__balance -= amount\n",
    "        else:\n",
    "            print('Insufficient Balance!')\n",
    "    \n",
    "    def check_balance(self):\n",
    "        return self.__balance\n",
    "\n",
    "account = BankAccount('12345678', 1000)\n",
    "account.deposit(500)\n",
    "account.withdraw(200)\n",
    "print(account.check_balance())  # 1300\n",
    "account.withdraw(2000)  # Insufficient balance!    "
   ]
  },
  {
   "cell_type": "code",
   "execution_count": 14,
   "id": "0126d267",
   "metadata": {},
   "outputs": [
    {
     "name": "stdout",
     "output_type": "stream",
     "text": [
      "1300\n",
      "balance cannot be negative\n"
     ]
    }
   ],
   "source": [
    "### Assignment 6: Encapsulation with Property Decorators\n",
    "\n",
    "# In the `BankAccount` class, use property decorators to get and set the `balance` attribute.\n",
    "# Ensure that the balance cannot be set to a negative value.\n",
    "class BankAccount:\n",
    "    def __init__(self,account_number ,balance=0):\n",
    "        self.__account_number = account_number\n",
    "        self.__balance = balance\n",
    "    @property\n",
    "    def balance(self):\n",
    "        return self.__balance\n",
    "    @balance.setter\n",
    "    def balance(self,amount):\n",
    "        if amount<0:\n",
    "            print('balance cannot be negative')\n",
    "        else:\n",
    "            self.__balance= amount\n",
    "\n",
    "\n",
    "    def deposit (self,amount):\n",
    "        self.__balance += amount\n",
    "\n",
    "    def withdraw (self,amount):\n",
    "        if amount<=self.__balance:\n",
    "            self.__balance -= amount\n",
    "        else:\n",
    "            print('Insufficient Balance!')\n",
    "    \n",
    "    def check_balance(self):\n",
    "        return self.__balance\n",
    "\n",
    "account = BankAccount('12345678', 1000)\n",
    "account.deposit(500)\n",
    "account.withdraw(200)\n",
    "print(account.balance)  # 1300\n",
    "account.balance = -500    "
   ]
  },
  {
   "cell_type": "code",
   "execution_count": 45,
   "id": "4d4ed3da",
   "metadata": {},
   "outputs": [
    {
     "name": "stdout",
     "output_type": "stream",
     "text": [
      "keshav\n",
      "25\n",
      "27021999\n",
      "keshav sood\n",
      "26\n"
     ]
    }
   ],
   "source": [
    "### Assignment 7: Combining Encapsulation and Inheritance\n",
    "\n",
    "# Create a base class named `Person` with private attributes `name` and `age`. \n",
    "# Add methods to get and set these attributes. \n",
    "# Create a derived class named `Student` that adds an attribute `student_id`. \n",
    "# Create an object of the `Student` class and test the encapsulation.\n",
    "class Person:\n",
    "    def __init__(self,name,age):\n",
    "        self.__name = name\n",
    "        self.__age = age\n",
    "    \n",
    "    # In order to access in private attributes we are using getter and setter methods\n",
    "    def get_name(self):\n",
    "        return self.__name\n",
    "    \n",
    "    def set_name(self,name):\n",
    "        self.__name = name # There is no need to write return bcoz we are setting \n",
    "\n",
    "    def get_age(self):\n",
    "        return self.__age\n",
    "    \n",
    "    def set_age(self,age):\n",
    "        self.__age = age\n",
    "\n",
    "class Student(Person):\n",
    "    def __init__(self,name,age,student_id):\n",
    "        super().__init__(name,age)\n",
    "        self.student_id = student_id\n",
    "\n",
    "st = Student('keshav',25,'27021999')\n",
    "print(st.get_name())\n",
    "print(st.get_age())\n",
    "print(st.student_id)\n",
    "st.set_name('keshav sood')\n",
    "st.set_age(26)\n",
    "print(st.get_name())\n",
    "print(st.get_age())"
   ]
  },
  {
   "cell_type": "code",
   "execution_count": 46,
   "id": "cee2b413",
   "metadata": {},
   "outputs": [
    {
     "name": "stdout",
     "output_type": "stream",
     "text": [
      "woof! woof!\n",
      "meow! meow!\n"
     ]
    }
   ],
   "source": [
    "### Assignment 8: Polymorphism with Inheritance\n",
    "\n",
    "# Create a base class named `Animal` with a method `speak`.\n",
    "# Create two derived classes `Dog` and `Cat` that override the `speak` method.\n",
    "# Create a list of `Animal` objects and call the `speak` method on each object to demonstrate polymorphism.\n",
    "class Animal:\n",
    "    def speak(self):\n",
    "        pass\n",
    "\n",
    "class Dog(Animal):\n",
    "    def speak(self):\n",
    "        print('woof! woof!')\n",
    "class Cat (Animal):\n",
    "    def speak(self):\n",
    "        print('meow! meow!')\n",
    "\n",
    "animals = [Dog(), Cat()]\n",
    "for animal in animals:\n",
    "    animal.speak()"
   ]
  },
  {
   "cell_type": "code",
   "execution_count": 54,
   "id": "d57e1998",
   "metadata": {},
   "outputs": [
    {
     "name": "stdout",
     "output_type": "stream",
     "text": [
      "5000\n"
     ]
    },
    {
     "data": {
      "text/plain": [
       "1600"
      ]
     },
     "execution_count": 54,
     "metadata": {},
     "output_type": "execute_result"
    }
   ],
   "source": [
    "### Assignment 9: Abstract Methods in Base Class\n",
    "\n",
    "# Create an abstract base class named `Employee` with an abstract method `calculate_salary`.\n",
    "#  Create two derived classes `FullTimeEmployee` and `PartTimeEmployee` that\n",
    "#  implement the `calculate_salary` method.\n",
    "#  Create objects of the derived classes and call the `calculate_salary` method.\n",
    "\n",
    "from abc import ABC, abstractmethod\n",
    "class Employee(ABC):\n",
    "    @abstractmethod\n",
    "    def calculate_salary(self):\n",
    "        pass\n",
    "class FullTimeEmployee(Employee):\n",
    "    def __init__(self,salary):\n",
    "        self.salary = salary\n",
    "\n",
    "    def calculate_salary(self):\n",
    "        return self.salary\n",
    "    \n",
    "class PartTimeEmployee(Employee):\n",
    "    def __init__(self,hourly_rate,hours_worked):\n",
    "        self.hourly_rate= hourly_rate\n",
    "        self.hours_worked = hours_worked\n",
    "\n",
    "    def calculate_salary(self):\n",
    "        return self.hourly_rate * self.hours_worked\n",
    "\n",
    "full= FullTimeEmployee(5000)\n",
    "part = PartTimeEmployee(20,80)\n",
    "print(full.calculate_salary())\n",
    "part.calculate_salary()"
   ]
  },
  {
   "cell_type": "code",
   "execution_count": 57,
   "id": "87ed4a0c",
   "metadata": {},
   "outputs": [
    {
     "name": "stdout",
     "output_type": "stream",
     "text": [
      "p001 Laptop 1000\n",
      "Price cannot be Negative Value\n",
      "p001 Laptop 1500\n"
     ]
    }
   ],
   "source": [
    "### Assignment 10: Encapsulation in Data Classes\n",
    "\n",
    "# Create a data class named `Product` with private attributes `product_id`, `name`, and `price`.\n",
    "# Add methods to get and set these attributes.\n",
    "# Ensure that the price cannot be set to a negative value.\n",
    "class Product:\n",
    "    def __init__(self,product_id,name,price):\n",
    "        self.__product_id = product_id\n",
    "        self.__name = name\n",
    "        self.__price = price\n",
    "    \n",
    "    def get_product_id(self):\n",
    "        return self.__product_id\n",
    "    \n",
    "    def set_product_id(self,product_id):\n",
    "        self.__product_id=product_id\n",
    "\n",
    "    def get_name(self):\n",
    "        return self.__name\n",
    "    \n",
    "    def set_name(self,name):\n",
    "        self.__name=name\n",
    "\n",
    "    def get_price(self):\n",
    "        return self.__price\n",
    "    \n",
    "    def set_price(self,price):\n",
    "        if price <0:\n",
    "            print(\"Price cannot be Negative!\")\n",
    "        else:\n",
    "            self.__price=price\n",
    "\n",
    "pr = Product('p001','Laptop',1000)\n",
    "print(pr.get_product_id(),pr.get_name(),pr.get_price())\n",
    "pr.set_price(-500)\n",
    "pr.set_price(1500)\n",
    "print(pr.get_product_id(),pr.get_name(),pr.get_price())\n"
   ]
  },
  {
   "cell_type": "code",
   "execution_count": 65,
   "id": "0de0ab83",
   "metadata": {},
   "outputs": [
    {
     "name": "stdout",
     "output_type": "stream",
     "text": [
      "Vector((9, 9))\n"
     ]
    }
   ],
   "source": [
    "### Assignment 11: Polymorphism with Operator Overloading\n",
    "\n",
    "# Create a class named `Vector` with attributes `x` and `y`.\n",
    "#  Overload the `+` operator to add two `Vector` objects. \n",
    "# Create objects of the class and test the operator overloading.\n",
    "class Vector:\n",
    "    def __init__(self,x,y):\n",
    "        self.x = x\n",
    "        self.y = y\n",
    "    def __add__(self,other):\n",
    "        return Vector(self.x + other.x , self.y + other.y)\n",
    "    def __repr__(self):\n",
    "        return f'Vector({self.x,self.y})'\n",
    "v1 = Vector(5,8)\n",
    "v2 = Vector(4,1)\n",
    "print(v1+v2)"
   ]
  },
  {
   "cell_type": "code",
   "execution_count": 12,
   "id": "ccd9de63",
   "metadata": {},
   "outputs": [
    {
     "name": "stdout",
     "output_type": "stream",
     "text": [
      "500w\n",
      "300w\n"
     ]
    }
   ],
   "source": [
    "### Assignment 12: Abstract Properties\n",
    "\n",
    "# Create an abstract base class named `Appliance` with an abstract property `power`.\n",
    "#  Create two derived classes `WashingMachine` and `Refrigerator` that implement the `power` property.\n",
    "#  Create objects of the derived classes and access the `power` property.\n",
    "from abc import ABC,abstractmethod\n",
    "class Appliance(ABC):\n",
    "    @property\n",
    "    @abstractmethod\n",
    "    def power(self):\n",
    "        pass\n",
    "class WashingMachine:\n",
    "    @property\n",
    "    def power(self):\n",
    "        return '500w'\n",
    "class Refrigerator:\n",
    "    @property\n",
    "    def power(self):\n",
    "        return '300w'\n",
    "    \n",
    "ws = WashingMachine()\n",
    "fridge = Refrigerator()\n",
    "print(ws.power)\n",
    "print(fridge.power)"
   ]
  },
  {
   "cell_type": "code",
   "execution_count": 6,
   "id": "39318057",
   "metadata": {},
   "outputs": [
    {
     "name": "stdout",
     "output_type": "stream",
     "text": [
      "12345678 1000 0.05\n",
      "12345678 1500 0.05\n"
     ]
    }
   ],
   "source": [
    "### Assignment 13: Encapsulation in Class Hierarchies\n",
    "\n",
    "# Create a base class named `Account` with private attributes `account_number` and `balance`.\n",
    "# Add methods to get and set these attributes. \n",
    "# Create a derived class named `SavingsAccount` that adds an attribute `interest_rate`.\n",
    "#  Create an object of the `SavingsAccount` class and test the encapsulation.\n",
    "class Account:\n",
    "    def __init__(self,account_number,balance=0):\n",
    "        self.__account_number = account_number\n",
    "        self.__balance = balance\n",
    "    \n",
    "    def get_acc (self):\n",
    "        return self.__account_number\n",
    "\n",
    "    def get_bal (self):\n",
    "        return self.__balance\n",
    "    def set_bal (self,balance):\n",
    "        if balance < 0 :\n",
    "            print('Balance cannot be negative')\n",
    "        else:\n",
    "            self.__balance = balance\n",
    "\n",
    "class SavingsAccount(Account):\n",
    "    def __init__(self,account_number,balance,interest_rate):\n",
    "        super().__init__(account_number,balance)\n",
    "        self.interest_rate = interest_rate\n",
    "\n",
    "s1 = SavingsAccount('12345678', 1000, 0.05)\n",
    "print(s1.get_acc(),s1.get_bal(),s1.interest_rate)\n",
    "s1.set_bal(1500)\n",
    "print(s1.get_acc(),s1.get_bal(),s1.interest_rate)"
   ]
  },
  {
   "cell_type": "code",
   "execution_count": 6,
   "id": "9b16a880",
   "metadata": {},
   "outputs": [
    {
     "name": "stdout",
     "output_type": "stream",
     "text": [
      "Superhero is swimming\n",
      "Superher is flying\n"
     ]
    }
   ],
   "source": [
    "### Assignment 14: Polymorphism with Multiple Inheritance\n",
    "\n",
    "# Create a class named `Flyer` with a method `fly`. \n",
    "# Create a class named `Swimmer` with a method `swim`.\n",
    "# Create a class named `Superhero` that inherits from both `Flyer` and `Swimmer` and \n",
    "# overrides both methods. Create an object of the `Superhero` class and call both methods.\n",
    "class Flyer:\n",
    "    def fly(self):\n",
    "        print('flying')\n",
    "class Swimmer:\n",
    "    def swim(self):\n",
    "        print('Swimming')\n",
    "class Superhero(Flyer,Swimmer):\n",
    "    def fly(self):\n",
    "        print('Superher is flying')\n",
    "    def swim(self):\n",
    "        print('Superhero is swimming')\n",
    "\n",
    "s = Superhero()\n",
    "s.swim()\n",
    "s.fly()"
   ]
  },
  {
   "cell_type": "code",
   "execution_count": 7,
   "id": "be7766d4",
   "metadata": {},
   "outputs": [
    {
     "name": "stdout",
     "output_type": "stream",
     "text": [
      "Engineer working...\n",
      "Doctor working...\n"
     ]
    }
   ],
   "source": [
    "### Assignment 15: Abstract Methods and Multiple Inheritance\n",
    "\n",
    "# Create an abstract base class named `Worker` with an abstract method `work`.\n",
    "#  Create two derived classes `Engineer` and `Doctor` that implement the `work` method.\n",
    "#  Create another derived class `Scientist` that inherits from both `Engineer` and `Doctor`.\n",
    "#  Create an object of the `Scientist` class and call the `work` method.\n",
    "from abc import ABC,abstractmethod\n",
    "class Worker(ABC):\n",
    "    @abstractmethod\n",
    "    def work(self):\n",
    "        pass\n",
    "class Engineer(Worker):\n",
    "    def work(self):\n",
    "        print('Engineer working...')\n",
    "class Doctor(Worker):\n",
    "    def work(self):\n",
    "        print('Doctor working...')\n",
    "class Scientist(Engineer,Doctor):\n",
    "    def work(self):\n",
    "        Engineer.work(self)\n",
    "        Doctor.work(self)\n",
    "\n",
    "scientist = Scientist()\n",
    "scientist.work()"
   ]
  },
  {
   "cell_type": "code",
   "execution_count": null,
   "id": "0ff54b6a",
   "metadata": {},
   "outputs": [],
   "source": []
  },
  {
   "cell_type": "code",
   "execution_count": null,
   "id": "f837337d",
   "metadata": {},
   "outputs": [],
   "source": []
  }
 ],
 "metadata": {
  "kernelspec": {
   "display_name": "Python 3",
   "language": "python",
   "name": "python3"
  },
  "language_info": {
   "codemirror_mode": {
    "name": "ipython",
    "version": 3
   },
   "file_extension": ".py",
   "mimetype": "text/x-python",
   "name": "python",
   "nbconvert_exporter": "python",
   "pygments_lexer": "ipython3",
   "version": "3.12.0"
  }
 },
 "nbformat": 4,
 "nbformat_minor": 5
}
