{
 "cells": [
  {
   "cell_type": "markdown",
   "metadata": {},
   "source": [
    "Encapsulation and Abstraction\n"
   ]
  },
  {
   "cell_type": "markdown",
   "metadata": {},
   "source": [
    "Encapsulation and Abstraction are two fundamental principles of Object Oriented Programming (OOP)\n",
    "that help in designing robust, maintainable and reusable code. Encapsulation involves bundling data and methods that operate on the data within a single unit, while abstraction involves hiding complex implementation details and exposing only the necessary features."
   ]
  },
  {
   "cell_type": "markdown",
   "metadata": {},
   "source": [
    "Encapsulation"
   ]
  },
  {
   "cell_type": "markdown",
   "metadata": {},
   "source": [
    "Encapsulation is the concept of wrangling data (variables) and methods (functions) together as a single unit. It restricts direct access to some of the object's components, which is a means of preventing accidental interferance and misuse of data.\n",
    "\n",
    "Encapsulation we can do something called as Getter and Setter methods.\n",
    "Three important variables are Public, Protected, Private variables."
   ]
  },
  {
   "cell_type": "code",
   "execution_count": 4,
   "metadata": {},
   "outputs": [
    {
     "data": {
      "text/plain": [
       "'Keshav'"
      ]
     },
     "execution_count": 4,
     "metadata": {},
     "output_type": "execute_result"
    }
   ],
   "source": [
    "## Encapsulation with Getter and Setter Methods\n",
    "## Public, Protected and Private variables\n",
    "\n",
    "class Person:\n",
    "    def __init__(self,name,age):\n",
    "        self.name= name ## This instance variable is Public\n",
    "        self.age = age  ## Public Variables\n",
    "\n",
    "def get_name(person):\n",
    "    return person.name\n",
    "\n",
    "person = Person('Keshav',25)\n",
    "get_name(person)\n"
   ]
  },
  {
   "cell_type": "code",
   "execution_count": null,
   "metadata": {},
   "outputs": [
    {
     "data": {
      "text/plain": [
       "['__class__',\n",
       " '__delattr__',\n",
       " '__dict__',\n",
       " '__dir__',\n",
       " '__doc__',\n",
       " '__eq__',\n",
       " '__format__',\n",
       " '__ge__',\n",
       " '__getattribute__',\n",
       " '__getstate__',\n",
       " '__gt__',\n",
       " '__hash__',\n",
       " '__init__',\n",
       " '__init_subclass__',\n",
       " '__le__',\n",
       " '__lt__',\n",
       " '__module__',\n",
       " '__ne__',\n",
       " '__new__',\n",
       " '__reduce__',\n",
       " '__reduce_ex__',\n",
       " '__repr__',\n",
       " '__setattr__',\n",
       " '__sizeof__',\n",
       " '__str__',\n",
       " '__subclasshook__',\n",
       " '__weakref__',\n",
       " 'age',\n",
       " 'name']"
      ]
     },
     "execution_count": 3,
     "metadata": {},
     "output_type": "execute_result"
    }
   ],
   "source": [
    "dir(person)\n",
    "# Reason of saying them a Public Variables is :-\n",
    "# I am able to see the name and age in dir(Person)"
   ]
  },
  {
   "cell_type": "code",
   "execution_count": null,
   "metadata": {},
   "outputs": [
    {
     "ename": "AttributeError",
     "evalue": "'Person' object has no attribute '__name'",
     "output_type": "error",
     "traceback": [
      "\u001b[1;31m---------------------------------------------------------------------------\u001b[0m",
      "\u001b[1;31mAttributeError\u001b[0m                            Traceback (most recent call last)",
      "Cell \u001b[1;32mIn[19], line 12\u001b[0m\n\u001b[0;32m      8\u001b[0m     \u001b[38;5;28;01mreturn\u001b[39;00m person\u001b[38;5;241m.\u001b[39m__name\n\u001b[0;32m     10\u001b[0m person \u001b[38;5;241m=\u001b[39m Person(\u001b[38;5;124m'\u001b[39m\u001b[38;5;124mKeshav\u001b[39m\u001b[38;5;124m'\u001b[39m,\u001b[38;5;241m25\u001b[39m,\u001b[38;5;124m'\u001b[39m\u001b[38;5;124mMale\u001b[39m\u001b[38;5;124m'\u001b[39m)\n\u001b[1;32m---> 12\u001b[0m \u001b[43mget_name\u001b[49m\u001b[43m(\u001b[49m\u001b[43mperson\u001b[49m\u001b[43m)\u001b[49m\n\u001b[0;32m     13\u001b[0m \u001b[38;5;66;03m## because This is a private variable and you will not be able to access it.\u001b[39;00m\n\u001b[0;32m     14\u001b[0m \n\u001b[0;32m     15\u001b[0m \u001b[38;5;66;03m# but below code will give correct result because directory have that\u001b[39;00m\n\u001b[0;32m     16\u001b[0m \u001b[38;5;66;03m# def get_name(person):\u001b[39;00m\n\u001b[0;32m     17\u001b[0m \u001b[38;5;66;03m#    return person._Person__name\u001b[39;00m\n",
      "Cell \u001b[1;32mIn[19], line 8\u001b[0m, in \u001b[0;36mget_name\u001b[1;34m(person)\u001b[0m\n\u001b[0;32m      7\u001b[0m \u001b[38;5;28;01mdef\u001b[39;00m \u001b[38;5;21mget_name\u001b[39m(person):\n\u001b[1;32m----> 8\u001b[0m     \u001b[38;5;28;01mreturn\u001b[39;00m \u001b[43mperson\u001b[49m\u001b[38;5;241;43m.\u001b[39;49m\u001b[43m__name\u001b[49m\n",
      "\u001b[1;31mAttributeError\u001b[0m: 'Person' object has no attribute '__name'"
     ]
    }
   ],
   "source": [
    "# Private Variable cannot be accessed from outside the class\n",
    "class Person:\n",
    "    def __init__(self,name,age,gender):\n",
    "        self.__name= name ## This instance variable is Private\n",
    "        self.__age = age  ## Private Variables\n",
    "        self.gender = gender # Public variable\n",
    "\n",
    "def get_name(person):\n",
    "    return person.__name\n",
    "\n",
    "person = Person('Keshav',25,'Male')\n",
    " \n",
    "get_name(person)\n",
    "## This will give Attribute Error because This is a private variable and\n",
    "#  you will not be able to access it.\n",
    "\n",
    "\n",
    "# but below code will give correct result because directory have that\n",
    "# def get_name(person):\n",
    "#    return person._Person__name\n"
   ]
  },
  {
   "cell_type": "code",
   "execution_count": null,
   "metadata": {},
   "outputs": [
    {
     "data": {
      "text/plain": [
       "['_Person__age',\n",
       " '_Person__name',\n",
       " '__class__',\n",
       " '__delattr__',\n",
       " '__dict__',\n",
       " '__dir__',\n",
       " '__doc__',\n",
       " '__eq__',\n",
       " '__format__',\n",
       " '__ge__',\n",
       " '__getattribute__',\n",
       " '__getstate__',\n",
       " '__gt__',\n",
       " '__hash__',\n",
       " '__init__',\n",
       " '__init_subclass__',\n",
       " '__le__',\n",
       " '__lt__',\n",
       " '__module__',\n",
       " '__ne__',\n",
       " '__new__',\n",
       " '__reduce__',\n",
       " '__reduce_ex__',\n",
       " '__repr__',\n",
       " '__setattr__',\n",
       " '__sizeof__',\n",
       " '__str__',\n",
       " '__subclasshook__',\n",
       " '__weakref__',\n",
       " 'gender']"
      ]
     },
     "execution_count": 20,
     "metadata": {},
     "output_type": "execute_result"
    }
   ],
   "source": [
    "# name and age is not in directory and we cannot use them in function when its a private variable\n",
    "\n",
    "# Double Underscore\n",
    "# __age is converted into '_Person__age' name\n",
    "# __name is converted into '_Person__name' name\n",
    "# gender is public variable so in dir(person) it will append in last without converted and can be accessed.\n",
    "\n",
    "\n",
    "# We are restrictig some of the variable because I don't want anyone to see these particular variable\n",
    "# or directly access these variables bcoz these are some very important attributes in a -\n",
    "# - class  I should not be changing frequently and only developer can see by using dir(object name)\n",
    "dir(person)"
   ]
  },
  {
   "cell_type": "code",
   "execution_count": null,
   "metadata": {},
   "outputs": [],
   "source": [
    "# Can we access it inside the class ?\n",
    "# yes, for that only we will be using getter and setter method\n",
    "\n",
    "# So private variable is something like which you cannot access outside the class\n",
    "# even you have derived class that can also not access it \n",
    "# This is one of the very important property of encapsulation"
   ]
  },
  {
   "cell_type": "code",
   "execution_count": 22,
   "metadata": {},
   "outputs": [
    {
     "name": "stdout",
     "output_type": "stream",
     "text": [
      "Keshav\n",
      "25\n",
      "Male\n"
     ]
    }
   ],
   "source": [
    "# Protected Variable or access modifier\n",
    "\n",
    "# single underscore \n",
    "# We cannot access these variables(_name,_age) outside the class but \n",
    "# We can access it from a derived class\n",
    "\n",
    "class Person:\n",
    "    def __init__(self,name,age,gender):\n",
    "        self._name= name ## This instance variable is Protected\n",
    "        self._age = age  ## Protected Variables\n",
    "        self.gender = gender # public variable\n",
    "\n",
    "class Employee(Person):\n",
    "    def __init__(self,name,age,gender):\n",
    "        super().__init__(name,age,gender)\n",
    "\n",
    "\n",
    "person = Person('Keshav',25,'Male')\n",
    " \n",
    "print(person._name)\n",
    "print(person._age)\n",
    "print(person.gender)\n"
   ]
  },
  {
   "cell_type": "code",
   "execution_count": 28,
   "metadata": {},
   "outputs": [
    {
     "name": "stdout",
     "output_type": "stream",
     "text": [
      "Keshav\n",
      "25\n",
      "26\n",
      "Age cannot be negative\n"
     ]
    }
   ],
   "source": [
    "# Encapsulation with Getter and Setter\n",
    "\n",
    "class Person:\n",
    "    def __init__(self,name,age):\n",
    "        self.__name = name # private access modifier or variable\n",
    "        self.__age = age # private access modifier or variable\n",
    "\n",
    "# In order to access this particular variable inside the class I can definitely do it\n",
    "# For this We will be using getter and setter method\n",
    "\n",
    "# getter method for name\n",
    "    def get_name(self):\n",
    "        return self.__name\n",
    "# with the help of get_name method\n",
    "# I should be able to get self.__name\n",
    "\n",
    "## setter method for name\n",
    "# It helps us to change any values that I give to the name\n",
    "    def set_name(self,name):\n",
    "        self.__name = name\n",
    "\n",
    "# with the help of getter we are retrieving the data\n",
    "# and with setter we are changing the name itself\n",
    "\n",
    "\n",
    "# Getter method for age\n",
    "    def get_age(self):\n",
    "        return self.__age\n",
    "    \n",
    "# Setter method for age\n",
    "    def set_age(self,age):\n",
    "        if age > 0:\n",
    "            self.__age =age\n",
    "        else:\n",
    "            print('Age cannot be negative')\n",
    "\n",
    "person = Person('Keshav',25)\n",
    "\n",
    "# Access and modify private variable using getter and setter\n",
    "\n",
    "print(person.get_name())\n",
    "print(person.get_age())\n",
    "\n",
    "person.set_age(26)\n",
    "print(person.get_age())\n",
    "\n",
    "person.set_age(-5)"
   ]
  },
  {
   "cell_type": "code",
   "execution_count": null,
   "metadata": {},
   "outputs": [],
   "source": []
  }
 ],
 "metadata": {
  "kernelspec": {
   "display_name": "venv",
   "language": "python",
   "name": "python3"
  },
  "language_info": {
   "codemirror_mode": {
    "name": "ipython",
    "version": 3
   },
   "file_extension": ".py",
   "mimetype": "text/x-python",
   "name": "python",
   "nbconvert_exporter": "python",
   "pygments_lexer": "ipython3",
   "version": "3.12.0"
  }
 },
 "nbformat": 4,
 "nbformat_minor": 2
}
