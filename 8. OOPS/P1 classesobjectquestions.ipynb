{
 "cells": [
  {
   "cell_type": "markdown",
   "metadata": {},
   "source": [
    "# Module: Classes and Objects Assignments\n",
    "## Lesson: Creating and Working with Classes and Objects\n",
    "\n",
    "\n"
   ]
  },
  {
   "cell_type": "code",
   "execution_count": 3,
   "metadata": {},
   "outputs": [
    {
     "name": "stdout",
     "output_type": "stream",
     "text": [
      "Audi A4\n",
      "Valkswagen Group\n",
      "2025\n"
     ]
    }
   ],
   "source": [
    "### Assignment 1: Basic Class and Object Creation\n",
    "\n",
    "# Create a class named `Car` with attributes `make`, `model`, and `year`.\n",
    "#  Create an object of the class and print its attributes.\n",
    "class Car:\n",
    "    # constructor\n",
    "    def __init__(self,make,model,year):\n",
    "        self.make = make\n",
    "        self.model = model\n",
    "        self.year = year\n",
    "\n",
    "# Creating Object:\n",
    "\n",
    "audi = Car('Valkswagen Group','Audi A4',2025)\n",
    "\n",
    "print(audi.model)\n",
    "print(audi.make)\n",
    "print(audi.year)"
   ]
  },
  {
   "cell_type": "code",
   "execution_count": null,
   "id": "957b5925",
   "metadata": {},
   "outputs": [
    {
     "name": "stdout",
     "output_type": "stream",
     "text": [
      "The engine has started\n"
     ]
    }
   ],
   "source": [
    "### Assignment 2: Methods in Class\n",
    "\n",
    "# Add a method named `start_engine` to the `Car` class that prints a message when the engine starts.\n",
    "#  Create an object of the class and call the method.\n",
    "class Car:\n",
    "    # constructor\n",
    "    def __init__(self,make,model,year):\n",
    "        self.make = make\n",
    "        self.model = model\n",
    "        self.year = year\n",
    "    # Instance Method:\n",
    "    def start_engine(self):\n",
    "        print('The engine has started')\n",
    "\n",
    "audi = Car('Valkswagen Group','Audi A4',2025)\n",
    "\n",
    "#Calling the methods\n",
    "audi.start_engine()"
   ]
  },
  {
   "cell_type": "code",
   "execution_count": 8,
   "id": "3564d32a",
   "metadata": {},
   "outputs": [
    {
     "name": "stdout",
     "output_type": "stream",
     "text": [
      "Keshav 26\n"
     ]
    }
   ],
   "source": [
    "### Assignment 3: Class with Constructor\n",
    "\n",
    "# Create a class named `Student` with attributes `name` and `age`. \n",
    "# Use a constructor to initialize these attributes.\n",
    "#  Create an object of the class and print its attributes.\n",
    "class Student:\n",
    "    def __init__(self,name,age):\n",
    "        self.name = name\n",
    "        self.age = age\n",
    "\n",
    "Intelligent = Student('Keshav',26)\n",
    "print(Intelligent.name,Intelligent.age)"
   ]
  },
  {
   "cell_type": "code",
   "execution_count": 9,
   "id": "6e847fdb",
   "metadata": {},
   "outputs": [
    {
     "name": "stdout",
     "output_type": "stream",
     "text": [
      "16000 is deposited. New balance is 66000\n",
      "10000 withdrawn. New balance is 56000\n"
     ]
    },
    {
     "data": {
      "text/plain": [
       "56000"
      ]
     },
     "execution_count": 9,
     "metadata": {},
     "output_type": "execute_result"
    }
   ],
   "source": [
    "### Assignment 4: Class with Private Attributes\n",
    "\n",
    "# Create a class named `BankAccount` with private attributes `account_number` and `balance`.\n",
    "#  Add methods to deposit and withdraw money, and to check the balance.\n",
    "#  Create an object of the class and perform some operations.\n",
    "class BankAccount:\n",
    "    # creating attributes\n",
    "    def __init__(self,account_number,balance=0):\n",
    "        self.account_number = account_number\n",
    "        self.balance = balance\n",
    "\n",
    "    # creating objects\n",
    "    def deposit(self,amount):\n",
    "        self.balance+=amount\n",
    "        print(f'{amount} is deposited. New balance is {self.balance}')\n",
    "    def withdraw (self,amount):\n",
    "        if amount > self.balance:\n",
    "            print('Insufficient balance')\n",
    "        else:\n",
    "            self.balance-=amount\n",
    "            print(f'{amount} withdrawn. New balance is {self.balance}')\n",
    "    def get_balance (self):\n",
    "        return self.balance\n",
    "    \n",
    "\n",
    "acc = BankAccount(102042821,50000)\n",
    "acc.deposit(16000)\n",
    "acc.withdraw(10000)\n",
    "acc.get_balance()\n"
   ]
  },
  {
   "cell_type": "code",
   "execution_count": null,
   "id": "b805793c",
   "metadata": {},
   "outputs": [],
   "source": []
  },
  {
   "cell_type": "code",
   "execution_count": 2,
   "id": "b5f81d0d",
   "metadata": {},
   "outputs": [
    {
     "name": "stdout",
     "output_type": "stream",
     "text": [
      "Alice 30 E123\n"
     ]
    }
   ],
   "source": [
    "### Assignment 5: Class Inheritance\n",
    "\n",
    "# Create a base class named `Person` with attributes `name` and `age`. \n",
    "# Create a derived class named `Employee` that inherits from `Person` and adds an attribute `employee_id`.\n",
    "# Create an object of the derived class and print its attributes.\n",
    "class Person:\n",
    "    def __init__(self,name,age):\n",
    "        self.name = name\n",
    "        self.age = age\n",
    "\n",
    "class Employee(Person):\n",
    "    def __init__(self,name,age,employee_id):\n",
    "        super().__init__(name,age)\n",
    "        self.employee_id = employee_id\n",
    "\n",
    "employee = Employee('Alice', 30, 'E123')\n",
    "print(employee.name, employee.age, employee.employee_id)"
   ]
  },
  {
   "cell_type": "code",
   "execution_count": 4,
   "id": "38d22188",
   "metadata": {},
   "outputs": [
    {
     "name": "stdout",
     "output_type": "stream",
     "text": [
      "Employee(Name:keshav,Age:25,Employee_id: 1250)\n"
     ]
    }
   ],
   "source": [
    "### Assignment 6: Method Overriding\n",
    "\n",
    "# In the `Employee` class, override the `__str__` method to return a string representation of the object.\n",
    "# Create an object of the class and print it.\n",
    "class Employee (Person):\n",
    "    def __init__(self,name,age,employee_id):\n",
    "        super().__init__(name,age)\n",
    "        self.employee_id = employee_id\n",
    "\n",
    "    def __str__(self):\n",
    "        return f\"Employee(Name:{self.name},Age:{self.age},Employee_id: {self.employee_id})\"\n",
    "\n",
    "employee = Employee('keshav',25,1250)\n",
    "print(employee)"
   ]
  },
  {
   "cell_type": "code",
   "execution_count": 5,
   "id": "47228328",
   "metadata": {},
   "outputs": [
    {
     "name": "stdout",
     "output_type": "stream",
     "text": [
      "bangali colony new delhi 110045\n"
     ]
    }
   ],
   "source": [
    "### Assignment 7: Class Composition\n",
    "\n",
    "# Create a class named `Address` with attributes `street`, `city`, and `zipcode`.\n",
    "# Create a class named `Person` that has an `Address` object as an attribute.\n",
    "# Create an object of the `Person` class and print its address.\n",
    "\n",
    "class Address:\n",
    "    def __init__(self,street,city,zipcode):\n",
    "        self.street = street\n",
    "        self.city = city\n",
    "        self.zipcode = zipcode\n",
    "\n",
    "class Person:\n",
    "    def __init__(self,name,age,address):\n",
    "        self.name = name\n",
    "        self.age = age\n",
    "        self.address = address\n",
    "\n",
    "address = Address('bangali colony','new delhi','110045')\n",
    "person = Person('keshav sood',25,address)\n",
    "print(person.address.street,person.address.city,person.address.zipcode)"
   ]
  },
  {
   "cell_type": "code",
   "execution_count": null,
   "id": "861b0dda",
   "metadata": {},
   "outputs": [],
   "source": [
    "### Assignment 8: Class with Class Variables\n",
    "\n",
    "# Create a class named `Counter` with a class variable `count`.\n",
    "#  Each time an object is created, increment the count.\n",
    "#  Add a method to get the current count. Create multiple objects and print the count.\n",
    "class Counter:\n",
    "    def __init__(self,count=0):\n",
    "        self.count = count\n",
    "    \n",
    "    \n",
    "    count += 1\n"
   ]
  },
  {
   "cell_type": "code",
   "execution_count": null,
   "id": "6acbff3b",
   "metadata": {},
   "outputs": [],
   "source": [
    "### Assignment 9: Static Methods\n",
    "\n",
    "# Create a class named `MathOperations` with a static method to calculate the square root of a number.\n",
    "#  Call the static method without creating an object.\n"
   ]
  },
  {
   "cell_type": "code",
   "execution_count": null,
   "id": "69abf132",
   "metadata": {},
   "outputs": [],
   "source": [
    "### Assignment 10: Class with Properties\n",
    "\n",
    "# Create a class named `Rectangle` with private attributes `length` and `width`.\n",
    "#  Use properties to get and set these attributes.\n",
    "#  Create an object of the class and test the properties.\n",
    "class Rectangle:\n",
    "    def __init__(self,length,width):\n",
    "        self.length = length\n",
    "        self.width = width\n",
    "    "
   ]
  },
  {
   "cell_type": "code",
   "execution_count": 15,
   "id": "b91eb034",
   "metadata": {},
   "outputs": [
    {
     "name": "stdout",
     "output_type": "stream",
     "text": [
      "The area is :113.03999999999999\n",
      "The area is :64\n"
     ]
    }
   ],
   "source": [
    "### Assignment 11: Abstract Base Class\n",
    "\n",
    "# Create an abstract base class named `Shape` with an abstract method `area`.\n",
    "# Create derived classes `Circle` and `Square` that implement the `area` method. \n",
    "# Create objects of the derived classes and call the `area` method.\n",
    "from abc import ABC,abstractmethod\n",
    "\n",
    "class Shape(ABC):\n",
    "    @abstractmethod\n",
    "    def area(self):\n",
    "        pass\n",
    "    \n",
    "class Circle(Shape):\n",
    "    def __init__(self,radius):\n",
    "        self.radius = radius\n",
    "    def area(self):\n",
    "        return 3.14* self.radius* self.radius\n",
    "\n",
    "class Square(Shape):\n",
    "    def __init__(self,sides):\n",
    "        self.sides = sides\n",
    "    def area (self):\n",
    "        return self.sides**2\n",
    "\n",
    "def print_area(shape):\n",
    "    print(f'The area is :{shape.area()}')\n",
    "\n",
    "# objects\n",
    "circle = Circle(6)\n",
    "square = Square(8)\n",
    "print_area(circle)\n",
    "print_area(square)"
   ]
  },
  {
   "cell_type": "code",
   "execution_count": null,
   "id": "b04a2180",
   "metadata": {},
   "outputs": [],
   "source": [
    "### Assignment 12: Operator Overloading\n",
    "\n",
    "# Create a class named `Vector` with attributes `x` and `y`. \n",
    "# Overload the `+` operator to add two `Vector` objects. \n",
    "# Create objects of the class and test the operator overloading.\n"
   ]
  },
  {
   "cell_type": "code",
   "execution_count": null,
   "id": "51d728a8",
   "metadata": {},
   "outputs": [],
   "source": [
    "### Assignment 13: Class with Custom Exception\n",
    "\n",
    "Create a custom exception named `InsufficientBalanceError`. In the `BankAccount` class, raise this exception when a withdrawal amount is greater than the balance. Handle the exception and print an appropriate message.\n"
   ]
  },
  {
   "cell_type": "code",
   "execution_count": null,
   "id": "407dd46d",
   "metadata": {},
   "outputs": [],
   "source": [
    "### Assignment 14: Class with Context Manager\n",
    "\n",
    "Create a class named `FileManager` that implements the context manager protocol to open and close a file. Use this class to read the contents of a file.\n"
   ]
  },
  {
   "cell_type": "code",
   "execution_count": null,
   "id": "2597c92e",
   "metadata": {},
   "outputs": [],
   "source": [
    "### Assignment 15: Chaining Methods\n",
    "\n",
    "Create a class named `Calculator` with methods to add, subtract, multiply, and divide. Each method should return the object itself to allow method chaining. Create an object and chain multiple method calls."
   ]
  }
 ],
 "metadata": {
  "kernelspec": {
   "display_name": "venv",
   "language": "python",
   "name": "python3"
  },
  "language_info": {
   "codemirror_mode": {
    "name": "ipython",
    "version": 3
   },
   "file_extension": ".py",
   "mimetype": "text/x-python",
   "name": "python",
   "nbconvert_exporter": "python",
   "pygments_lexer": "ipython3",
   "version": "3.12.0"
  }
 },
 "nbformat": 4,
 "nbformat_minor": 5
}
