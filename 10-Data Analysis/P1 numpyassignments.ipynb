{
 "cells": [
  {
   "cell_type": "markdown",
   "metadata": {},
   "source": [
    "# Module: NumPy Assignments\n",
    "## Lesson: NumPy\n",
    "\n"
   ]
  },
  {
   "cell_type": "code",
   "execution_count": 2,
   "metadata": {},
   "outputs": [
    {
     "name": "stdout",
     "output_type": "stream",
     "text": [
      "[[ 6 14 20 17 11]\n",
      " [ 7  4  2 13  7]\n",
      " [10 13 16 17 17]\n",
      " [14  5  9 12 11]\n",
      " [ 7 17  5  1 13]]\n",
      "Original array\n",
      "[[ 6 14  1 17 11]\n",
      " [ 7  4  1 13  7]\n",
      " [10 13  1 17 17]\n",
      " [14  5  1 12 11]\n",
      " [ 7 17  1  1 13]]\n",
      "Manipulated array\n"
     ]
    }
   ],
   "source": [
    "### Assignment 1: Array Creation and Manipulation\n",
    "\n",
    "# 1. Create a NumPy array of shape (5, 5) filled with random integers between 1 and 20.\n",
    "#  Replace all the elements in the third column with 1.\n",
    "\n",
    "\n",
    "import numpy as np\n",
    "import random \n",
    "arr1 =np.random.randint(1,21,size=(5,5))\n",
    "print(arr1)\n",
    "print('Original array')\n",
    "\n",
    "arr1[:,2]=1\n",
    "print(arr1)\n",
    "print('Manipulated array')\n",
    "\n"
   ]
  },
  {
   "cell_type": "code",
   "execution_count": 66,
   "id": "e86d8d08",
   "metadata": {},
   "outputs": [
    {
     "name": "stdout",
     "output_type": "stream",
     "text": [
      "Original array:\n",
      "[[ 1  2  3  4]\n",
      " [ 5  6  7  8]\n",
      " [ 9 10 11 12]\n",
      " [13 14 15 16]]\n",
      "Modified array:\n",
      "[[ 0  2  3  4]\n",
      " [ 5  0  7  8]\n",
      " [ 9 10  0 12]\n",
      " [13 14 15  0]]\n"
     ]
    }
   ],
   "source": [
    "# 2. Create a NumPy array of shape (4, 4) with values from 1 to 16.\n",
    "#  Replace the diagonal elements with 0.\n",
    "arr = np.arange(1,17).reshape(4,4)\n",
    "print('Original array:')\n",
    "print(arr)\n",
    "\n",
    "np.fill_diagonal(arr,0)\n",
    "print('Modified array:')\n",
    "print(arr)"
   ]
  },
  {
   "cell_type": "code",
   "execution_count": 67,
   "id": "5fc858d5",
   "metadata": {},
   "outputs": [
    {
     "name": "stdout",
     "output_type": "stream",
     "text": [
      "Original array\n",
      "[[ 1  2  3  4  5  6]\n",
      " [ 7  8  9 10 11 12]\n",
      " [13 14 15 16 17 18]\n",
      " [19 20 21 22 23 24]\n",
      " [25 26 27 28 29 30]\n",
      " [31 32 33 34 35 36]]\n",
      "Sub-Array\n",
      "[[14 15 16]\n",
      " [20 21 22]\n",
      " [26 27 28]]\n"
     ]
    }
   ],
   "source": [
    "### Assignment 2: Array Indexing and Slicing\n",
    "\n",
    "# 1. Create a NumPy array of shape (6, 6) with values from 1 to 36.\n",
    "#  Extract the sub-array consisting of the 3rd to 5th rows and 2nd to 4th columns.\n",
    "\n",
    "\n",
    "array = np.arange(1,37).reshape(6,6)\n",
    "print('Original array')\n",
    "print(array)\n",
    "\n",
    "sub_array = array[2:5,1:4]\n",
    "print('Sub-Array')\n",
    "print(sub_array)"
   ]
  },
  {
   "cell_type": "code",
   "execution_count": 5,
   "id": "bcbd3f25",
   "metadata": {},
   "outputs": [
    {
     "name": "stdout",
     "output_type": "stream",
     "text": [
      "[[14  2 16  7  5]\n",
      " [ 2  3  1  7  9]\n",
      " [10 20  9 13  4]\n",
      " [19 18  9  1 20]\n",
      " [ 1  8 15  4 17]]\n"
     ]
    },
    {
     "data": {
      "text/plain": [
       "array([14,  2, 16,  7,  5,  1,  8, 15,  4, 17,  2, 10, 19,  9,  4, 20],\n",
       "      dtype=int32)"
      ]
     },
     "execution_count": 5,
     "metadata": {},
     "output_type": "execute_result"
    }
   ],
   "source": [
    "# 2. Create a NumPy array of shape (5, 5) with random integers.\n",
    "#  Extract the elements on the border.\n",
    "arr = np.random.randint(1,21,size=(5,5))\n",
    "print(arr)\n",
    "#print(arr[0:,0])\n",
    "#print(arr[0:,-1])\n",
    "#print(arr[0,:])\n",
    "#print(arr[-1,:])\n",
    "\n",
    "border_elements = np.concatenate((arr[0,:],arr[-1,:],arr[1:-1,0],arr[1:-1,-1]))\n",
    "border_elements"
   ]
  },
  {
   "cell_type": "code",
   "execution_count": 109,
   "id": "80e2dda2",
   "metadata": {},
   "outputs": [
    {
     "name": "stdout",
     "output_type": "stream",
     "text": [
      "[[ 7 20 10  6]\n",
      " [ 7  6 13 20]\n",
      " [14 12 19  2]]\n",
      "[[17 16 20  7]\n",
      " [ 9  6  3 10]\n",
      " [ 7 10  9  4]]\n",
      "Addition: [[24 36 30 13]\n",
      " [16 12 16 30]\n",
      " [21 22 28  6]]\n",
      "Subtraction: [[-10   4 -10  -1]\n",
      " [ -2   0  10  10]\n",
      " [  7   2  10  -2]]\n",
      "Multiplication: [[119 320 200  42]\n",
      " [ 63  36  39 200]\n",
      " [ 98 120 171   8]]\n",
      "division: [[0.41176471 1.25       0.5        0.85714286]\n",
      " [0.77777778 1.         4.33333333 2.        ]\n",
      " [2.         1.2        2.11111111 0.5       ]]\n"
     ]
    }
   ],
   "source": [
    "### Assignment 3: Array Operations\n",
    "\n",
    "#1. Create two NumPy arrays of shape (3, 4) filled with random integers.\n",
    "# Perform element-wise addition, subtraction, multiplication, and division.\n",
    "\n",
    "arr1 = np.random.randint(1,21,size=(3,4))\n",
    "arr2 = np.random.randint(1,21,size=(3,4))\n",
    "print(arr1)\n",
    "print(arr2)\n",
    "addi = np.add(arr1,arr2)\n",
    "print(f'Addition: {addi}')\n",
    "sub = np.subtract(arr1,arr2)\n",
    "print(f'Subtraction: {sub}')\n",
    "mul = np.multiply(arr1,arr2)\n",
    "print(f'Multiplication: {mul}')\n",
    "div = np.divide(arr1,arr2)\n",
    "print(f'division: {div}')\n"
   ]
  },
  {
   "cell_type": "code",
   "execution_count": 114,
   "id": "1a1d17e0",
   "metadata": {},
   "outputs": [
    {
     "name": "stdout",
     "output_type": "stream",
     "text": [
      "Array:\n",
      "[[ 1  2  3  4]\n",
      " [ 5  6  7  8]\n",
      " [ 9 10 11 12]\n",
      " [13 14 15 16]]\n",
      "row-wise sum :[10 26 42 58]\n",
      "col-wise sum: [28 32 36 40]\n"
     ]
    }
   ],
   "source": [
    "#2. Create a NumPy array of shape (4, 4) with values from 1 to 16.\n",
    "# Compute the row-wise and column-wise sum.\n",
    "arr = np.arange(1,17).reshape(4,4)\n",
    "row = np.sum(arr,axis=1)\n",
    "col = np.sum(arr,axis=0)\n",
    "print('Array:')\n",
    "print(arr)\n",
    "print(f'row-wise sum :{row}')\n",
    "print(f'col-wise sum: {col}')"
   ]
  },
  {
   "cell_type": "code",
   "execution_count": 121,
   "id": "f2c2d834",
   "metadata": {},
   "outputs": [
    {
     "name": "stdout",
     "output_type": "stream",
     "text": [
      "Array: [[11  2 20 17 16]\n",
      " [ 2 15  9 16 14]\n",
      " [ 5 19  4 16 14]\n",
      " [ 8  5 20  3  6]\n",
      " [18  8 13  8  6]]\n",
      "Mean: 11.0\n",
      "Median: 11.0\n",
      "standard deviation: 5.837807807730569\n",
      "variance: 34.08\n"
     ]
    }
   ],
   "source": [
    "### Assignment 4: Statistical Operations\n",
    "\n",
    "# 1. Create a NumPy array of shape (5, 5) filled with random integers.\n",
    "#  Compute the mean, median, standard deviation, and variance of the array.\n",
    "arr = np.random.randint(1,21,size= (5,5))\n",
    "print(f'Array: {arr}')\n",
    "print(f'Mean: {np.mean(arr)}')\n",
    "print(f'Median: {np.median(arr)}')\n",
    "print(f'standard deviation: {np.std(arr)}')\n",
    "print(f'variance: {np.var(arr)}')"
   ]
  },
  {
   "cell_type": "code",
   "execution_count": 126,
   "id": "0bc6fa67",
   "metadata": {},
   "outputs": [
    {
     "name": "stdout",
     "output_type": "stream",
     "text": [
      "[[1 2 3]\n",
      " [4 5 6]\n",
      " [7 8 9]]\n",
      "std: 2.581988897471611\n"
     ]
    },
    {
     "data": {
      "text/plain": [
       "array([[-1.54919334, -1.161895  , -0.77459667],\n",
       "       [-0.38729833,  0.        ,  0.38729833],\n",
       "       [ 0.77459667,  1.161895  ,  1.54919334]])"
      ]
     },
     "execution_count": 126,
     "metadata": {},
     "output_type": "execute_result"
    }
   ],
   "source": [
    "# 2. Create a NumPy array of shape (3, 3) with values from 1 to 9.\n",
    "#  Normalize the array (i.e., scale the values to have a mean of 0 and a standard deviation of 1).\n",
    "arr = np.arange(1,10).reshape(3,3)\n",
    "print(arr)\n",
    "mean = np.mean(arr)\n",
    "std_dev = np.std(arr)\n",
    "print(f'std: {std_dev}')\n",
    "normalized_array = (arr -mean)/std_dev\n",
    "normalized_array"
   ]
  },
  {
   "cell_type": "code",
   "execution_count": 130,
   "id": "20942d18",
   "metadata": {},
   "outputs": [
    {
     "name": "stdout",
     "output_type": "stream",
     "text": [
      "2D array: [[ 6  2 16]\n",
      " [ 8  5  5]\n",
      " [18 19  5]]\n",
      "1D array: [13 14  3]\n"
     ]
    },
    {
     "data": {
      "text/plain": [
       "array([[19, 16, 19],\n",
       "       [21, 19,  8],\n",
       "       [31, 33,  8]], dtype=int32)"
      ]
     },
     "execution_count": 130,
     "metadata": {},
     "output_type": "execute_result"
    }
   ],
   "source": [
    "### Assignment 5: Broadcasting\n",
    "\n",
    "# 1. Create a NumPy array of shape (3, 3) filled with random integers. \n",
    "# Add a 1D array of shape (3,) to each row of the 2D array using broadcasting.\n",
    "arr = np.random.randint(1,21,size=(3,3))\n",
    "row_arr = np.random.randint(1,21,size=(3,))\n",
    "print(f'2D array: {arr}')\n",
    "print(f'1D array: {row_arr}')\n",
    "result = arr + row_arr\n",
    "result\n"
   ]
  },
  {
   "cell_type": "code",
   "execution_count": 6,
   "id": "5f5f1b0d",
   "metadata": {},
   "outputs": [
    {
     "name": "stdout",
     "output_type": "stream",
     "text": [
      "arr1:\n",
      "[[20 11 17  2]\n",
      " [ 6 20  5 10]\n",
      " [16  6  9 16]\n",
      " [ 2 16  5 13]]\n",
      "arr2:\n",
      "[7 6 1 1]\n"
     ]
    },
    {
     "data": {
      "text/plain": [
       "array([[13,  4, 10, -5],\n",
       "       [ 0, 14, -1,  4],\n",
       "       [15,  5,  8, 15],\n",
       "       [ 1, 15,  4, 12]], dtype=int32)"
      ]
     },
     "execution_count": 6,
     "metadata": {},
     "output_type": "execute_result"
    }
   ],
   "source": [
    "# 2. Create a NumPy array of shape (4, 4) filled with random integers.\n",
    "#  Subtract a 1D array of shape (4,) from each column of the 2D array using broadcasting.\n",
    "arr1 = np.random.randint(1,21,size=(4,4))\n",
    "arr2 = np.random.randint(1,21,size=(4,))\n",
    "print('arr1:')\n",
    "print(arr1)\n",
    "print('arr2:')\n",
    "print(arr2)\n",
    "result = arr1-arr2[:,np.newaxis]\n",
    "result"
   ]
  },
  {
   "cell_type": "code",
   "execution_count": 9,
   "id": "37d7ffc9",
   "metadata": {},
   "outputs": [
    {
     "name": "stdout",
     "output_type": "stream",
     "text": [
      "[7 6 1 1]\n",
      "[[7]\n",
      " [6]\n",
      " [1]\n",
      " [1]]\n",
      "[[7 6 1 1]]\n"
     ]
    }
   ],
   "source": [
    "# Use of np.newaxis\n",
    "\n",
    "print(arr2)\n",
    "print(arr2[:,np.newaxis])\n",
    "print(arr2[np.newaxis,:])"
   ]
  },
  {
   "cell_type": "code",
   "execution_count": 17,
   "id": "18d9a040",
   "metadata": {},
   "outputs": [
    {
     "name": "stdout",
     "output_type": "stream",
     "text": [
      "Original Matrix\n",
      "[[1 3 2]\n",
      " [4 6 6]\n",
      " [5 4 8]]\n",
      "determinant: -10.000000000000002\n",
      "inverse: [[-2.4  1.6 -0.6]\n",
      " [ 0.2  0.2 -0.2]\n",
      " [ 1.4 -1.1  0.6]]\n",
      "eigenvalues: [13.78686503 -0.43901951  1.65215448]\n"
     ]
    }
   ],
   "source": [
    "### Assignment 6: Linear Algebra\n",
    "\n",
    "# 1. Create a NumPy array of shape (3, 3) representing a matrix.\n",
    "#  Compute its determinant, inverse, and eigenvalues.\n",
    "\n",
    "\n",
    "# Create a Matrix\n",
    "Matrix = np.random.randint(1,10,size=(3,3))\n",
    "print('Original Matrix')\n",
    "print(Matrix)\n",
    "\n",
    "# compute determinant\n",
    "determinant = np.linalg.det(Matrix)\n",
    "print(f'determinant: {determinant}')\n",
    "\n",
    "# compute inverse\n",
    "inverse = np.linalg.inv(Matrix)\n",
    "print(f'inverse: {inverse}')\n",
    "# compute eigenvalues\n",
    "eigenvalues = np.linalg.eigvals(Matrix)\n",
    "print(f'eigenvalues: {eigenvalues}')"
   ]
  },
  {
   "cell_type": "code",
   "execution_count": 22,
   "id": "bea6ba52",
   "metadata": {},
   "outputs": [
    {
     "name": "stdout",
     "output_type": "stream",
     "text": [
      "arr1:\n",
      "[[1 7 1]\n",
      " [9 7 1]]\n",
      "arr2:\n",
      "[[3 6]\n",
      " [4 2]\n",
      " [9 4]]\n",
      "Matrix Multiplication:\n",
      "[[40 24]\n",
      " [64 72]]\n"
     ]
    }
   ],
   "source": [
    "# 2. Create two NumPy arrays of shape (2, 3) and (3, 2).\n",
    "#  Perform matrix multiplication on these arrays.\n",
    "arr1 = np.random.randint(1,11,size=(2,3))\n",
    "arr2 = np.random.randint(1,11,size=(3,2))\n",
    "mul = np.dot(arr1,arr2)\n",
    "print('arr1:')\n",
    "print(arr1)\n",
    "print('arr2:')\n",
    "print(arr2)\n",
    "print('Matrix Multiplication:')\n",
    "print(mul)\n"
   ]
  },
  {
   "cell_type": "code",
   "execution_count": 32,
   "id": "db66c8ed",
   "metadata": {},
   "outputs": [
    {
     "name": "stdout",
     "output_type": "stream",
     "text": [
      "[[1 2 3]\n",
      " [4 5 6]\n",
      " [7 8 9]]\n",
      "[[1 2 3 4 5 6 7 8 9]]\n"
     ]
    },
    {
     "data": {
      "text/plain": [
       "array([[1],\n",
       "       [2],\n",
       "       [3],\n",
       "       [4],\n",
       "       [5],\n",
       "       [6],\n",
       "       [7],\n",
       "       [8],\n",
       "       [9]])"
      ]
     },
     "execution_count": 32,
     "metadata": {},
     "output_type": "execute_result"
    }
   ],
   "source": [
    "### Assignment 7: Advanced Array Manipulation\n",
    "\n",
    "# 1. Create a NumPy array of shape (3, 3) with values from 1 to 9.\n",
    "#  Reshape the array to shape (1, 9) and then to shape (9, 1).\n",
    "\n",
    "arr = np.arange(1,10).reshape(3,3)\n",
    "print(arr)\n",
    "arr= arr.reshape(1,9)\n",
    "print(arr)\n",
    "arr = arr.reshape(9,1)\n",
    "arr"
   ]
  },
  {
   "cell_type": "code",
   "execution_count": 40,
   "id": "b8c48e43",
   "metadata": {},
   "outputs": [
    {
     "name": "stdout",
     "output_type": "stream",
     "text": [
      "Original array:\n",
      "[[ 9  1  2 10 10]\n",
      " [ 5  4  6  8  3]\n",
      " [ 1  8  1  9  5]\n",
      " [ 8  2 10  2  3]\n",
      " [ 8  4 10  2  1]]\n",
      "Flatter_arr:\n",
      "[ 9  1  2 10 10  5  4  6  8  3  1  8  1  9  5  8  2 10  2  3  8  4 10  2\n",
      "  1]\n",
      "reshaped_arr:\n",
      "[[ 9  1  2 10 10]\n",
      " [ 5  4  6  8  3]\n",
      " [ 1  8  1  9  5]\n",
      " [ 8  2 10  2  3]\n",
      " [ 8  4 10  2  1]]\n"
     ]
    }
   ],
   "source": [
    "# 2. Create a NumPy array of shape (5, 5) filled with random integers.\n",
    "#  Flatten the array and then reshape it back to (5, 5).\n",
    "arr = np.random.randint(1,11,size=(5,5))\n",
    "print('Original array:')\n",
    "print(arr)\n",
    "Flatter_arr = arr.flatten()\n",
    "print('Flatter_arr:')\n",
    "print(Flatter_arr)\n",
    "reshaped_arr= Flatter_arr.reshape(5,5)\n",
    "print('reshaped_arr:')\n",
    "print(reshaped_arr)"
   ]
  },
  {
   "cell_type": "code",
   "execution_count": 47,
   "id": "c5169059",
   "metadata": {},
   "outputs": [
    {
     "name": "stdout",
     "output_type": "stream",
     "text": [
      "array:\n",
      "[[ 4  6  8  7  9]\n",
      " [ 1  5  8 10  8]\n",
      " [ 8  8  6  1  8]\n",
      " [ 3  6  1 10  2]\n",
      " [ 4  2  7 10  5]]\n",
      "corners:\n",
      "[4 9 4 5]\n"
     ]
    }
   ],
   "source": [
    "### Assignment 8: Fancy Indexing and Boolean Indexing\n",
    "\n",
    "# 1. Create a NumPy array of shape (5, 5) filled with random integers.\n",
    "#  Use fancy indexing to extract the elements at the corners of the array.\n",
    "\n",
    "arr = np.random.randint(1,11,size=(5,5))\n",
    "print('array:')\n",
    "print(arr)\n",
    "corners = arr[[0,0,-1,-1],[0,-1,0,-1]]\n",
    "print('corners:')\n",
    "print(corners)"
   ]
  },
  {
   "cell_type": "code",
   "execution_count": 57,
   "id": "8928ac95",
   "metadata": {},
   "outputs": [
    {
     "name": "stdout",
     "output_type": "stream",
     "text": [
      "Original array\n",
      "[[17 15 16 13]\n",
      " [14 19 14 12]\n",
      " [ 5 15 13 14]\n",
      " [14  4 19  6]]\n",
      "Modified array:\n",
      "[[10 10 10 10]\n",
      " [10 10 10 10]\n",
      " [ 5 10 10 10]\n",
      " [10  4 10  6]]\n"
     ]
    }
   ],
   "source": [
    "# 2. Create a NumPy array of shape (4, 4) filled with random integers. \n",
    "# Use boolean indexing to set all elements greater than 10 to 10.\n",
    "arr = np.random.randint(1,21,size=(4,4))\n",
    "print('Original array')\n",
    "print(arr)\n",
    "\n",
    "arr[arr>10]=10\n",
    "print('Modified array:')\n",
    "print(arr)"
   ]
  },
  {
   "cell_type": "code",
   "execution_count": 65,
   "id": "69de3671",
   "metadata": {},
   "outputs": [
    {
     "name": "stdout",
     "output_type": "stream",
     "text": [
      "Original array:\n",
      "[('keshav', 25, 70.) ('papa', 52, 85.) ('mummy', 46, 65.)]\n",
      "Sorted array:\n",
      "[('keshav', 25, 70.) ('mummy', 46, 65.) ('papa', 52, 85.)]\n"
     ]
    }
   ],
   "source": [
    "### Assignment 9: Structured Arrays\n",
    "\n",
    "# 1. Create a structured array with fields 'name' (string), 'age' (integer), and 'weight' (float).\n",
    "#  Add some data and sort the array by age.\n",
    "\n",
    "data_type = [('name','U10'),('age','i4'),('weight','f4')]\n",
    "data = np.array([('keshav',25,70),('papa',52,85),('mummy',46,65)],dtype=data_type)\n",
    "print('Original array:')\n",
    "print(data)\n",
    "\n",
    "\n",
    "sorted_data= np.sort(data,order='age')\n",
    "print('Sorted array:')\n",
    "print(sorted_data)"
   ]
  },
  {
   "cell_type": "code",
   "execution_count": 76,
   "id": "8cfb3a4d",
   "metadata": {},
   "outputs": [
    {
     "name": "stdout",
     "output_type": "stream",
     "text": [
      "array:\n",
      "[(1, 2) (3, 4) (5, 6)]\n",
      "Euclidean distance:\n",
      "[[0.         2.82842712 5.65685425]\n",
      " [2.82842712 0.         2.82842712]\n",
      " [5.65685425 2.82842712 0.        ]]\n"
     ]
    }
   ],
   "source": [
    "# 2. Create a structured array with fields 'x' and 'y' (both integers).\n",
    "# Add some data and compute the Euclidean distance between each pair of points.\n",
    "data_type=[('x','i4'),('y','i4')]\n",
    "data = np.array([(1,2),(3,4),(5,6)],dtype=data_type)\n",
    "print('array:')\n",
    "print(data)\n",
    "\n",
    "euclidean = np.sqrt((data['x'][:,np.newaxis]-data['x'])**2 + (data['y'][:,np.newaxis]-data['y'])**2)\n",
    "print('Euclidean distance:')\n",
    "print(euclidean)"
   ]
  },
  {
   "cell_type": "code",
   "execution_count": 88,
   "id": "72e79c23",
   "metadata": {},
   "outputs": [
    {
     "name": "stdout",
     "output_type": "stream",
     "text": [
      "original array:\n",
      "[[ 4 13 11 18]\n",
      " [19 15 14 10]\n",
      " [14 16 19  5]\n",
      " [15 16  4  1]]\n",
      "masked array:\n",
      "[[4 -- -- --]\n",
      " [-- -- -- 10]\n",
      " [-- -- -- 5]\n",
      " [-- -- 4 1]]\n",
      "sum of unmasked array: 24\n"
     ]
    }
   ],
   "source": [
    "### Assignment 10: Masked Arrays\n",
    "\n",
    "# 1. Create a masked array of shape (4, 4) with random integers and\n",
    "#  mask the elements greater than 10.\n",
    "#  Compute the sum of the unmasked elements.\n",
    "import numpy.ma as ma\n",
    "arr = np.random.randint(1,21,size=(4,4))\n",
    "print('original array:')\n",
    "print(arr)\n",
    "masked_arr = ma.masked_greater(arr,10)\n",
    "print('masked array:')\n",
    "print(masked_arr)\n",
    "\n",
    "sum_unmasked = masked_arr.sum()\n",
    "print(f'sum of unmasked array: {sum_unmasked}')"
   ]
  },
  {
   "cell_type": "code",
   "execution_count": 94,
   "id": "43cb1698",
   "metadata": {},
   "outputs": [
    {
     "name": "stdout",
     "output_type": "stream",
     "text": [
      "[[ 2  3  7]\n",
      " [ 8 10  9]\n",
      " [ 8  8  5]]\n",
      "[[-- 3 7]\n",
      " [8 -- 9]\n",
      " [8 8 --]]\n",
      "7.166666666666667\n",
      "[[7 3 7]\n",
      " [8 7 9]\n",
      " [8 8 7]]\n"
     ]
    }
   ],
   "source": [
    "# 2. Create a masked array of shape (3, 3) with random integers and mask the diagonal elements.\n",
    "#  Replace the masked elements with the mean of the unmasked elements.\n",
    "arr= np.random.randint(1,11,size=(3,3))\n",
    "print(arr)\n",
    "masked_arr = ma.masked_array(arr,mask=np.eye(3,dtype=bool))\n",
    "print(masked_arr)\n",
    "mean = masked_arr.mean()\n",
    "print(mean)\n",
    "unmasked_ele = masked_arr.filled(mean)\n",
    "print(unmasked_ele)"
   ]
  },
  {
   "cell_type": "code",
   "execution_count": null,
   "id": "520e1f6e",
   "metadata": {},
   "outputs": [],
   "source": []
  }
 ],
 "metadata": {
  "kernelspec": {
   "display_name": "venv",
   "language": "python",
   "name": "python3"
  },
  "language_info": {
   "codemirror_mode": {
    "name": "ipython",
    "version": 3
   },
   "file_extension": ".py",
   "mimetype": "text/x-python",
   "name": "python",
   "nbconvert_exporter": "python",
   "pygments_lexer": "ipython3",
   "version": "3.12.0"
  }
 },
 "nbformat": 4,
 "nbformat_minor": 5
}
