{
 "cells": [
  {
   "cell_type": "markdown",
   "metadata": {},
   "source": [
    "Generators"
   ]
  },
  {
   "cell_type": "markdown",
   "metadata": {},
   "source": [
    "Generators are a simple way to create iterators. They use the yield keyword to produce a series of values lazily, which means they generate values on the fly and do not store them in memory."
   ]
  },
  {
   "cell_type": "code",
   "execution_count": 20,
   "metadata": {},
   "outputs": [],
   "source": [
    "def square():\n",
    "    for i in range(3):\n",
    "        return f'square of {i} is {i**2}'"
   ]
  },
  {
   "cell_type": "code",
   "execution_count": 21,
   "metadata": {},
   "outputs": [
    {
     "data": {
      "text/plain": [
       "'square of 0 is 0'"
      ]
     },
     "execution_count": 21,
     "metadata": {},
     "output_type": "execute_result"
    }
   ],
   "source": [
    "square()"
   ]
  },
  {
   "cell_type": "code",
   "execution_count": 23,
   "metadata": {},
   "outputs": [],
   "source": [
    "# but I want to iterate through all the elements as we iterate in the iterator itself.\n",
    "# So in generator, when we are creating this kind of iterators, we use an \"yield\" keyword.\n",
    "def square (n):\n",
    "    for i in range (n):\n",
    "        yield i**2\n"
   ]
  },
  {
   "cell_type": "code",
   "execution_count": 24,
   "metadata": {},
   "outputs": [
    {
     "data": {
      "text/plain": [
       "<generator object square at 0x0000018EFF49EF60>"
      ]
     },
     "execution_count": 24,
     "metadata": {},
     "output_type": "execute_result"
    }
   ],
   "source": [
    "square(8)\n",
    "\n",
    "# Its shows a generator object square at this specific memory location."
   ]
  },
  {
   "cell_type": "code",
   "execution_count": 25,
   "metadata": {},
   "outputs": [
    {
     "name": "stdout",
     "output_type": "stream",
     "text": [
      "0\n",
      "1\n",
      "4\n",
      "9\n",
      "16\n",
      "25\n",
      "36\n",
      "49\n",
      "64\n"
     ]
    }
   ],
   "source": [
    "for i in square (9):\n",
    "    print(i)\n",
    "\n",
    "# it will save this first operation at first cell in which i made the square function.\n",
    "# and it will return the value over here and it will print it \n",
    "# and again it will go inside this square \n",
    "# It will go to the next, next value. that is one \n",
    "# and whenever we say yield it is going to save that particular value\n",
    "# and it is also going to return it \n",
    "# and as soon as it is getting returned over here we are also going to print it "
   ]
  },
  {
   "cell_type": "markdown",
   "metadata": {},
   "source": [
    "##### The very importance of yield keyword\n",
    "\n",
    "This yield keyword is specifically it produces a series of values lazily, which means they can generate values on the fly and do not store them in the memory.\n",
    "\n",
    "They are just storing it over here and they are just displaying it, and they are just passing it from the main function or code where it is called.\n",
    "So this clearly shows that how you are able to access it.\n"
   ]
  },
  {
   "cell_type": "code",
   "execution_count": 26,
   "metadata": {},
   "outputs": [
    {
     "data": {
      "text/plain": [
       "<generator object square at 0x0000018EFF49EE90>"
      ]
     },
     "execution_count": 26,
     "metadata": {},
     "output_type": "execute_result"
    }
   ],
   "source": [
    "# So this is one way of calling all the iterator elements.\n",
    "# the other way is that if I go ahead and create variable and store it.\n",
    "a = square (3)\n",
    "a\n",
    "# This become generator object over here at 0x0000020721C37510 location."
   ]
  },
  {
   "cell_type": "code",
   "execution_count": 30,
   "metadata": {},
   "outputs": [
    {
     "ename": "StopIteration",
     "evalue": "",
     "output_type": "error",
     "traceback": [
      "\u001b[1;31m---------------------------------------------------------------------------\u001b[0m",
      "\u001b[1;31mStopIteration\u001b[0m                             Traceback (most recent call last)",
      "Cell \u001b[1;32mIn[30], line 2\u001b[0m\n\u001b[0;32m      1\u001b[0m \u001b[38;5;66;03m# In order to iterate through this, I can again write next of a right\u001b[39;00m\n\u001b[1;32m----> 2\u001b[0m \u001b[38;5;28;43mnext\u001b[39;49m\u001b[43m(\u001b[49m\u001b[43ma\u001b[49m\u001b[43m)\u001b[49m\n",
      "\u001b[1;31mStopIteration\u001b[0m: "
     ]
    }
   ],
   "source": [
    "# In order to iterate through this, I can again write next of a right\n",
    "next(a)"
   ]
  },
  {
   "cell_type": "code",
   "execution_count": 37,
   "metadata": {},
   "outputs": [
    {
     "data": {
      "text/plain": [
       "<generator object my_generator at 0x0000018EFF55AAE0>"
      ]
     },
     "execution_count": 37,
     "metadata": {},
     "output_type": "execute_result"
    }
   ],
   "source": [
    "# This is most amazing thing about generator that we can return multiple yieldvalues also\n",
    "def my_generator():\n",
    "    yield 1\n",
    "    yield 2\n",
    "    yield 3\n",
    "\n",
    "gen = my_generator()\n",
    "gen"
   ]
  },
  {
   "cell_type": "code",
   "execution_count": 35,
   "metadata": {},
   "outputs": [
    {
     "data": {
      "text/plain": [
       "3"
      ]
     },
     "execution_count": 35,
     "metadata": {},
     "output_type": "execute_result"
    }
   ],
   "source": [
    "next(gen)"
   ]
  },
  {
   "cell_type": "code",
   "execution_count": 38,
   "metadata": {},
   "outputs": [
    {
     "name": "stdout",
     "output_type": "stream",
     "text": [
      "1\n",
      "2\n",
      "3\n"
     ]
    }
   ],
   "source": [
    "for val in gen:\n",
    "    print(val)"
   ]
  },
  {
   "cell_type": "code",
   "execution_count": 38,
   "metadata": {},
   "outputs": [],
   "source": [
    "# during the fly all the values are getting generated.\n",
    "# But my entire object is basically created in this particular memory location.\n",
    "# and one by one we can iterate through all the elements through this particular yield keyword"
   ]
  },
  {
   "cell_type": "markdown",
   "metadata": {},
   "source": [
    "Practical Example: Reading Large files\n",
    "\n",
    "Generators are particularly useful for reading large files because they allow you to process one line at a time without loading the entire file into memory."
   ]
  },
  {
   "cell_type": "code",
   "execution_count": 40,
   "metadata": {},
   "outputs": [],
   "source": [
    "# Practical : Large Reading file\n",
    "def read_large_file(file_path):\n",
    "    with open(file_path, 'r') as file:\n",
    "        for line in file:\n",
    "            yield line"
   ]
  },
  {
   "cell_type": "code",
   "execution_count": 42,
   "metadata": {},
   "outputs": [
    {
     "name": "stdout",
     "output_type": "stream",
     "text": [
      "An Introduction to Data Science\n",
      "Data Science is a multidisciplinary field that combines statistics, computer science, and domain knowledge to extract meaningful insights and knowledge from data. With the exponential growth of data in the digital age, data science has become an essential tool for businesses, researchers, and governments to make informed decisions and predict future trends.\n",
      "\n",
      "Key Components of Data Science:\n",
      "Data Collection: This involves gathering data from various sources, such as databases, online platforms, sensors, and other digital means.\n",
      "\n",
      "Data Cleaning and Preparation: Raw data often contains inconsistencies and errors. Cleaning and preparing the data ensures it is suitable for analysis.\n",
      "\n",
      "Data Analysis: Using statistical methods and algorithms, data scientists analyze the data to identify patterns, trends, and relationships.\n",
      "\n",
      "Machine Learning: A subset of artificial intelligence, machine learning involves training algorithms to make predictions or decisions based on the data.\n",
      "\n",
      "Data Visualization: Visualizing data through charts, graphs, and other visual tools helps in communicating insights effectively.\n",
      "\n",
      "Interpretation and Reporting: Interpreting the results and reporting them in a way that stakeholders can understand and act upon.\n",
      "\n",
      "Applications of Data Science:\n",
      "Business: Companies use data science for customer segmentation, fraud detection, inventory management, and personalized marketing.\n",
      "\n",
      "Healthcare: Data science helps in predicting disease outbreaks, improving patient care, and discovering new treatments.\n",
      "\n",
      "Finance: Financial institutions use data science for risk management, stock market analysis, and credit scoring.\n",
      "\n",
      "Government: Policy-making, urban planning, and public health are some areas where data science plays a crucial role.\n",
      "\n",
      "Research: Scientists and researchers use data science to analyze experimental data and validate hypotheses.\n",
      "\n",
      "Data science has transformed how we understand and interact with the world. It empowers organizations to harness the power of data to drive innovation, efficiency, and informed decision-making.\n"
     ]
    }
   ],
   "source": [
    "file_path =  'large_file.txt'\n",
    "\n",
    "for line in read_large_file(file_path):\n",
    "    print(line.strip())"
   ]
  },
  {
   "cell_type": "markdown",
   "metadata": {},
   "source": []
  }
 ],
 "metadata": {
  "kernelspec": {
   "display_name": "venv",
   "language": "python",
   "name": "python3"
  },
  "language_info": {
   "codemirror_mode": {
    "name": "ipython",
    "version": 3
   },
   "file_extension": ".py",
   "mimetype": "text/x-python",
   "name": "python",
   "nbconvert_exporter": "python",
   "pygments_lexer": "ipython3",
   "version": "3.12.0"
  }
 },
 "nbformat": 4,
 "nbformat_minor": 2
}
