{
 "cells": [
  {
   "cell_type": "code",
   "execution_count": 1,
   "metadata": {},
   "outputs": [
    {
     "name": "stdout",
     "output_type": "stream",
     "text": [
      "You are Minor\n"
     ]
    }
   ],
   "source": [
    "age = 16\n",
    "\n",
    "if age >=18:\n",
    "    print('you are eligible for voting')\n",
    "else:\n",
    "    print('You are Minor')"
   ]
  },
  {
   "cell_type": "code",
   "execution_count": 2,
   "metadata": {},
   "outputs": [
    {
     "name": "stdout",
     "output_type": "stream",
     "text": [
      "you are a teenager\n"
     ]
    }
   ],
   "source": [
    "if age<13:\n",
    "    print('hey you are child')\n",
    "elif age<18:\n",
    "    print('you are a teenager')\n",
    "else:\n",
    "    print('you are an adult')"
   ]
  },
  {
   "cell_type": "code",
   "execution_count": 17,
   "metadata": {},
   "outputs": [
    {
     "name": "stdout",
     "output_type": "stream",
     "text": [
      "num is positive\n",
      "num is even\n"
     ]
    }
   ],
   "source": [
    "## Nested conditional statements\n",
    "\n",
    "## Negative, positive , even,odd\n",
    "\n",
    "num = int(input('enter the no. '))\n",
    "\n",
    "if num>=0:\n",
    "    print('num is positive')\n",
    "    if num%2==0:\n",
    "        print('num is even')\n",
    "    else:\n",
    "        print('num is odd')\n",
    "\n",
    "else:\n",
    "    print('num is zero or negative')"
   ]
  },
  {
   "cell_type": "code",
   "execution_count": 3,
   "metadata": {},
   "outputs": [
    {
     "name": "stdout",
     "output_type": "stream",
     "text": [
      "2504 is a leap year\n"
     ]
    }
   ],
   "source": [
    "year = int(input())\n",
    "\n",
    "if year %4 ==0:\n",
    "    if year %100==0:\n",
    "        if year%400==0:\n",
    "            print(f'{year} is a leap year')\n",
    "        else:\n",
    "            print(f'{year} is not a leap year')\n",
    "    else:\n",
    "        print(f'{year} is a leap year')\n",
    "\n",
    "else:\n",
    "    print(f'{year} is not a leap year')"
   ]
  },
  {
   "cell_type": "code",
   "execution_count": 8,
   "metadata": {},
   "outputs": [
    {
     "name": "stdout",
     "output_type": "stream",
     "text": [
      "0\n",
      "1\n",
      "2\n",
      "3\n",
      "4\n"
     ]
    }
   ],
   "source": [
    "count = 0 \n",
    "while count <5:\n",
    "    print(count)\n",
    "    count=count+1"
   ]
  },
  {
   "cell_type": "code",
   "execution_count": 12,
   "metadata": {},
   "outputs": [
    {
     "name": "stdout",
     "output_type": "stream",
     "text": [
      "0\n",
      "1\n",
      "2\n",
      "3\n",
      "4\n"
     ]
    }
   ],
   "source": [
    "## loop control statements\n",
    "## break\n",
    "## the break statement exits the loop permanently\n",
    "\n",
    "for i in range(10):\n",
    "    if i==5:\n",
    "        break\n",
    "    print(i)"
   ]
  },
  {
   "cell_type": "code",
   "execution_count": 7,
   "metadata": {},
   "outputs": [
    {
     "name": "stdout",
     "output_type": "stream",
     "text": [
      "1\n",
      "3\n",
      "5\n",
      "7\n",
      "9\n"
     ]
    }
   ],
   "source": [
    "## continue\n",
    "\n",
    "## the continue statement skips the current iteration and continue with next.\n",
    "\n",
    "for i in range(10):\n",
    "    if i %2==0:\n",
    "        continue\n",
    "    print(i)"
   ]
  },
  {
   "cell_type": "code",
   "execution_count": 5,
   "metadata": {},
   "outputs": [
    {
     "name": "stdout",
     "output_type": "stream",
     "text": [
      "0\n",
      "1\n",
      "2\n",
      "3\n",
      "4\n"
     ]
    }
   ],
   "source": [
    "## pass \n",
    "## the pass statement is a null operation, it does nothing.\n",
    "\n",
    "for i in range(5):\n",
    "    if i ==3:\n",
    "        pass\n",
    "    print(i)"
   ]
  },
  {
   "cell_type": "code",
   "execution_count": 13,
   "metadata": {},
   "outputs": [
    {
     "name": "stdout",
     "output_type": "stream",
     "text": [
      "i:0 and j:0\n",
      "i:0 and j:1\n",
      "i:1 and j:0\n",
      "i:1 and j:1\n",
      "i:2 and j:0\n",
      "i:2 and j:1\n"
     ]
    }
   ],
   "source": [
    "## Nested loops \n",
    "## a loop inside a loop\n",
    "\n",
    "for i in range(3):\n",
    "    for j in range(2):\n",
    "        print(f'i:{i} and j:{j}')"
   ]
  },
  {
   "cell_type": "code",
   "execution_count": 1,
   "metadata": {},
   "outputs": [
    {
     "name": "stdout",
     "output_type": "stream",
     "text": [
      "0\n",
      "1\n",
      "2\n",
      "3\n",
      "4\n"
     ]
    }
   ],
   "source": [
    "## while loop\n",
    "## The while loop continues to execute as long as the condition is True.\n",
    "\n",
    "count = 0\n",
    "while count < 5:\n",
    "    print(count)\n",
    "    count = count+1"
   ]
  },
  {
   "cell_type": "code",
   "execution_count": 4,
   "metadata": {},
   "outputs": [
    {
     "name": "stdout",
     "output_type": "stream",
     "text": [
      "0\n"
     ]
    }
   ],
   "source": [
    "count =0 \n",
    "while count %2==0:\n",
    "    print(count)\n",
    "    count = count +1"
   ]
  },
  {
   "cell_type": "code",
   "execution_count": 8,
   "metadata": {},
   "outputs": [
    {
     "name": "stdout",
     "output_type": "stream",
     "text": [
      "0\n",
      "1\n",
      "2\n",
      "3\n",
      "4\n"
     ]
    }
   ],
   "source": [
    "## Loop control statements\n",
    "\n",
    "## break\n",
    "## The break statements exits the loop prematurely\n",
    "## break statement\n",
    "\n",
    "for i in range(10):\n",
    "    if i ==5:\n",
    "        break\n",
    "    print(i)\n",
    "\n",
    "## 5 came and then automatically we came outside of this particular for loop and after that nothing get printed.\n",
    "## we are exiting from the for loop permanently with the help of break over there.\n"
   ]
  },
  {
   "cell_type": "code",
   "execution_count": 9,
   "metadata": {},
   "outputs": [
    {
     "name": "stdout",
     "output_type": "stream",
     "text": [
      "1\n",
      "3\n",
      "5\n",
      "7\n",
      "9\n"
     ]
    }
   ],
   "source": [
    "## continue\n",
    "## The continue statement skips the current iteration and continues with the next.\n",
    "\n",
    "for i in range(10):\n",
    "    if i % 2==0:\n",
    "        continue\n",
    "    print(i)"
   ]
  },
  {
   "cell_type": "code",
   "execution_count": 10,
   "metadata": {},
   "outputs": [
    {
     "name": "stdout",
     "output_type": "stream",
     "text": [
      "0\n",
      "1\n",
      "2\n",
      "3\n",
      "4\n"
     ]
    }
   ],
   "source": [
    "## pass\n",
    "## The pass statement is a null operation, it does nothing.\n",
    "for i in range(5):\n",
    "    if i==3:\n",
    "        pass ## do nothing just go ahead\n",
    "    print(i)"
   ]
  },
  {
   "cell_type": "code",
   "execution_count": 11,
   "metadata": {},
   "outputs": [
    {
     "name": "stdout",
     "output_type": "stream",
     "text": [
      "sum of first 10 natural no.: 55\n"
     ]
    }
   ],
   "source": [
    "## Examples - Calculate the sum of first n natural no. using a while and for Loop\n",
    "## while loop\n",
    "\n",
    "\n",
    "n =10\n",
    "sum = 0\n",
    "count = 1\n",
    "while count<=10:\n",
    "    sum=sum+count\n",
    "    count=count+1\n",
    "print('sum of first 10 natural no.:', sum)"
   ]
  },
  {
   "cell_type": "code",
   "execution_count": 12,
   "metadata": {},
   "outputs": [
    {
     "name": "stdout",
     "output_type": "stream",
     "text": [
      "55\n"
     ]
    }
   ],
   "source": [
    "n =10\n",
    "sum = 0\n",
    "for i in range (11):\n",
    "    sum=sum+i\n",
    "    \n",
    "print(sum)"
   ]
  },
  {
   "cell_type": "code",
   "execution_count": 14,
   "metadata": {},
   "outputs": [
    {
     "name": "stdout",
     "output_type": "stream",
     "text": [
      "2\n",
      "3\n",
      "5\n",
      "7\n",
      "11\n",
      "13\n",
      "17\n",
      "19\n",
      "23\n",
      "29\n",
      "31\n",
      "37\n",
      "41\n",
      "43\n",
      "47\n",
      "53\n",
      "59\n",
      "61\n",
      "67\n",
      "71\n",
      "73\n",
      "79\n",
      "83\n",
      "89\n",
      "97\n"
     ]
    }
   ],
   "source": [
    "## Example - Prime no. between 1 to 100\n",
    "## (prime no. is something which is divisible by 1 or the no. itself)\n",
    "\n",
    "for num in range(1,101):\n",
    "    if num>1:\n",
    "        for i in range(2,num):\n",
    "            if num%i==0:\n",
    "                break ## if it breaks its just going to outside this particular for loop\n",
    "        else:\n",
    "            print(num) ## we can use else block for for loop  \n",
    "        "
   ]
  },
  {
   "cell_type": "markdown",
   "metadata": {},
   "source": [
    "Conclusion"
   ]
  },
  {
   "cell_type": "markdown",
   "metadata": {},
   "source": [
    "Loops are powerful constructs in python that allow you to execute a block of code multiple times. By understanding and using for and while loops, along with loop control statements like break, continue, and pass, you can handle a wide range of programming tasks efficiently."
   ]
  }
 ],
 "metadata": {
  "kernelspec": {
   "display_name": "Python 3",
   "language": "python",
   "name": "python3"
  },
  "language_info": {
   "codemirror_mode": {
    "name": "ipython",
    "version": 3
   },
   "file_extension": ".py",
   "mimetype": "text/x-python",
   "name": "python",
   "nbconvert_exporter": "python",
   "pygments_lexer": "ipython3",
   "version": "3.12.0"
  }
 },
 "nbformat": 4,
 "nbformat_minor": 2
}
