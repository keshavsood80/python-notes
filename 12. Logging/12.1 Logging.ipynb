{
 "cells": [
  {
   "cell_type": "markdown",
   "metadata": {},
   "source": [
    "Python Logging"
   ]
  },
  {
   "cell_type": "markdown",
   "metadata": {},
   "source": [
    "Logging is a crucial aspect of any application, providing a way to track events, errors and operational information. Python's built in logging module offers a flexible framework for emmiting log messages from python programs.\n",
    "In this lesson, we will cover the basics of logging, including how to configure logging, log levels and best practices for using logging in python applications."
   ]
  },
  {
   "cell_type": "markdown",
   "metadata": {},
   "source": [
    "Logging is very important concept whenever you are creating an end to end project, it is very much necessary. You have to probably log each and every thing that is happening with respect to the execution. \n",
    "whether you are getting warnings,errors,everything needs to be logged \n",
    "some or the other way so that whenever we debug, the entire application will be able to see what kind of errors, if any error is occuring in the application, we will be able to understand it."
   ]
  },
  {
   "cell_type": "code",
   "execution_count": 2,
   "metadata": {},
   "outputs": [],
   "source": [
    "import logging"
   ]
  },
  {
   "cell_type": "code",
   "execution_count": 7,
   "metadata": {},
   "outputs": [
    {
     "name": "stderr",
     "output_type": "stream",
     "text": [
      "DEBUG:root:This is a debug message\n",
      "INFO:root:This is an info message\n",
      "WARNING:root:This is a warning message\n",
      "ERROR:root:This is an error message\n",
      "CRITICAL:root:This is a critical message\n"
     ]
    }
   ],
   "source": [
    "# first of all we need to import logging\n",
    "import logging\n",
    "\n",
    "# whenever we import logging, first of all we need to configure the basic logging settings \n",
    "# basicConfig is a function,and set a level\n",
    "# so lets say that since i am developing the application over here, I will just keep it to debug so\n",
    "# that i am trying to put this particular basic settings to logging.DEBUG\n",
    "# Its just giving an indication hey I am right now yet developing my entire application.\n",
    "\n",
    "\n",
    "# configure the basic logging settings\n",
    "logging.basicConfig(level=logging.DEBUG)\n",
    "# So this is the basic logging settings that you really need to do right now.\n",
    "\n",
    "# Whenever I want to probably do or log messages, so I can go ahead and use different different ways.\n",
    "# log messages with different severity levels\n",
    "logging.debug('This is a debug message')\n",
    "logging.info('This is an info message')\n",
    "logging.warning('This is a warning message')\n",
    "logging.error('This is an error message')\n",
    "logging.critical('This is a critical message')\n",
    "\n",
    "\n",
    "# So once I execute this here you can see that how it is putting all this information.\n",
    "# So I have actually kept this logging.DEBUG as my root level\n"
   ]
  },
  {
   "cell_type": "markdown",
   "metadata": {},
   "source": [
    "Logg Levels\n",
    "\n",
    "Python's logging module has several log levels indicating the severity of events. The default levels are:\n",
    "\n",
    "DEBUG: Detailed information, typically of interest only when diagnosing problems.\n",
    "\n",
    "INFO: Confirmation that things are working as expected.\n",
    "\n",
    "WARNING: An indication that something unexpected happened or indicative of some problem in the near future (eg: 'disk space low'). The software is still working as expected.\n",
    "\n",
    "ERROR: Due to a more serious problem, the software is not been able to perform some function.\n",
    "\n",
    "CRITICAL: A very serious error, indicating that the program itself may be unable to continue running."
   ]
  },
  {
   "cell_type": "code",
   "execution_count": 8,
   "metadata": {},
   "outputs": [
    {
     "name": "stderr",
     "output_type": "stream",
     "text": [
      "DEBUG:root:This is a debug message\n",
      "INFO:root:This is an info message\n",
      "WARNING:root:This is a warning message\n",
      "ERROR:root:This is an error message\n",
      "CRITICAL:root:This is a critical message\n"
     ]
    }
   ],
   "source": [
    "# How the logging messages needs to be displayed\n",
    "\n",
    "# configuring logging\n",
    "\n",
    "# inside this basic config, I can put different diff information (level,format,date format)\n",
    "logging.basicConfig(\n",
    "    level= logging.DEBUG,\n",
    "    format='%(asctime)s-%(name)s-%(levelname)s-%(message)s',\n",
    "    datefmt='%Y-%m-%d %H:%M:%S'\n",
    "    )\n",
    "# I have setup the level format and date format\n",
    "# log messages with different severity levels\n",
    "logging.debug('This is a debug message')\n",
    "logging.info('This is an info message')\n",
    "logging.warning('This is a warning message')\n",
    "logging.error('This is an error message')\n",
    "logging.critical('This is a critical message')\n",
    "\n"
   ]
  },
  {
   "cell_type": "code",
   "execution_count": null,
   "metadata": {},
   "outputs": [],
   "source": [
    "# Below I am getting the debug message with respect to the display.\n",
    "# Now let me do one thing because at the end of the day if we are logging we really need to save it in a file.\n",
    "# Or probably want to log the entire logging details in a seperate file altogether.\n",
    "\n",
    "# so what I will do over here quickly is that I will just go ahead and create a file name.\n",
    "# So for that I will use a parameter which is filename, and filemode."
   ]
  },
  {
   "cell_type": "code",
   "execution_count": 3,
   "metadata": {},
   "outputs": [],
   "source": [
    "logging.basicConfig(\n",
    "    filename='app.log',\n",
    "    filemode='w', # means write in this app.log file.\n",
    "    level= logging.DEBUG,\n",
    "    format='%(asctime)s-%(name)s-%(levelname)s-%(message)s',\n",
    "    datefmt='%Y-%m-%d %H:%M:%S'\n",
    "    )\n",
    "# I have setup the level format and date format\n",
    "\n",
    "# log messages with different severity levels\n",
    "logging.debug('This is a debug message')\n",
    "logging.info('This is an info message')\n",
    "logging.warning('This is a warning message')\n",
    "logging.error('This is an error message')\n",
    "logging.critical('This is a critical message')\n",
    "\n"
   ]
  },
  {
   "cell_type": "code",
   "execution_count": 11,
   "metadata": {},
   "outputs": [],
   "source": [
    "# Now Understand one thing, once you probably do the basic config setting, \n",
    "# I have done that basic congig setting to logging.DEBUG\n",
    "# And again if I try to do the basic config setting, it wont work because previously we have done this kind of setting\n",
    "\n",
    "# So what I will do ? \n",
    "# I will restart my kernel and directly execute this message.\n",
    "# Once I execute it, it is going to create an app.log file and inside this particular file,\n",
    "# you will be able to see that i will be trying to put some information.\n",
    "\n",
    "# this entire log messages with different severity levels all will be getting appended inside this particular file."
   ]
  },
  {
   "cell_type": "code",
   "execution_count": null,
   "metadata": {},
   "outputs": [],
   "source": [
    "# Go and check in explorer, there will be a app.log file, having that logging messages.\n",
    "# and any no. of log messages that i go ahead and write. It should be able to write in that specific file."
   ]
  },
  {
   "cell_type": "code",
   "execution_count": null,
   "metadata": {},
   "outputs": [],
   "source": [
    "# So here you can see any no. based on the execution whatever things you are specifically executing it.\n",
    "# If you are just using this log logging.DEBUG  info warning and whatever messages you really want to\n",
    "# put in the logging file, you will be able to put it.  "
   ]
  },
  {
   "cell_type": "code",
   "execution_count": null,
   "metadata": {},
   "outputs": [],
   "source": []
  },
  {
   "cell_type": "code",
   "execution_count": 4,
   "metadata": {},
   "outputs": [],
   "source": [
    "# created logs folder in logging folder\n",
    "# created logger.py and test.py inside logs folder \n",
    "# copy and paste the configure logging in logger.py"
   ]
  },
  {
   "cell_type": "code",
   "execution_count": 5,
   "metadata": {},
   "outputs": [],
   "source": [
    "# Your date time everything  is basically getting created\n",
    "# Is'nt it amazing?\n",
    "\n",
    "# This is the main funda behind the entire logging mechanism\n",
    "# But always make sure that in logging you have to make sure you have to put your basic config\n",
    "# And now after you put it in one file, you will be able to use it anywhere just by importing it\n",
    "# You can use severity levels like debug error warnings, whatever thing you really want\n",
    "# and you can continue execution"
   ]
  }
 ],
 "metadata": {
  "kernelspec": {
   "display_name": "Python 3",
   "language": "python",
   "name": "python3"
  },
  "language_info": {
   "codemirror_mode": {
    "name": "ipython",
    "version": 3
   },
   "file_extension": ".py",
   "mimetype": "text/x-python",
   "name": "python",
   "nbconvert_exporter": "python",
   "pygments_lexer": "ipython3",
   "version": "3.12.0"
  }
 },
 "nbformat": 4,
 "nbformat_minor": 2
}
