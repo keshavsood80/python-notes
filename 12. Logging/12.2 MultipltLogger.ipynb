{
 "cells": [
  {
   "cell_type": "markdown",
   "metadata": {},
   "source": [
    "Logging with Multiple Loggers"
   ]
  },
  {
   "cell_type": "markdown",
   "metadata": {},
   "source": [
    "You can create multiple loggers for different parts of your application."
   ]
  },
  {
   "cell_type": "code",
   "execution_count": 1,
   "metadata": {},
   "outputs": [],
   "source": [
    "import logging\n",
    "# create a logger for module 1 \n",
    "# In order to create a logger for specific module, I have an in-built function called as getLogger\n",
    "logger1= logging.getLogger(\"module1\")\n",
    "logger1.setLevel(logging.DEBUG)\n",
    "\n",
    "# create a logger for module 2\n",
    "logger2 = logging.getLogger(\"module2\")\n",
    "logger2.setLevel(logging.WARNING)\n",
    "\n",
    "# so whenever I specifically want to use this particular debug logger I can call module1\n",
    "# otherwise module2\n",
    "\n",
    "# configure logging setting\n",
    "logging.basicConfig(\n",
    "    level=logging.DEBUG,\n",
    "    format='%(asctime)s-%(name)s-%(levelname)s-%(message)s',\n",
    "    datefmt='%Y-%m-%d %H:%M:%S'\n",
    "    )"
   ]
  },
  {
   "cell_type": "code",
   "execution_count": 2,
   "metadata": {},
   "outputs": [
    {
     "name": "stderr",
     "output_type": "stream",
     "text": [
      "2024-12-30 19:55:57-module1-DEBUG-This is debug message for module1\n",
      "2024-12-30 19:55:57-module2-WARNING-This is warning message for module2\n",
      "2024-12-30 19:55:57-module2-ERROR-This is an error message\n"
     ]
    }
   ],
   "source": [
    "# log message with different loggers\n",
    "logger1.debug('This is debug message for module1')\n",
    "logger2.warning('This is warning message for module2')\n",
    "logger2.error('This is an error message')"
   ]
  },
  {
   "cell_type": "code",
   "execution_count": 3,
   "metadata": {},
   "outputs": [],
   "source": [
    "# Here in above output , you can see that I am able to use this all modules.\n",
    "# and based on this particular module before it used to come as roots.\n",
    "\n",
    "# In my previous example when we were creating the logs by default, it was coming as root. \n",
    "# Because there we were considering everything as one module.\n",
    "# But here we are defining this particular modules based on the implementation that we are specifically doing.\n",
    "# based on your module or functionality that you are specifically defining"
   ]
  },
  {
   "cell_type": "code",
   "execution_count": null,
   "metadata": {},
   "outputs": [],
   "source": []
  },
  {
   "cell_type": "code",
   "execution_count": null,
   "metadata": {},
   "outputs": [],
   "source": []
  }
 ],
 "metadata": {
  "kernelspec": {
   "display_name": "Python 3",
   "language": "python",
   "name": "python3"
  },
  "language_info": {
   "codemirror_mode": {
    "name": "ipython",
    "version": 3
   },
   "file_extension": ".py",
   "mimetype": "text/x-python",
   "name": "python",
   "nbconvert_exporter": "python",
   "pygments_lexer": "ipython3",
   "version": "3.12.0"
  }
 },
 "nbformat": 4,
 "nbformat_minor": 2
}
