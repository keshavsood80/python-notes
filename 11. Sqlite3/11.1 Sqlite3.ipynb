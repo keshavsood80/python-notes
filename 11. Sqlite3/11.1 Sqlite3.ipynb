{
 "cells": [
  {
   "cell_type": "markdown",
   "metadata": {},
   "source": [
    "SQL and SQLite"
   ]
  },
  {
   "cell_type": "markdown",
   "metadata": {},
   "source": [
    "Sqlite is a lightweight version of SQL without any configuration, you can actually create this particular database and store it in your local system.\n"
   ]
  },
  {
   "cell_type": "code",
   "execution_count": 2,
   "metadata": {},
   "outputs": [],
   "source": [
    "import sqlite3"
   ]
  },
  {
   "cell_type": "code",
   "execution_count": 4,
   "metadata": {},
   "outputs": [
    {
     "data": {
      "text/plain": [
       "<sqlite3.Connection at 0x28e57ff89a0>"
      ]
     },
     "execution_count": 4,
     "metadata": {},
     "output_type": "execute_result"
    }
   ],
   "source": [
    "# connect to an SQlite database\n",
    "connection = sqlite3.connect('example.db')\n",
    "connection\n",
    "# Let see whether my folder location this particular DB file is created\n",
    "# we will be able to store this without any configuration\n",
    "# we will be able to create it in out local system.\n",
    "# so, It will be very handy to work with embedded system altogether."
   ]
  },
  {
   "cell_type": "code",
   "execution_count": 5,
   "metadata": {},
   "outputs": [],
   "source": [
    "# Cursor\n",
    "\n",
    "# Now we will make a cursor object, which will make sure that it will iterate to all the table rows.\n",
    "# So that is the reason , we really need to create a cursor.\n",
    "cursor = connection.cursor()"
   ]
  },
  {
   "cell_type": "code",
   "execution_count": 6,
   "metadata": {},
   "outputs": [],
   "source": [
    "# Create a Table\n",
    "# Now inside a database we need to create a table by using the same cursor object.\n",
    "cursor.execute('''\n",
    "Create table if not Exists employees(\n",
    "    id Integer primary key,\n",
    "    name text not null,\n",
    "    age Integer,\n",
    "    department text\n",
    ")\n",
    "''')\n",
    "# To reduce indentation - press shift + Tab\n",
    "\n",
    "# We also need to commit the changes\n",
    "connection.commit() \n",
    "# its important to write connection before commit because without this commiting will not happen\n"
   ]
  },
  {
   "cell_type": "code",
   "execution_count": 7,
   "metadata": {},
   "outputs": [],
   "source": [
    "# Insert the data in sqlite table\n",
    "cursor.execute('''\n",
    "Insert into employees(name,age,department)\n",
    "               values('keshav',26,'Data Scientist')\n",
    "''')\n",
    "cursor.execute('''\n",
    "Insert into employees(name,age,department)\n",
    "               values('Bob',25,'Engineering')\n",
    "''')\n",
    "cursor.execute('''\n",
    "Insert into employees(name,age,department)\n",
    "               values('Charlie',36,'Finance')\n",
    "''')\n",
    "# commit the changes\n",
    "connection.commit()"
   ]
  },
  {
   "cell_type": "code",
   "execution_count": 9,
   "metadata": {},
   "outputs": [
    {
     "name": "stdout",
     "output_type": "stream",
     "text": [
      "(1, 'keshav', 26, 'Data Scientist')\n",
      "(2, 'Bob', 25, 'Engineering')\n",
      "(3, 'Charlie', 36, 'Finance')\n"
     ]
    }
   ],
   "source": [
    "# Query the data from the table\n",
    "cursor.execute('select * from employees')\n",
    "# after executing it,i get the rows\n",
    "# for rows, i need to use cursor.fetchall\n",
    "# fetchall is a function that we specifically use to get all the records from the select * command\n",
    "rows = cursor.fetchall()\n",
    "\n",
    "# print the Queried data\n",
    "for row in rows:\n",
    "    print(row)"
   ]
  },
  {
   "cell_type": "code",
   "execution_count": 10,
   "metadata": {},
   "outputs": [],
   "source": [
    "# How to create a database - connection = sqlite3.connect('example.db')\n",
    "# How to connect the database\n",
    "# how to iterate all the table rows - cursor = connection.cursor()\n",
    "# How to create a table if that table does not exist -- cursor.execute('''  ** ''')\n",
    "# How you can create and always make sure whenever you execute this kind of command - connection.commit()"
   ]
  },
  {
   "cell_type": "code",
   "execution_count": 11,
   "metadata": {},
   "outputs": [],
   "source": [
    "# Update the data in the table\n",
    "cursor.execute(''' \n",
    "Update employees\n",
    "               set age=25\n",
    "               where name = 'keshav'\n",
    "''')\n",
    "\n",
    "# commit the changes\n",
    "connection.commit()\n",
    "# If you don't commit, you will get an error where you will not be able to see the updated records."
   ]
  },
  {
   "cell_type": "code",
   "execution_count": 13,
   "metadata": {},
   "outputs": [
    {
     "name": "stdout",
     "output_type": "stream",
     "text": [
      "(1, 'keshav', 25, 'Data Scientist')\n",
      "(2, 'Bob', 25, 'Engineering')\n",
      "(3, 'Charlie', 36, 'Finance')\n"
     ]
    }
   ],
   "source": [
    "# Query the data from the table\n",
    "cursor.execute('select * from employees')\n",
    "rows = cursor.fetchall()\n",
    "\n",
    "# print the queried data\n",
    "for row in rows:\n",
    "    print(row)"
   ]
  },
  {
   "cell_type": "code",
   "execution_count": 14,
   "metadata": {},
   "outputs": [
    {
     "data": {
      "text/plain": [
       "<function Connection.commit()>"
      ]
     },
     "execution_count": 14,
     "metadata": {},
     "output_type": "execute_result"
    }
   ],
   "source": [
    "# Delete the data from the table\n",
    "cursor.execute('''Delete from employees\n",
    "               where name=\"Bob\" ''')\n",
    "connection.commit"
   ]
  },
  {
   "cell_type": "code",
   "execution_count": 15,
   "metadata": {},
   "outputs": [
    {
     "name": "stdout",
     "output_type": "stream",
     "text": [
      "(1, 'keshav', 25, 'Data Scientist')\n",
      "(3, 'Charlie', 36, 'Finance')\n"
     ]
    }
   ],
   "source": [
    "cursor.execute('select * from employees')\n",
    "rows = cursor.fetchall()\n",
    "for row in rows:\n",
    "    print(row)"
   ]
  },
  {
   "cell_type": "markdown",
   "metadata": {},
   "source": [
    "Working with Sales data"
   ]
  },
  {
   "cell_type": "code",
   "execution_count": 22,
   "metadata": {},
   "outputs": [],
   "source": [
    "# working with sales data \n",
    "# connect to an sqlite database\n",
    "connection = sqlite3.connect('sales_data.db')\n",
    "cursor = connection.cursor()\n",
    "\n",
    "# Create a table for sales data\n",
    "cursor.execute('''\n",
    "create table if not exists Sales1(\n",
    "               id integer primary key,\n",
    "               date text not null,\n",
    "               product text not null,\n",
    "               sales integer,\n",
    "               region text\n",
    "               )\n",
    "''')\n",
    "\n",
    "# Insert data into sales table\n",
    "sales_data = [\n",
    "    ('2023-01-01','Product1',100,'North'),\n",
    "    ('2023-01-02','Product2',200,'South'),\n",
    "    ('2023-01-03','Product1',150,'east'),\n",
    "    ('2023-01-04','Product3',250,'west'),\n",
    "    ('2023-01-05','Product2',300,'North'),\n",
    "]\n",
    "\n",
    "# connection.commit() will not work because there are so many different records in the sales data\n",
    "# How do I insert so many different cells at once?\n",
    "# Previously you have seen about cursor.execute() and we executed all the insert statement\n",
    "\n",
    "# How you can do the bulk insertion\n",
    "cursor.executemany('''\n",
    "insert into sales1(date,product,sales,region)\n",
    "                   values(?,?,?,?)\n",
    "''',sales_data)\n",
    "# along with this question marks ???? , I know i have to replace this with something else.\n",
    "# I will give it over here sales_data\n",
    "\n",
    "connection.commit()"
   ]
  },
  {
   "cell_type": "code",
   "execution_count": 23,
   "metadata": {},
   "outputs": [
    {
     "name": "stdout",
     "output_type": "stream",
     "text": [
      "(1, '2023-01-01', 'Product1', 100, 'North')\n",
      "(2, '2023-01-02', 'Product2', 200, 'South')\n",
      "(3, '2023-01-03', 'Product1', 150, 'east')\n",
      "(4, '2023-01-04', 'Product3', 250, 'west')\n",
      "(5, '2023-01-05', 'Product2', 300, 'North')\n"
     ]
    }
   ],
   "source": [
    "cursor.execute('select * from sales1')\n",
    "rows = cursor.fetchall()\n",
    "for row in rows:\n",
    "    print(row)"
   ]
  },
  {
   "cell_type": "code",
   "execution_count": 25,
   "metadata": {},
   "outputs": [],
   "source": [
    "# close the connection\n",
    "connection.close()\n",
    "# This is last statement that you can basically use."
   ]
  },
  {
   "cell_type": "code",
   "execution_count": 26,
   "metadata": {},
   "outputs": [
    {
     "ename": "ProgrammingError",
     "evalue": "Cannot operate on a closed database.",
     "output_type": "error",
     "traceback": [
      "\u001b[1;31m---------------------------------------------------------------------------\u001b[0m",
      "\u001b[1;31mProgrammingError\u001b[0m                          Traceback (most recent call last)",
      "Cell \u001b[1;32mIn[26], line 2\u001b[0m\n\u001b[0;32m      1\u001b[0m \u001b[38;5;66;03m# If I do cursor.execute() again it will give error because connection has closed.\u001b[39;00m\n\u001b[1;32m----> 2\u001b[0m \u001b[43mcursor\u001b[49m\u001b[38;5;241;43m.\u001b[39;49m\u001b[43mexecute\u001b[49m\u001b[43m(\u001b[49m\u001b[38;5;124;43m'\u001b[39;49m\u001b[38;5;124;43mselect * from sales1\u001b[39;49m\u001b[38;5;124;43m'\u001b[39;49m\u001b[43m)\u001b[49m\n\u001b[0;32m      3\u001b[0m rows \u001b[38;5;241m=\u001b[39m cursor\u001b[38;5;241m.\u001b[39mfetchall()\n\u001b[0;32m      4\u001b[0m \u001b[38;5;28;01mfor\u001b[39;00m row \u001b[38;5;129;01min\u001b[39;00m rows:\n",
      "\u001b[1;31mProgrammingError\u001b[0m: Cannot operate on a closed database."
     ]
    }
   ],
   "source": [
    "# If I do cursor.execute() again it will give error because connection has closed.\n",
    "cursor.execute('select * from sales1')\n",
    "rows = cursor.fetchall()\n",
    "for row in rows:\n",
    "    print(row)"
   ]
  }
 ],
 "metadata": {
  "kernelspec": {
   "display_name": "venv",
   "language": "python",
   "name": "python3"
  },
  "language_info": {
   "codemirror_mode": {
    "name": "ipython",
    "version": 3
   },
   "file_extension": ".py",
   "mimetype": "text/x-python",
   "name": "python",
   "nbconvert_exporter": "python",
   "pygments_lexer": "ipython3",
   "version": "3.12.0"
  }
 },
 "nbformat": 4,
 "nbformat_minor": 2
}
